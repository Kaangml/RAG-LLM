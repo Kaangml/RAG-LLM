{
 "cells": [
  {
   "cell_type": "markdown",
   "metadata": {
    "id": "TU6DsMABRbJe"
   },
   "source": [
    "##1 Install required libraries\n",
    "\n",
    "Install all the required libraries and helper functions"
   ]
  },
  {
   "cell_type": "code",
   "execution_count": null,
   "metadata": {
    "colab": {
     "base_uri": "https://localhost:8080/"
    },
    "collapsed": true,
    "id": "loqDKFVeRSKp",
    "outputId": "38f091c0-a4c6-482e-fc6c-6d39211f5eb8"
   },
   "outputs": [
    {
     "name": "stdout",
     "output_type": "stream",
     "text": [
      "\u001b[2K     \u001b[90m━━━━━━━━━━━━━━━━━━━━━━━━━━━━━━━━━━━━━━━━\u001b[0m \u001b[32m581.4/581.4 kB\u001b[0m \u001b[31m4.2 MB/s\u001b[0m eta \u001b[36m0:00:00\u001b[0m\n",
      "\u001b[2K     \u001b[90m━━━━━━━━━━━━━━━━━━━━━━━━━━━━━━━━━━━━━━━━\u001b[0m \u001b[32m2.4/2.4 MB\u001b[0m \u001b[31m8.8 MB/s\u001b[0m eta \u001b[36m0:00:00\u001b[0m\n",
      "\u001b[2K     \u001b[90m━━━━━━━━━━━━━━━━━━━━━━━━━━━━━━━━━━━━━━━━\u001b[0m \u001b[32m92.0/92.0 kB\u001b[0m \u001b[31m3.3 MB/s\u001b[0m eta \u001b[36m0:00:00\u001b[0m\n",
      "\u001b[2K     \u001b[90m━━━━━━━━━━━━━━━━━━━━━━━━━━━━━━━━━━━━━━━━\u001b[0m \u001b[32m62.4/62.4 kB\u001b[0m \u001b[31m2.7 MB/s\u001b[0m eta \u001b[36m0:00:00\u001b[0m\n",
      "\u001b[2K     \u001b[90m━━━━━━━━━━━━━━━━━━━━━━━━━━━━━━━━━━━━━━━━\u001b[0m \u001b[32m41.3/41.3 kB\u001b[0m \u001b[31m2.4 MB/s\u001b[0m eta \u001b[36m0:00:00\u001b[0m\n",
      "\u001b[2K     \u001b[90m━━━━━━━━━━━━━━━━━━━━━━━━━━━━━━━━━━━━━━━━\u001b[0m \u001b[32m6.8/6.8 MB\u001b[0m \u001b[31m18.6 MB/s\u001b[0m eta \u001b[36m0:00:00\u001b[0m\n",
      "\u001b[2K     \u001b[90m━━━━━━━━━━━━━━━━━━━━━━━━━━━━━━━━━━━━━━━━\u001b[0m \u001b[32m59.9/59.9 kB\u001b[0m \u001b[31m2.5 MB/s\u001b[0m eta \u001b[36m0:00:00\u001b[0m\n",
      "\u001b[2K     \u001b[90m━━━━━━━━━━━━━━━━━━━━━━━━━━━━━━━━━━━━━━━━\u001b[0m \u001b[32m107.0/107.0 kB\u001b[0m \u001b[31m4.8 MB/s\u001b[0m eta \u001b[36m0:00:00\u001b[0m\n",
      "\u001b[2K     \u001b[90m━━━━━━━━━━━━━━━━━━━━━━━━━━━━━━━━━━━━━━━━\u001b[0m \u001b[32m67.3/67.3 kB\u001b[0m \u001b[31m2.7 MB/s\u001b[0m eta \u001b[36m0:00:00\u001b[0m\n",
      "\u001b[?25h  Installing build dependencies ... \u001b[?25l\u001b[?25hdone\n",
      "  Getting requirements to build wheel ... \u001b[?25l\u001b[?25hdone\n",
      "  Preparing metadata (pyproject.toml) ... \u001b[?25l\u001b[?25hdone\n",
      "\u001b[2K     \u001b[90m━━━━━━━━━━━━━━━━━━━━━━━━━━━━━━━━━━━━━━━━\u001b[0m \u001b[32m283.7/283.7 kB\u001b[0m \u001b[31m25.9 MB/s\u001b[0m eta \u001b[36m0:00:00\u001b[0m\n",
      "\u001b[2K     \u001b[90m━━━━━━━━━━━━━━━━━━━━━━━━━━━━━━━━━━━━━━━━\u001b[0m \u001b[32m1.7/1.7 MB\u001b[0m \u001b[31m34.0 MB/s\u001b[0m eta \u001b[36m0:00:00\u001b[0m\n",
      "\u001b[2K     \u001b[90m━━━━━━━━━━━━━━━━━━━━━━━━━━━━━━━━━━━━━━━━\u001b[0m \u001b[32m67.6/67.6 kB\u001b[0m \u001b[31m6.4 MB/s\u001b[0m eta \u001b[36m0:00:00\u001b[0m\n",
      "\u001b[2K     \u001b[90m━━━━━━━━━━━━━━━━━━━━━━━━━━━━━━━━━━━━━━━━\u001b[0m \u001b[32m141.1/141.1 kB\u001b[0m \u001b[31m14.4 MB/s\u001b[0m eta \u001b[36m0:00:00\u001b[0m\n",
      "\u001b[2K     \u001b[90m━━━━━━━━━━━━━━━━━━━━━━━━━━━━━━━━━━━━━━━━\u001b[0m \u001b[32m75.6/75.6 kB\u001b[0m \u001b[31m7.2 MB/s\u001b[0m eta \u001b[36m0:00:00\u001b[0m\n",
      "\u001b[2K     \u001b[90m━━━━━━━━━━━━━━━━━━━━━━━━━━━━━━━━━━━━━━━━\u001b[0m \u001b[32m71.9/71.9 kB\u001b[0m \u001b[31m7.2 MB/s\u001b[0m eta \u001b[36m0:00:00\u001b[0m\n",
      "\u001b[2K     \u001b[90m━━━━━━━━━━━━━━━━━━━━━━━━━━━━━━━━━━━━━━━━\u001b[0m \u001b[32m53.6/53.6 kB\u001b[0m \u001b[31m6.1 MB/s\u001b[0m eta \u001b[36m0:00:00\u001b[0m\n",
      "\u001b[2K     \u001b[90m━━━━━━━━━━━━━━━━━━━━━━━━━━━━━━━━━━━━━━━━\u001b[0m \u001b[32m77.9/77.9 kB\u001b[0m \u001b[31m7.7 MB/s\u001b[0m eta \u001b[36m0:00:00\u001b[0m\n",
      "\u001b[2K     \u001b[90m━━━━━━━━━━━━━━━━━━━━━━━━━━━━━━━━━━━━━━━━\u001b[0m \u001b[32m58.3/58.3 kB\u001b[0m \u001b[31m6.4 MB/s\u001b[0m eta \u001b[36m0:00:00\u001b[0m\n",
      "\u001b[2K     \u001b[90m━━━━━━━━━━━━━━━━━━━━━━━━━━━━━━━━━━━━━━━━\u001b[0m \u001b[32m46.0/46.0 kB\u001b[0m \u001b[31m4.8 MB/s\u001b[0m eta \u001b[36m0:00:00\u001b[0m\n",
      "\u001b[2K     \u001b[90m━━━━━━━━━━━━━━━━━━━━━━━━━━━━━━━━━━━━━━━━\u001b[0m \u001b[32m52.5/52.5 kB\u001b[0m \u001b[31m5.1 MB/s\u001b[0m eta \u001b[36m0:00:00\u001b[0m\n",
      "\u001b[2K     \u001b[90m━━━━━━━━━━━━━━━━━━━━━━━━━━━━━━━━━━━━━━━━\u001b[0m \u001b[32m130.5/130.5 kB\u001b[0m \u001b[31m8.1 MB/s\u001b[0m eta \u001b[36m0:00:00\u001b[0m\n",
      "\u001b[2K     \u001b[90m━━━━━━━━━━━━━━━━━━━━━━━━━━━━━━━━━━━━━━━━\u001b[0m \u001b[32m341.4/341.4 kB\u001b[0m \u001b[31m23.8 MB/s\u001b[0m eta \u001b[36m0:00:00\u001b[0m\n",
      "\u001b[2K     \u001b[90m━━━━━━━━━━━━━━━━━━━━━━━━━━━━━━━━━━━━━━━━\u001b[0m \u001b[32m3.4/3.4 MB\u001b[0m \u001b[31m40.4 MB/s\u001b[0m eta \u001b[36m0:00:00\u001b[0m\n",
      "\u001b[2K     \u001b[90m━━━━━━━━━━━━━━━━━━━━━━━━━━━━━━━━━━━━━━━━\u001b[0m \u001b[32m1.2/1.2 MB\u001b[0m \u001b[31m42.5 MB/s\u001b[0m eta \u001b[36m0:00:00\u001b[0m\n",
      "\u001b[2K     \u001b[90m━━━━━━━━━━━━━━━━━━━━━━━━━━━━━━━━━━━━━━━━\u001b[0m \u001b[32m130.2/130.2 kB\u001b[0m \u001b[31m655.2 kB/s\u001b[0m eta \u001b[36m0:00:00\u001b[0m\n",
      "\u001b[2K     \u001b[90m━━━━━━━━━━━━━━━━━━━━━━━━━━━━━━━━━━━━━━━━\u001b[0m \u001b[32m307.7/307.7 kB\u001b[0m \u001b[31m21.9 MB/s\u001b[0m eta \u001b[36m0:00:00\u001b[0m\n",
      "\u001b[2K     \u001b[90m━━━━━━━━━━━━━━━━━━━━━━━━━━━━━━━━━━━━━━━━\u001b[0m \u001b[32m86.8/86.8 kB\u001b[0m \u001b[31m7.2 MB/s\u001b[0m eta \u001b[36m0:00:00\u001b[0m\n",
      "\u001b[?25h  Building wheel for pypika (pyproject.toml) ... \u001b[?25l\u001b[?25hdone\n",
      "\u001b[2K     \u001b[90m━━━━━━━━━━━━━━━━━━━━━━━━━━━━━━━━━━━━━━━━\u001b[0m \u001b[32m227.1/227.1 kB\u001b[0m \u001b[31m4.7 MB/s\u001b[0m eta \u001b[36m0:00:00\u001b[0m\n",
      "\u001b[2K     \u001b[90m━━━━━━━━━━━━━━━━━━━━━━━━━━━━━━━━━━━━━━━━\u001b[0m \u001b[32m21.3/21.3 MB\u001b[0m \u001b[31m62.2 MB/s\u001b[0m eta \u001b[36m0:00:00\u001b[0m\n",
      "\u001b[2K     \u001b[90m━━━━━━━━━━━━━━━━━━━━━━━━━━━━━━━━━━━━━━━━\u001b[0m \u001b[32m290.4/290.4 kB\u001b[0m \u001b[31m4.9 MB/s\u001b[0m eta \u001b[36m0:00:00\u001b[0m\n",
      "\u001b[2K     \u001b[90m━━━━━━━━━━━━━━━━━━━━━━━━━━━━━━━━━━━━━━━━\u001b[0m \u001b[32m983.6/983.6 kB\u001b[0m \u001b[31m5.7 MB/s\u001b[0m eta \u001b[36m0:00:00\u001b[0m\n",
      "\u001b[2K     \u001b[90m━━━━━━━━━━━━━━━━━━━━━━━━━━━━━━━━━━━━━━━━\u001b[0m \u001b[32m362.4/362.4 kB\u001b[0m \u001b[31m7.8 MB/s\u001b[0m eta \u001b[36m0:00:00\u001b[0m\n",
      "\u001b[2K     \u001b[90m━━━━━━━━━━━━━━━━━━━━━━━━━━━━━━━━━━━━━━━━\u001b[0m \u001b[32m127.9/127.9 kB\u001b[0m \u001b[31m5.8 MB/s\u001b[0m eta \u001b[36m0:00:00\u001b[0m\n",
      "\u001b[?25h"
     ]
    }
   ],
   "source": [
    "%pip install chromadb --quiet\n",
    "%pip install sentence_transformers --quiet\n",
    "%pip install pypdf --quiet\n",
    "%pip install langchain --quiet\n",
    "%pip install tqdm --quiet\n",
    "\n",
    "import langchain\n",
    "from langchain.text_splitter import RecursiveCharacterTextSplitter\n",
    "from langchain.text_splitter import SentenceTransformersTokenTextSplitter\n",
    "\n",
    "\n",
    "from pypdf import PdfReader\n",
    "\n",
    "from chromadb.config import DEFAULT_TENANT, DEFAULT_DATABASE, Settings\n",
    "from chromadb import Client, PersistentClient\n",
    "from chromadb.utils import embedding_functions\n",
    "\n",
    "import textwrap\n",
    "from IPython.display import display\n",
    "from IPython.display import Markdown\n",
    "def to_markdown(text):\n",
    "  text = text.replace('•', '  *')\n",
    "  return Markdown(textwrap.indent(text, '> ', predicate=lambda _: True))"
   ]
  },
  {
   "cell_type": "markdown",
   "metadata": {
    "id": "dZ595WNn3ccX"
   },
   "source": [
    "## 2 Initialize a Persistent ChromaDB client with a proper Google Drive connection"
   ]
  },
  {
   "cell_type": "code",
   "execution_count": null,
   "metadata": {
    "colab": {
     "base_uri": "https://localhost:8080/"
    },
    "id": "P5Krf5TF8pbg",
    "outputId": "791e5f49-b548-4b30-ce49-30461293720b"
   },
   "outputs": [
    {
     "name": "stdout",
     "output_type": "stream",
     "text": [
      "Mounted at /content/drive\n"
     ]
    }
   ],
   "source": [
    "from google.colab import drive\n",
    "drive.mount('/content/drive')"
   ]
  },
  {
   "cell_type": "code",
   "execution_count": null,
   "metadata": {
    "colab": {
     "base_uri": "https://localhost:8080/"
    },
    "id": "jRLnsJpB8y_Y",
    "outputId": "c57b7cfe-a0bb-4f7f-d833-0b6acccf47e9"
   },
   "outputs": [
    {
     "name": "stdout",
     "output_type": "stream",
     "text": [
      "/content/drive/MyDrive/Colab Notebooks\n"
     ]
    }
   ],
   "source": [
    "%cd drive/MyDrive/'Colab Notebooks'"
   ]
  },
  {
   "cell_type": "code",
   "execution_count": null,
   "metadata": {
    "id": "bohCxC0D9p_P"
   },
   "outputs": [],
   "source": [
    "# Initialize ChromaDB client with Google Drive connection\n",
    "chromaDB_path = '/content/drive/MyDrive/Colab Notebooks/ChromaDBData'\n"
   ]
  },
  {
   "cell_type": "code",
   "execution_count": null,
   "metadata": {
    "id": "rX7s6ZG2clxy"
   },
   "outputs": [],
   "source": [
    "# Check if the chromadb_path exists or not. If so, delete all the files and folders in chromadb_path. But before deleting get the permission from the user.\n",
    "\n",
    "import os\n",
    "import shutil\n",
    "\n",
    "def delete_all_files_and_folders(chromaDB_path):\n",
    "  if os.path.exists(chromaDB_path):\n",
    "    print(f\"The directory '{chromaDB_path}' already exists.\")\n",
    "    permission = input(\"Do you want to delete all the files and folders in this directory? (y/n): \")\n",
    "    if permission == \"y\":\n",
    "      shutil.rmtree(chromaDB_path)\n",
    "      print(f\"All files and folders in '{chromaDB_path}' have been deleted.\")\n",
    "    else:\n",
    "      print(\"No action taken.\")\n",
    "  else:\n",
    "    print(f\"The directory '{chromaDB_path}' does not exist.\")\n",
    "\n"
   ]
  },
  {
   "cell_type": "code",
   "execution_count": null,
   "metadata": {
    "colab": {
     "base_uri": "https://localhost:8080/"
    },
    "id": "SJLnNnXET71j",
    "outputId": "4c7f0216-0556-4784-d488-a625283e3768"
   },
   "outputs": [
    {
     "name": "stdout",
     "output_type": "stream",
     "text": [
      "The directory '/content/drive/MyDrive/Colab Notebooks/ChromaDBData' already exists.\n",
      "Do you want to delete all the files and folders in this directory? (y/n): y\n",
      "All files and folders in '/content/drive/MyDrive/Colab Notebooks/ChromaDBData' have been deleted.\n"
     ]
    }
   ],
   "source": [
    "delete_all_files_and_folders(chromaDB_path)"
   ]
  },
  {
   "cell_type": "markdown",
   "metadata": {
    "id": "_Z7mIpAt-bCS"
   },
   "source": [
    "## 3 Define PersistentClient\n",
    "\n",
    "Let's re-define the **create_chroma_client** function from the previous part so that this time we initialize a **persistent** ChromaDB client:"
   ]
  },
  {
   "cell_type": "code",
   "execution_count": null,
   "metadata": {
    "id": "mo8-L45AAxBy"
   },
   "outputs": [],
   "source": [
    "from chromadb.config import DEFAULT_TENANT, DEFAULT_DATABASE, Settings\n",
    "from chromadb import Client, PersistentClient\n"
   ]
  },
  {
   "cell_type": "code",
   "execution_count": null,
   "metadata": {
    "id": "IFDiy4aw-Z1n"
   },
   "outputs": [],
   "source": [
    "def create_chroma_client(collection_name, embedding_function, chromaDB_path ):\n",
    "  if chromaDB_path is not None:\n",
    "    chroma_client = PersistentClient(path=chromaDB_path,\n",
    "                                     settings=Settings(),\n",
    "                                     tenant=DEFAULT_TENANT,\n",
    "                                     database=DEFAULT_DATABASE,)\n",
    "  else:\n",
    "    chroma_client = Client()\n",
    "\n",
    "  chroma_collection = chroma_client.get_or_create_collection(\n",
    "      collection_name,\n",
    "      embedding_function=embedding_function)\n",
    "\n",
    "  return chroma_client, chroma_collection"
   ]
  },
  {
   "cell_type": "markdown",
   "metadata": {
    "id": "i4z_PaKy34WX"
   },
   "source": [
    "## 4 Create a collection as usual"
   ]
  },
  {
   "cell_type": "code",
   "execution_count": null,
   "metadata": {
    "colab": {
     "base_uri": "https://localhost:8080/",
     "height": 554,
     "referenced_widgets": [
      "40bf27d22d5344ccbdfaa669c4e0e420",
      "42c73015cc1e4c41bd372a1b82b03e33",
      "50550c38444b4921b30189da7f86934e",
      "fc70bd2b8dca497aba469ffbc7202a57",
      "fbcf380f728e4d3e952eb189c5908cf4",
      "c2d8af658994410da9af87fd8e8eed4f",
      "d140c50ec187489b8b174a75e660b77b",
      "40d0363da6614cb2aae2ef0addc20e8a",
      "6f4c2ef24d8e486a8bbd94813af0cdf9",
      "9bf36195e74f48ce9d8afdc60d0f7747",
      "e6c76ea14e0a4558adaa74fb47386336",
      "cb22c79decc3465ba5d1ea442c7d233b",
      "2e7b884700014d769d00b3dffc1b9fad",
      "32490975bf824c629743a2aaf6d482a5",
      "3446beb155884ea9b9b309b0cc30ae17",
      "0982c2ecc72e49ae989cb4c0d5fe0e70",
      "a01cfa66060644f7978e6d5728720eea",
      "bc1b988ba5fa4610b98fc375f467d7c5",
      "7bdd3cdf944942a288f6f0125fa028c8",
      "a6ee06ba3041413793e0d7315265b981",
      "10fe171c9ec040588e55c3932d33a1df",
      "2f796cac49c1480e884fac4ecc3711d7",
      "a6d05a4f333f4f9f8db356b14adb39df",
      "934a94275c614fb485ac7122b1869620",
      "dce4fb7c32434c14bd6d1694d8342ab3",
      "0facbe7086be42d3a20446cbf5971b96",
      "1bad3d530b2c43a9a0b944e2a63160bb",
      "673978732d194b16a68adfa93a3739b2",
      "1fa6bb0ecef64203aaeaa5936bb7c5e5",
      "710041c029bc45cb8b6e53cc09e60b35",
      "d3b5be7707e9479e9ac0e3165217d6cf",
      "5edea54eb74f49ee91ae9adc67073e74",
      "b88c216fd9c340ffae540f2256609611",
      "206edbf8cd5e4ab9a1d08dfe8b225944",
      "a47beacd0f29433ca0698c9ad83e0d18",
      "6e8a561e82404456a4a07e795712bbf9",
      "290db01899d74fa495dc155ab71be700",
      "c69ecb6d24a7455d89aad5cbb12c4870",
      "1337ed7c15fa4c6989b07c36c70d250b",
      "bcecfb80f3574912937f4f70f97f4496",
      "34ceb39d4e1f4155b1cd7026f6584d82",
      "66005da96f364cba90b4d7e4e46c4ec4",
      "03f9c6f94951411390cbbc8831e8b139",
      "3dd7b5c1204947faa58c49e3b59963e9",
      "0a3c25abedcd4164825e7918c2919656",
      "37e2998cc1e54c3ab047f062f925075e",
      "9db12ea4606b48fc9e8ee17bf7bbf9ba",
      "232bf11830254ec7ac047096ee5038b3",
      "36ce5275184e421780d2746d027756d2",
      "9f1f803cdf8c478a99d8b49efa56b501",
      "481ac6818fce439695129c9e2b5fac9d",
      "c47c8d43f86a4eafb8350b8c756eddf1",
      "df9efcf4fffe415ea9ef76726e45ea98",
      "6857b12c149848bca9116a185a8d1fc3",
      "016c918700a84d2187e4454710c6b09a",
      "a3d3cf772fc8440aafe28c4163a1a797",
      "d3cae0a3b53f4a9e987706357015a21b",
      "65430176af9942b7b73e897b6bf868d7",
      "b8479cea3df944058902b72c68fc3a3d",
      "7a2b7ac55bff4a3890e1ac576778eac6",
      "cdad33c6af904013ae4c9aa7a1a8075d",
      "a9ad9a28883f47a3be4a4e66b10aec37",
      "97884fd664e1464a934641a951ed5c57",
      "ea00815745ce4fd0a4472703ab8ee4f6",
      "a9f802818eb34296b314629b58e04bfd",
      "664a92721be442478b21a010d2df4b11",
      "92afd9e76a8843a59019232aba6a6ad2",
      "224879663a67410e89d20993b78eb537",
      "d0f3403454c74f27b3e40edc12682268",
      "84dcda9fae224a4884fb1f7b51d161a7",
      "bc6327ec5e604b409d9e953d8ee52b6e",
      "3b47c9bdcdae48f0bcb5f8d3b829b978",
      "1318bbde849048659830f911204024df",
      "227a538b7deb4257a98fcfd739667e78",
      "9a913b0af74645dab7125e1e3321429e",
      "47d82e54a28843fe9528c1c909773729",
      "e6be582cb5b5477ea67c91a2fcf3d82a",
      "6d54c63b91f04dc5b658b05b5085a0f2",
      "c54c40e8deea421787513747c778fbef",
      "5fa951273dea4315bdc61f0a867f9a24",
      "0a9efe67ed914879a8438f0b1c921d7f",
      "3582132b1bd44974b43de925c1570b92",
      "45fe77d8f4e5488bac860ff8b887d314",
      "420c43c3c72243b6b0d336391d38dc22",
      "8dc9796f2f35453da55c1650d15c5f73",
      "8a7655fa6b764932a8aabca34eaf6b7d",
      "a3513bae071540f4bf34afa01e508b56",
      "686b14072e33490b86244a1fc3529390",
      "3209ab538240486aad1309b90570c8ee",
      "be6f06a47e3a463d925330f3fc30a5d9",
      "74d7e0b726cc491baba2f7217243e786",
      "0105411337ae41d79c8630914efa7c81",
      "e38519030900491c9fe643a394bc26a8",
      "82bf219f135a400fa172deab72507a02",
      "380bb3b019a6405d88ede22f252b220d",
      "b155af46fc8f462ba73313654f75ba21",
      "6839f3501c764692b8d1d88ea2728165",
      "3f4086250ca649e8a244af0713a82315",
      "a0a50d75948c45a8adbef8f89b2e2464",
      "e4daefed1aa54d139fc2c161702f2d02",
      "09daae222515465885ed04c2bd957918",
      "39157124a8f041e3a109e080aeb6d4e8",
      "d317b98a0c9849999d50cc20adbce976",
      "53acaeb8389348cd8f78808cbf2e2f40",
      "95e8f203527c49d1aee827f73df3231a",
      "c689c36d0e9c4fc0a5e98415876e00ba",
      "d5c4e2de8b8c45409ac4f2e0e674df45",
      "5984f64749574a1daee22a0d94a64056",
      "70f18b4a96004498bfc930ff4931d815",
      "506579f812c84d6cbfbd5790077d92c8",
      "917f676953cc434fb5ad4cf4558c68ec",
      "9c7235b3a3724ad994e6951688368f35",
      "e823d1cb86d0428fa02aeb1fb941f21c",
      "998907c412b14c39849077da4d289b40",
      "bc49c310c6e841b695a227f5cb33492b",
      "93a4b7e7574a46b6a89c5ebb64e7064f",
      "f8bc3543a2684f30b551e37a5e35a361",
      "1e1a8caa172e4e7ea6e44c4ce96c43d9",
      "15be4ee0b196405b943cacf1cbfb22d3",
      "26bd17c84bc143beb38fa5649aa2ba44",
      "fbbab81714594aadaeab6942b1d4a1ba",
      "ee130cb2f47f4309adeeab6919c8ee57",
      "9a56e398eaae4fed8a8af13b76f4c86b",
      "64860e2ae9e047d8ac148d676146907c",
      "762e0183a9f442b0b8ddd3026f7579df",
      "208bc1e5a1344bb297f342c728a6489f",
      "07534e6f12cd42f6a5b8beb2fbfe4d9e",
      "3969563f57d24ef68a27af0a28ab8329",
      "82429168be944459a8dc2f477a588f68",
      "0088c3b13d914d7295c5eaa660d83c19",
      "41c3e6e122fc4f9587ee101677032544",
      "cfe445bf10754e5a8a2c558fcce46f7d",
      "4dc84830842642f391f46afffa1760f0",
      "937fa12c09ae460db8d75c9aa5418a36",
      "2da40c0124a645278a5c1f922a15dde5",
      "37e3c681dd4d45f383836e828e3ecaef",
      "a13bd16723724d9883e212fa84b33374",
      "ad6b4bfa167d4dc19276267084c7a434",
      "5bc6e134ce5e436f864f8b702984e0b0",
      "6c1fb35760564a78912ce84a535b2c4b",
      "b65ba9645c29456a86f7891131d25eb8",
      "6fddf5adb2144187bb9b6a598c1dd722",
      "41d70b426ae64931a9f530f64081da3a",
      "a241dc821c9842cbb38fd9d28bd6380c",
      "36bc0c2efe23484a9a359efb9a11d643",
      "88ca3435b2c74300ad7cf1a1fc41dfff",
      "402ef42fd3c94ae393b50d24c5ffde13",
      "b56abed3bff1448d88fe05bec5691371",
      "57e042a4f51f4ac68e02a015567a4035",
      "513451b7b09f4ed78ad87753f8f608c9",
      "2061235b834041e4ac6ed7d44f87c8cc",
      "9cae80e14e4d4f48a83638b94436e894",
      "6a02d2581bbb4f2cab26967f72c99c13",
      "32365e86dcc443c5828eefde7c8e041d"
     ]
    },
    "id": "TOrsU6-nSOD_",
    "outputId": "e247c5de-54b5-4920-d173-ac12397413d1"
   },
   "outputs": [
    {
     "name": "stderr",
     "output_type": "stream",
     "text": [
      "/usr/local/lib/python3.10/dist-packages/sentence_transformers/cross_encoder/CrossEncoder.py:11: TqdmExperimentalWarning: Using `tqdm.autonotebook.tqdm` in notebook mode. Use `tqdm.tqdm` instead to force console mode (e.g. in jupyter console)\n",
      "  from tqdm.autonotebook import tqdm, trange\n"
     ]
    },
    {
     "data": {
      "application/vnd.jupyter.widget-view+json": {
       "model_id": "40bf27d22d5344ccbdfaa669c4e0e420",
       "version_major": 2,
       "version_minor": 0
      },
      "text/plain": [
       "modules.json:   0%|          | 0.00/341 [00:00<?, ?B/s]"
      ]
     },
     "metadata": {},
     "output_type": "display_data"
    },
    {
     "data": {
      "application/vnd.jupyter.widget-view+json": {
       "model_id": "cb22c79decc3465ba5d1ea442c7d233b",
       "version_major": 2,
       "version_minor": 0
      },
      "text/plain": [
       "config_sentence_transformers.json:   0%|          | 0.00/122 [00:00<?, ?B/s]"
      ]
     },
     "metadata": {},
     "output_type": "display_data"
    },
    {
     "data": {
      "application/vnd.jupyter.widget-view+json": {
       "model_id": "a6d05a4f333f4f9f8db356b14adb39df",
       "version_major": 2,
       "version_minor": 0
      },
      "text/plain": [
       "README.md:   0%|          | 0.00/2.47k [00:00<?, ?B/s]"
      ]
     },
     "metadata": {},
     "output_type": "display_data"
    },
    {
     "data": {
      "application/vnd.jupyter.widget-view+json": {
       "model_id": "206edbf8cd5e4ab9a1d08dfe8b225944",
       "version_major": 2,
       "version_minor": 0
      },
      "text/plain": [
       "sentence_bert_config.json:   0%|          | 0.00/53.0 [00:00<?, ?B/s]"
      ]
     },
     "metadata": {},
     "output_type": "display_data"
    },
    {
     "name": "stderr",
     "output_type": "stream",
     "text": [
      "/usr/local/lib/python3.10/dist-packages/huggingface_hub/file_download.py:1132: FutureWarning: `resume_download` is deprecated and will be removed in version 1.0.0. Downloads always resume when possible. If you want to force a new download, use `force_download=True`.\n",
      "  warnings.warn(\n"
     ]
    },
    {
     "data": {
      "application/vnd.jupyter.widget-view+json": {
       "model_id": "0a3c25abedcd4164825e7918c2919656",
       "version_major": 2,
       "version_minor": 0
      },
      "text/plain": [
       "config.json:   0%|          | 0.00/556 [00:00<?, ?B/s]"
      ]
     },
     "metadata": {},
     "output_type": "display_data"
    },
    {
     "data": {
      "application/vnd.jupyter.widget-view+json": {
       "model_id": "a3d3cf772fc8440aafe28c4163a1a797",
       "version_major": 2,
       "version_minor": 0
      },
      "text/plain": [
       "model.safetensors:   0%|          | 0.00/539M [00:00<?, ?B/s]"
      ]
     },
     "metadata": {},
     "output_type": "display_data"
    },
    {
     "data": {
      "application/vnd.jupyter.widget-view+json": {
       "model_id": "92afd9e76a8843a59019232aba6a6ad2",
       "version_major": 2,
       "version_minor": 0
      },
      "text/plain": [
       "tokenizer_config.json:   0%|          | 0.00/452 [00:00<?, ?B/s]"
      ]
     },
     "metadata": {},
     "output_type": "display_data"
    },
    {
     "data": {
      "application/vnd.jupyter.widget-view+json": {
       "model_id": "6d54c63b91f04dc5b658b05b5085a0f2",
       "version_major": 2,
       "version_minor": 0
      },
      "text/plain": [
       "vocab.txt:   0%|          | 0.00/996k [00:00<?, ?B/s]"
      ]
     },
     "metadata": {},
     "output_type": "display_data"
    },
    {
     "data": {
      "application/vnd.jupyter.widget-view+json": {
       "model_id": "3209ab538240486aad1309b90570c8ee",
       "version_major": 2,
       "version_minor": 0
      },
      "text/plain": [
       "tokenizer.json:   0%|          | 0.00/1.96M [00:00<?, ?B/s]"
      ]
     },
     "metadata": {},
     "output_type": "display_data"
    },
    {
     "data": {
      "application/vnd.jupyter.widget-view+json": {
       "model_id": "e4daefed1aa54d139fc2c161702f2d02",
       "version_major": 2,
       "version_minor": 0
      },
      "text/plain": [
       "special_tokens_map.json:   0%|          | 0.00/112 [00:00<?, ?B/s]"
      ]
     },
     "metadata": {},
     "output_type": "display_data"
    },
    {
     "data": {
      "application/vnd.jupyter.widget-view+json": {
       "model_id": "917f676953cc434fb5ad4cf4558c68ec",
       "version_major": 2,
       "version_minor": 0
      },
      "text/plain": [
       "1_Pooling/config.json:   0%|          | 0.00/190 [00:00<?, ?B/s]"
      ]
     },
     "metadata": {},
     "output_type": "display_data"
    },
    {
     "data": {
      "application/vnd.jupyter.widget-view+json": {
       "model_id": "ee130cb2f47f4309adeeab6919c8ee57",
       "version_major": 2,
       "version_minor": 0
      },
      "text/plain": [
       "2_Dense/config.json:   0%|          | 0.00/114 [00:00<?, ?B/s]"
      ]
     },
     "metadata": {},
     "output_type": "display_data"
    },
    {
     "data": {
      "application/vnd.jupyter.widget-view+json": {
       "model_id": "4dc84830842642f391f46afffa1760f0",
       "version_major": 2,
       "version_minor": 0
      },
      "text/plain": [
       "model.safetensors:   0%|          | 0.00/1.58M [00:00<?, ?B/s]"
      ]
     },
     "metadata": {},
     "output_type": "display_data"
    },
    {
     "data": {
      "application/vnd.jupyter.widget-view+json": {
       "model_id": "a241dc821c9842cbb38fd9d28bd6380c",
       "version_major": 2,
       "version_minor": 0
      },
      "text/plain": [
       "pytorch_model.bin:   0%|          | 0.00/1.58M [00:00<?, ?B/s]"
      ]
     },
     "metadata": {},
     "output_type": "display_data"
    }
   ],
   "source": [
    "collection_name = \"Papers\"\n",
    "sentence_transformer_model=\"distiluse-base-multilingual-cased-v1\"\n",
    "embedding_function= embedding_functions.SentenceTransformerEmbeddingFunction(\n",
    "    model_name=sentence_transformer_model)\n"
   ]
  },
  {
   "cell_type": "code",
   "execution_count": null,
   "metadata": {
    "id": "pN-vX46885Tb"
   },
   "outputs": [],
   "source": [
    "chroma_client, chroma_collection = create_chroma_client(collection_name,\n",
    "                                                        embedding_function,\n",
    "                                                        chromaDB_path)"
   ]
  },
  {
   "cell_type": "markdown",
   "metadata": {
    "id": "DU8ot87UMYMt"
   },
   "source": [
    "### Check the created collection:"
   ]
  },
  {
   "cell_type": "code",
   "execution_count": null,
   "metadata": {
    "colab": {
     "base_uri": "https://localhost:8080/"
    },
    "id": "j1kr0pgfMQjT",
    "outputId": "88f9ee2f-6457-45ef-9152-81829cff7fbf"
   },
   "outputs": [
    {
     "name": "stdout",
     "output_type": "stream",
     "text": [
      "Collection name: Papers\n",
      "Number of documents in collection: 0\n",
      "All collections in ChromaDB client:\n",
      "Papers\n"
     ]
    }
   ],
   "source": [
    "# Verify collection properties\n",
    "print(f\"Collection name: {chroma_collection.name}\")\n",
    "print(f\"Number of documents in collection: {chroma_collection.count()}\")\n",
    "\n",
    "# List all collections in the client\n",
    "print(\"All collections in ChromaDB client:\")\n",
    "for collection in chroma_client.list_collections():\n",
    "    print(collection.name)"
   ]
  },
  {
   "cell_type": "markdown",
   "metadata": {
    "id": "hQFAEwB2TYO_"
   },
   "source": [
    "## 5 Define helper functions"
   ]
  },
  {
   "cell_type": "code",
   "execution_count": null,
   "metadata": {
    "id": "miZpcDP7S5yM"
   },
   "outputs": [],
   "source": [
    "from google.colab import files\n",
    "def upload_multiple_files():\n",
    "  uploaded = files.upload()\n",
    "  file_names = list()\n",
    "  for fn in uploaded.keys():\n",
    "    #print('User uploaded file \"{name}\" with length {length} bytes'.format(name=fn, length=len(uploaded[fn])))\n",
    "    file_names.append(fn)\n",
    "  return file_names"
   ]
  },
  {
   "cell_type": "code",
   "execution_count": null,
   "metadata": {
    "id": "6Qf8RKItTSp9"
   },
   "outputs": [],
   "source": [
    "def convert_PDF_Text(pdf_path):\n",
    "  reader = PdfReader(pdf_path)\n",
    "  pdf_texts = [p.extract_text().strip() for p in reader.pages]\n",
    "  # Filter the empty strings\n",
    "  pdf_texts = [text for text in pdf_texts if text]\n",
    "  print(\"Document: \",pdf_path,\" chunk size: \", len(pdf_texts))\n",
    "  return pdf_texts"
   ]
  },
  {
   "cell_type": "code",
   "execution_count": null,
   "metadata": {
    "id": "irVYmZf9T4Lc"
   },
   "outputs": [],
   "source": [
    "def convert_Page_ChunkinChar(pdf_texts, chunk_size = 1500, chunk_overlap=0 ):\n",
    "  character_splitter = RecursiveCharacterTextSplitter(\n",
    "      separators=[\"\\n\\n\", \"\\n\", \". \", \" \", \"\"],\n",
    "      chunk_size=1500,\n",
    "      chunk_overlap=0\n",
    ")\n",
    "  character_split_texts = character_splitter.split_text('\\n\\n'.join(pdf_texts))\n",
    "  print(f\"\\nTotal number of chunks (document splited by max char = 1500): \\\n",
    "        {len(character_split_texts)}\")\n",
    "  return character_split_texts"
   ]
  },
  {
   "cell_type": "code",
   "execution_count": null,
   "metadata": {
    "id": "ejyPbZG6ULBR"
   },
   "outputs": [],
   "source": [
    "def convert_Chunk_Token(text_chunksinChar,sentence_transformer_model, chunk_overlap=0,tokens_per_chunk=128 ):\n",
    "  token_splitter = SentenceTransformersTokenTextSplitter(\n",
    "      chunk_overlap=0,\n",
    "      model_name=sentence_transformer_model,\n",
    "      tokens_per_chunk=128)\n",
    "\n",
    "  text_chunksinTokens = []\n",
    "  for text in text_chunksinChar:\n",
    "      text_chunksinTokens += token_splitter.split_text(text)\n",
    "  print(f\"\\nTotal number of chunks (document splited by 128 tokens per chunk):\\\n",
    "       {len(text_chunksinTokens)}\")\n",
    "  return text_chunksinTokens"
   ]
  },
  {
   "cell_type": "code",
   "execution_count": null,
   "metadata": {
    "id": "Ag7EWuVRU10F"
   },
   "outputs": [],
   "source": [
    "def add_meta_data(text_chunksinTokens, title, category, initial_id):\n",
    "  ids = [str(i+initial_id) for i in range(len(text_chunksinTokens))]\n",
    "  metadata = {\n",
    "      'document': title,\n",
    "      'category': category\n",
    "  }\n",
    "  metadatas = [ metadata for i in range(len(text_chunksinTokens))]\n",
    "  return ids, metadatas"
   ]
  },
  {
   "cell_type": "code",
   "execution_count": null,
   "metadata": {
    "id": "txJWVJPBVMMM"
   },
   "outputs": [],
   "source": [
    "def add_document_to_collection(ids, metadatas, text_chunksinTokens, chroma_collection):\n",
    "  print(\"Before inserting, the size of the collection: \", chroma_collection.count())\n",
    "  chroma_collection.add(ids=ids, metadatas= metadatas, documents=text_chunksinTokens)\n",
    "  print(\"After inserting, the size of the collection: \", chroma_collection.count())\n",
    "  return chroma_collection"
   ]
  },
  {
   "cell_type": "code",
   "execution_count": null,
   "metadata": {
    "id": "SGVfxSvkZEvD"
   },
   "outputs": [],
   "source": [
    "def retrieveDocs(chroma_collection, query, n_results=5, return_only_docs=False):\n",
    "    results = chroma_collection.query(query_texts=[query],\n",
    "                                      include= [ \"documents\",\"metadatas\",'distances' ],\n",
    "                                      n_results=n_results)\n",
    "\n",
    "    if return_only_docs:\n",
    "        return results['documents'][0]\n",
    "    else:\n",
    "        return results"
   ]
  },
  {
   "cell_type": "code",
   "execution_count": null,
   "metadata": {
    "id": "E2IwDowkZLvK"
   },
   "outputs": [],
   "source": [
    "def show_results(results, return_only_docs=False):\n",
    "\n",
    "  if return_only_docs:\n",
    "    retrieved_documents = results\n",
    "    if len(retrieved_documents) == 0:\n",
    "      print(\"No results found.\")\n",
    "      return\n",
    "    for i, doc in enumerate(retrieved_documents):\n",
    "      print(f\"Document {i+1}:\")\n",
    "      print(\"\\tDocument Text: \")\n",
    "      display(to_markdown(doc));\n",
    "  else:\n",
    "\n",
    "      retrieved_documents = results['documents'][0]\n",
    "      if len(retrieved_documents) == 0:\n",
    "          print(\"No results found.\")\n",
    "          return\n",
    "      retrieved_documents_metadata = results['metadatas'][0]\n",
    "      retrieved_documents_distances = results['distances'][0]\n",
    "      print(\"------- retreived documents -------\\n\")\n",
    "\n",
    "      for i, doc in enumerate(retrieved_documents):\n",
    "          print(f\"Document {i+1}:\")\n",
    "          print(\"\\tDocument Text: \")\n",
    "          display(to_markdown(doc));\n",
    "          print(f\"\\tDocument Source: {retrieved_documents_metadata[i]['document']}\")\n",
    "          print(f\"\\tDocument Source Type: {retrieved_documents_metadata[i]['category']}\")\n",
    "          print(f\"\\tDocument Distance: {retrieved_documents_distances[i]}\")\n"
   ]
  },
  {
   "cell_type": "code",
   "execution_count": null,
   "metadata": {
    "id": "U_Dy4QIcCSqi"
   },
   "outputs": [],
   "source": [
    "def load_multiple_pdfs_to_ChromaDB(collection_name,sentence_transformer_model,\n",
    "                                   chromaDB_path):\n",
    "\n",
    "  collection_name= collection_name\n",
    "  category= \"Journal Paper\"\n",
    "  sentence_transformer_model=sentence_transformer_model\n",
    "  embedding_function= embedding_functions.SentenceTransformerEmbeddingFunction(model_name=sentence_transformer_model)\n",
    "  chroma_client, chroma_collection = create_chroma_client(collection_name, embedding_function, chromaDB_path)\n",
    "  current_id = chroma_collection.count()\n",
    "  file_names = upload_multiple_files()\n",
    "  for file_name in file_names:\n",
    "    print(f\"Document: {file_name} is being processed to be added to the {chroma_collection.name} {chroma_collection.count()}\")\n",
    "    print(f\"current_id: {current_id} \")\n",
    "    pdf_texts = convert_PDF_Text(file_name)\n",
    "    text_chunksinChar = convert_Page_ChunkinChar(pdf_texts)\n",
    "    text_chunksinTokens = convert_Chunk_Token(text_chunksinChar,sentence_transformer_model)\n",
    "    ids,metadatas = add_meta_data(text_chunksinTokens,file_name,category, current_id)\n",
    "    current_id = current_id + len(text_chunksinTokens)\n",
    "    chroma_collection = add_document_to_collection(ids, metadatas, text_chunksinTokens, chroma_collection)\n",
    "    print(f\"Document: {file_name} added to the collection: {chroma_collection.count()}\")\n",
    "  return  chroma_client, chroma_collection"
   ]
  },
  {
   "cell_type": "markdown",
   "metadata": {
    "id": "_P7eumIj4VoB"
   },
   "source": [
    "## 6 Upload Multiple Documents and Create Knowledge Base\n",
    "\n",
    "Run load_multiple_pdfs_to_ChromaDB() to fill in the colection"
   ]
  },
  {
   "cell_type": "code",
   "execution_count": null,
   "metadata": {
    "colab": {
     "base_uri": "https://localhost:8080/",
     "height": 1000
    },
    "id": "nJL5leeq8yd_",
    "outputId": "f63d1892-69c0-401c-f158-4c84ee4d39fb"
   },
   "outputs": [
    {
     "data": {
      "text/html": [
       "\n",
       "     <input type=\"file\" id=\"files-6b192d87-1ae5-45a0-8306-a0467e11ed22\" name=\"files[]\" multiple disabled\n",
       "        style=\"border:none\" />\n",
       "     <output id=\"result-6b192d87-1ae5-45a0-8306-a0467e11ed22\">\n",
       "      Upload widget is only available when the cell has been executed in the\n",
       "      current browser session. Please rerun this cell to enable.\n",
       "      </output>\n",
       "      <script>// Copyright 2017 Google LLC\n",
       "//\n",
       "// Licensed under the Apache License, Version 2.0 (the \"License\");\n",
       "// you may not use this file except in compliance with the License.\n",
       "// You may obtain a copy of the License at\n",
       "//\n",
       "//      http://www.apache.org/licenses/LICENSE-2.0\n",
       "//\n",
       "// Unless required by applicable law or agreed to in writing, software\n",
       "// distributed under the License is distributed on an \"AS IS\" BASIS,\n",
       "// WITHOUT WARRANTIES OR CONDITIONS OF ANY KIND, either express or implied.\n",
       "// See the License for the specific language governing permissions and\n",
       "// limitations under the License.\n",
       "\n",
       "/**\n",
       " * @fileoverview Helpers for google.colab Python module.\n",
       " */\n",
       "(function(scope) {\n",
       "function span(text, styleAttributes = {}) {\n",
       "  const element = document.createElement('span');\n",
       "  element.textContent = text;\n",
       "  for (const key of Object.keys(styleAttributes)) {\n",
       "    element.style[key] = styleAttributes[key];\n",
       "  }\n",
       "  return element;\n",
       "}\n",
       "\n",
       "// Max number of bytes which will be uploaded at a time.\n",
       "const MAX_PAYLOAD_SIZE = 100 * 1024;\n",
       "\n",
       "function _uploadFiles(inputId, outputId) {\n",
       "  const steps = uploadFilesStep(inputId, outputId);\n",
       "  const outputElement = document.getElementById(outputId);\n",
       "  // Cache steps on the outputElement to make it available for the next call\n",
       "  // to uploadFilesContinue from Python.\n",
       "  outputElement.steps = steps;\n",
       "\n",
       "  return _uploadFilesContinue(outputId);\n",
       "}\n",
       "\n",
       "// This is roughly an async generator (not supported in the browser yet),\n",
       "// where there are multiple asynchronous steps and the Python side is going\n",
       "// to poll for completion of each step.\n",
       "// This uses a Promise to block the python side on completion of each step,\n",
       "// then passes the result of the previous step as the input to the next step.\n",
       "function _uploadFilesContinue(outputId) {\n",
       "  const outputElement = document.getElementById(outputId);\n",
       "  const steps = outputElement.steps;\n",
       "\n",
       "  const next = steps.next(outputElement.lastPromiseValue);\n",
       "  return Promise.resolve(next.value.promise).then((value) => {\n",
       "    // Cache the last promise value to make it available to the next\n",
       "    // step of the generator.\n",
       "    outputElement.lastPromiseValue = value;\n",
       "    return next.value.response;\n",
       "  });\n",
       "}\n",
       "\n",
       "/**\n",
       " * Generator function which is called between each async step of the upload\n",
       " * process.\n",
       " * @param {string} inputId Element ID of the input file picker element.\n",
       " * @param {string} outputId Element ID of the output display.\n",
       " * @return {!Iterable<!Object>} Iterable of next steps.\n",
       " */\n",
       "function* uploadFilesStep(inputId, outputId) {\n",
       "  const inputElement = document.getElementById(inputId);\n",
       "  inputElement.disabled = false;\n",
       "\n",
       "  const outputElement = document.getElementById(outputId);\n",
       "  outputElement.innerHTML = '';\n",
       "\n",
       "  const pickedPromise = new Promise((resolve) => {\n",
       "    inputElement.addEventListener('change', (e) => {\n",
       "      resolve(e.target.files);\n",
       "    });\n",
       "  });\n",
       "\n",
       "  const cancel = document.createElement('button');\n",
       "  inputElement.parentElement.appendChild(cancel);\n",
       "  cancel.textContent = 'Cancel upload';\n",
       "  const cancelPromise = new Promise((resolve) => {\n",
       "    cancel.onclick = () => {\n",
       "      resolve(null);\n",
       "    };\n",
       "  });\n",
       "\n",
       "  // Wait for the user to pick the files.\n",
       "  const files = yield {\n",
       "    promise: Promise.race([pickedPromise, cancelPromise]),\n",
       "    response: {\n",
       "      action: 'starting',\n",
       "    }\n",
       "  };\n",
       "\n",
       "  cancel.remove();\n",
       "\n",
       "  // Disable the input element since further picks are not allowed.\n",
       "  inputElement.disabled = true;\n",
       "\n",
       "  if (!files) {\n",
       "    return {\n",
       "      response: {\n",
       "        action: 'complete',\n",
       "      }\n",
       "    };\n",
       "  }\n",
       "\n",
       "  for (const file of files) {\n",
       "    const li = document.createElement('li');\n",
       "    li.append(span(file.name, {fontWeight: 'bold'}));\n",
       "    li.append(span(\n",
       "        `(${file.type || 'n/a'}) - ${file.size} bytes, ` +\n",
       "        `last modified: ${\n",
       "            file.lastModifiedDate ? file.lastModifiedDate.toLocaleDateString() :\n",
       "                                    'n/a'} - `));\n",
       "    const percent = span('0% done');\n",
       "    li.appendChild(percent);\n",
       "\n",
       "    outputElement.appendChild(li);\n",
       "\n",
       "    const fileDataPromise = new Promise((resolve) => {\n",
       "      const reader = new FileReader();\n",
       "      reader.onload = (e) => {\n",
       "        resolve(e.target.result);\n",
       "      };\n",
       "      reader.readAsArrayBuffer(file);\n",
       "    });\n",
       "    // Wait for the data to be ready.\n",
       "    let fileData = yield {\n",
       "      promise: fileDataPromise,\n",
       "      response: {\n",
       "        action: 'continue',\n",
       "      }\n",
       "    };\n",
       "\n",
       "    // Use a chunked sending to avoid message size limits. See b/62115660.\n",
       "    let position = 0;\n",
       "    do {\n",
       "      const length = Math.min(fileData.byteLength - position, MAX_PAYLOAD_SIZE);\n",
       "      const chunk = new Uint8Array(fileData, position, length);\n",
       "      position += length;\n",
       "\n",
       "      const base64 = btoa(String.fromCharCode.apply(null, chunk));\n",
       "      yield {\n",
       "        response: {\n",
       "          action: 'append',\n",
       "          file: file.name,\n",
       "          data: base64,\n",
       "        },\n",
       "      };\n",
       "\n",
       "      let percentDone = fileData.byteLength === 0 ?\n",
       "          100 :\n",
       "          Math.round((position / fileData.byteLength) * 100);\n",
       "      percent.textContent = `${percentDone}% done`;\n",
       "\n",
       "    } while (position < fileData.byteLength);\n",
       "  }\n",
       "\n",
       "  // All done.\n",
       "  yield {\n",
       "    response: {\n",
       "      action: 'complete',\n",
       "    }\n",
       "  };\n",
       "}\n",
       "\n",
       "scope.google = scope.google || {};\n",
       "scope.google.colab = scope.google.colab || {};\n",
       "scope.google.colab._files = {\n",
       "  _uploadFiles,\n",
       "  _uploadFilesContinue,\n",
       "};\n",
       "})(self);\n",
       "</script> "
      ],
      "text/plain": [
       "<IPython.core.display.HTML object>"
      ]
     },
     "metadata": {},
     "output_type": "display_data"
    },
    {
     "name": "stdout",
     "output_type": "stream",
     "text": [
      "Saving 15 UAV Route Planning For Maximum Target Coverage ABSTRACT.pdf to 15 UAV Route Planning For Maximum Target Coverage ABSTRACT.pdf\n",
      "Saving 24 Attention Is All You Need.pdf to 24 Attention Is All You Need.pdf\n",
      "Saving 29 Mobile Sink Scheduling Method for Wireless Sensor Networks under Travel Time Uncertainty ABSTRACT.pdf to 29 Mobile Sink Scheduling Method for Wireless Sensor Networks under Travel Time Uncertainty ABSTRACT.pdf\n",
      "Saving 30 Time-Sensitive Ant Colony Optimization ORIGINAL.pdf to 30 Time-Sensitive Ant Colony Optimization ORIGINAL.pdf\n",
      "Saving 73 Analyzing Students Academic Success.pdf to 73 Analyzing Students Academic Success.pdf\n",
      "Saving 77 Arac Park Yerlerinin Doluluk.pdf to 77 Arac Park Yerlerinin Doluluk.pdf\n",
      "Document: 15 UAV Route Planning For Maximum Target Coverage ABSTRACT.pdf is being processed to be added to the Papers 0\n",
      "current_id: 0 \n",
      "Document:  15 UAV Route Planning For Maximum Target Coverage ABSTRACT.pdf  chunk size:  1\n",
      "\n",
      "Total number of chunks (document splited by max char = 1500):         2\n",
      "\n",
      "Total number of chunks (document splited by 128 tokens per chunk):       5\n",
      "Before inserting, the size of the collection:  0\n",
      "After inserting, the size of the collection:  5\n",
      "Document: 15 UAV Route Planning For Maximum Target Coverage ABSTRACT.pdf added to the collection: 5\n",
      "Document: 24 Attention Is All You Need.pdf is being processed to be added to the Papers 5\n",
      "current_id: 5 \n",
      "Document:  24 Attention Is All You Need.pdf  chunk size:  15\n",
      "\n",
      "Total number of chunks (document splited by max char = 1500):         35\n",
      "\n",
      "Total number of chunks (document splited by 128 tokens per chunk):       93\n",
      "Before inserting, the size of the collection:  5\n",
      "After inserting, the size of the collection:  98\n",
      "Document: 24 Attention Is All You Need.pdf added to the collection: 98\n",
      "Document: 29 Mobile Sink Scheduling Method for Wireless Sensor Networks under Travel Time Uncertainty ABSTRACT.pdf is being processed to be added to the Papers 98\n",
      "current_id: 98 \n",
      "Document:  29 Mobile Sink Scheduling Method for Wireless Sensor Networks under Travel Time Uncertainty ABSTRACT.pdf  chunk size:  1\n",
      "\n",
      "Total number of chunks (document splited by max char = 1500):         2\n",
      "\n",
      "Total number of chunks (document splited by 128 tokens per chunk):       6\n",
      "Before inserting, the size of the collection:  98\n",
      "After inserting, the size of the collection:  104\n",
      "Document: 29 Mobile Sink Scheduling Method for Wireless Sensor Networks under Travel Time Uncertainty ABSTRACT.pdf added to the collection: 104\n",
      "Document: 30 Time-Sensitive Ant Colony Optimization ORIGINAL.pdf is being processed to be added to the Papers 104\n",
      "current_id: 104 \n",
      "Document:  30 Time-Sensitive Ant Colony Optimization ORIGINAL.pdf  chunk size:  18\n",
      "\n",
      "Total number of chunks (document splited by max char = 1500):         38\n",
      "\n",
      "Total number of chunks (document splited by 128 tokens per chunk):       101\n",
      "Before inserting, the size of the collection:  104\n",
      "After inserting, the size of the collection:  205\n",
      "Document: 30 Time-Sensitive Ant Colony Optimization ORIGINAL.pdf added to the collection: 205\n",
      "Document: 73 Analyzing Students Academic Success.pdf is being processed to be added to the Papers 205\n",
      "current_id: 205 \n",
      "Document:  73 Analyzing Students Academic Success.pdf  chunk size:  7\n",
      "\n",
      "Total number of chunks (document splited by max char = 1500):         24\n",
      "\n",
      "Total number of chunks (document splited by 128 tokens per chunk):       69\n",
      "Before inserting, the size of the collection:  205\n",
      "After inserting, the size of the collection:  274\n",
      "Document: 73 Analyzing Students Academic Success.pdf added to the collection: 274\n",
      "Document: 77 Arac Park Yerlerinin Doluluk.pdf is being processed to be added to the Papers 274\n",
      "current_id: 274 \n",
      "Document:  77 Arac Park Yerlerinin Doluluk.pdf  chunk size:  4\n",
      "\n",
      "Total number of chunks (document splited by max char = 1500):         17\n",
      "\n",
      "Total number of chunks (document splited by 128 tokens per chunk):       57\n",
      "Before inserting, the size of the collection:  274\n",
      "After inserting, the size of the collection:  331\n",
      "Document: 77 Arac Park Yerlerinin Doluluk.pdf added to the collection: 331\n"
     ]
    }
   ],
   "source": [
    "chroma_client, chroma_collection= load_multiple_pdfs_to_ChromaDB(collection_name,sentence_transformer_model, chromaDB_path)"
   ]
  },
  {
   "cell_type": "markdown",
   "metadata": {
    "id": "SY_pADjm4dle"
   },
   "source": [
    "## 7 Test the Knowledge Base\n",
    "\n",
    "Query the Knowledge Base using the persistent ChromaDB client and & collection"
   ]
  },
  {
   "cell_type": "code",
   "execution_count": null,
   "metadata": {
    "colab": {
     "base_uri": "https://localhost:8080/",
     "height": 70
    },
    "id": "ZB7_29IHZXtK",
    "outputId": "13bb01ba-5346-444f-a1fd-1c616278cb22"
   },
   "outputs": [
    {
     "data": {
      "application/vnd.google.colaboratory.intrinsic+json": {
       "type": "string"
      },
      "text/plain": [
       "'\\nIn 16 A Local Optimization Technique for Assigning New Targets ABSTRACT:\\n\\nRoute planning can be static or dynamic. In static route planning, routes are\\nconstructed according to given UAVs and targets and do not change during\\nthe mission. However, in dynamic route planning, number of routes or UAVs\\ncan alter which requires the update of existing routes to adopt these changes.\\n\\n'"
      ]
     },
     "execution_count": 22,
     "metadata": {},
     "output_type": "execute_result"
    }
   ],
   "source": [
    "query = \"What are the main difference in active and passive path scheduling?\"\n",
    "\n",
    "'''\n",
    "In 16 A Local Optimization Technique for Assigning New Targets ABSTRACT:\n",
    "\n",
    "Route planning can be static or dynamic. In static route planning, routes are\n",
    "constructed according to given UAVs and targets and do not change during\n",
    "the mission. However, in dynamic route planning, number of routes or UAVs\n",
    "can alter which requires the update of existing routes to adopt these changes.\n",
    "\n",
    "'''"
   ]
  },
  {
   "cell_type": "code",
   "execution_count": null,
   "metadata": {
    "colab": {
     "base_uri": "https://localhost:8080/",
     "height": 1000
    },
    "id": "fbpduFllB8I6",
    "outputId": "35b49251-d3b8-485d-f107-8dc8ac9cfcf3"
   },
   "outputs": [
    {
     "name": "stdout",
     "output_type": "stream",
     "text": [
      "------- retreived documents -------\n",
      "\n",
      "Document 1:\n",
      "\tDocument Text: \n"
     ]
    },
    {
     "data": {
      "text/markdown": [
       "> memory gets full and overflow s. For a successful schedule, the crucial information is the travelling time between sensor nodes in the field. In most cases, it is assumed that the travelling time is known a priori and remains the same all the time. However, in reality, due to various reasons, travelling times can change in course of time and, hence, the planned schedule may not produce the desired output. In this study, we propose an improved scheduling method consid ering uncertainty in travelling time. Simulation experiments justify the expected success of the proposed method. Index Terms [UNK] Wireless Sensor Networks"
      ],
      "text/plain": [
       "<IPython.core.display.Markdown object>"
      ]
     },
     "metadata": {},
     "output_type": "display_data"
    },
    {
     "name": "stdout",
     "output_type": "stream",
     "text": [
      "\tDocument Source: 29 Mobile Sink Scheduling Method for Wireless Sensor Networks under Travel Time Uncertainty ABSTRACT.pdf\n",
      "\tDocument Source Type: Journal Paper\n",
      "\tDocument Distance: 1.3394520282745361\n",
      "Document 2:\n",
      "\tDocument Text: \n"
     ]
    },
    {
     "data": {
      "text/markdown": [
       "> ##lected data for a given period of time, namely tour time. Provided below are the details of the MES / TSACO implementation 3. 2 The Time - Sensitive ACO A combinatorial optimization problem can be static or dynamic with respect to the given characteristics of the problem. In static problems, the underly - ing system properties stay the same throughout the problem - solution pro - cess. A typical example of these kinds of problems is the Traveling Sales - man Problem ( TSP ). In the TSP, there are a number of towns ( vertices ) con - nected to each"
      ],
      "text/plain": [
       "<IPython.core.display.Markdown object>"
      ]
     },
     "metadata": {},
     "output_type": "display_data"
    },
    {
     "name": "stdout",
     "output_type": "stream",
     "text": [
      "\tDocument Source: 30 Time-Sensitive Ant Colony Optimization ORIGINAL.pdf\n",
      "\tDocument Source Type: Journal Paper\n",
      "\tDocument Distance: 1.3876214027404785\n",
      "Document 3:\n",
      "\tDocument Text: \n"
     ]
    },
    {
     "data": {
      "text/markdown": [
       "> 70 M URAT KARAKAYA FIGURE 1 A sample schedule showing the dynamic nature of the MES. ( distance ). In essence, the solution to a TSP is to construct a minimum dis - tance circuit passing through each vertex once and only once. Therefore, thecost of a solution depends on the distances among the towns. These prob - lem characteristics - town locations and distances - do not change during the development of a solution. On the other hand, in dynamic problems, problemcharacteristics can be changed over time as a solution is being generated. The MES"
      ],
      "text/plain": [
       "<IPython.core.display.Markdown object>"
      ]
     },
     "metadata": {},
     "output_type": "display_data"
    },
    {
     "name": "stdout",
     "output_type": "stream",
     "text": [
      "\tDocument Source: 30 Time-Sensitive Ant Colony Optimization ORIGINAL.pdf\n",
      "\tDocument Source Type: Journal Paper\n",
      "\tDocument Distance: 1.4082379341125488\n",
      "Document 4:\n",
      "\tDocument Text: \n"
     ]
    },
    {
     "data": {
      "text/markdown": [
       "> range dependencies in the network. Learning long - range dependencies is a key challenge in many sequence transduction tasks. One key factor affecting the ability to learn such dependencies is the length of the paths forward and backward signals have to traverse in the network. The shorter these paths between any combination of positions in the input"
      ],
      "text/plain": [
       "<IPython.core.display.Markdown object>"
      ]
     },
     "metadata": {},
     "output_type": "display_data"
    },
    {
     "name": "stdout",
     "output_type": "stream",
     "text": [
      "\tDocument Source: 24 Attention Is All You Need.pdf\n",
      "\tDocument Source Type: Journal Paper\n",
      "\tDocument Distance: 1.4191218614578247\n",
      "Document 5:\n",
      "\tDocument Text: \n"
     ]
    },
    {
     "data": {
      "text/markdown": [
       "> - bin using a Traveling Sales - man Problem heuristic, all these schedules are concatenated into an overall schedule. There are some other works to solve different versions of the MES prob - lem, e. g. [ 1, 13 ] and [ 14 ]. In [ 1 ], Almi [UNK] ani et al. worked on a version of the MES problem in which the sensory data needs to be delivered to a static sink"
      ],
      "text/plain": [
       "<IPython.core.display.Markdown object>"
      ]
     },
     "metadata": {},
     "output_type": "display_data"
    },
    {
     "name": "stdout",
     "output_type": "stream",
     "text": [
      "\tDocument Source: 30 Time-Sensitive Ant Colony Optimization ORIGINAL.pdf\n",
      "\tDocument Source Type: Journal Paper\n",
      "\tDocument Distance: 1.434402585029602\n",
      "Document 6:\n",
      "\tDocument Text: \n"
     ]
    },
    {
     "data": {
      "text/markdown": [
       "> and output sequences, the easier it is to learn long - range dependencies [ 12 ]. Hence we also compare the maximum path length between any two input and output positions in networks composed of the different layer types. As noted in Table 1, a self - attention layer connects all positions with a constant number of sequentially executed operations, whereas a recurrent layer requires O ( n ) sequential operations. In terms of computational complexity, self - attention layers are faster than recurrent layers when the sequence 6"
      ],
      "text/plain": [
       "<IPython.core.display.Markdown object>"
      ]
     },
     "metadata": {},
     "output_type": "display_data"
    },
    {
     "name": "stdout",
     "output_type": "stream",
     "text": [
      "\tDocument Source: 24 Attention Is All You Need.pdf\n",
      "\tDocument Source Type: Journal Paper\n",
      "\tDocument Distance: 1.4545830488204956\n",
      "Document 7:\n",
      "\tDocument Text: \n"
     ]
    },
    {
     "data": {
      "text/markdown": [
       "> second one is whether the selected curriculum devel - opment approach for deciding the chains has [UNK] impact on the academic success relation - ships between a pre - requisite and its follow - upcourse. The second question is shortly called [UNK] [UNK] Impact of Curriculum Development Model [UNK] [UNK]. Toinvestigate the answers, two chains among threemathematics courses ( Calculus I, Calculus II, and [UNK] Equations ) are selected. Then, using statistical test, the validity of the hypothesis isdiscussed. Before, providing the conclusions, a critical lit - erature survey,"
      ],
      "text/plain": [
       "<IPython.core.display.Markdown object>"
      ]
     },
     "metadata": {},
     "output_type": "display_data"
    },
    {
     "name": "stdout",
     "output_type": "stream",
     "text": [
      "\tDocument Source: 73 Analyzing Students Academic Success.pdf\n",
      "\tDocument Source Type: Journal Paper\n",
      "\tDocument Distance: 1.46108877658844\n",
      "Document 8:\n",
      "\tDocument Text: \n"
     ]
    },
    {
     "data": {
      "text/markdown": [
       "> In the proposed solution, each ant constructs routes for the given number of UAVs using pheromone and heuristic information. These routes are locally optimized using a modified 2 - opt technique. After each iteration, t he solution which covers more targets with less route distance is selected as the iteration - best solution and the pheromone values of the edges on that route are increased. According to the termination condition, the algorithm stops and outputs the best route found so far as the result. To evaluate the success of the proposed method, another approach, based on the Nearest Neigh"
      ],
      "text/plain": [
       "<IPython.core.display.Markdown object>"
      ]
     },
     "metadata": {},
     "output_type": "display_data"
    },
    {
     "name": "stdout",
     "output_type": "stream",
     "text": [
      "\tDocument Source: 15 UAV Route Planning For Maximum Target Coverage ABSTRACT.pdf\n",
      "\tDocument Source Type: Journal Paper\n",
      "\tDocument Distance: 1.4616098403930664\n",
      "Document 9:\n",
      "\tDocument Text: \n"
     ]
    },
    {
     "data": {
      "text/markdown": [
       "> Second, the considered chainedcourses are limited to three mathematical courses ( Calculus I, Calculus II, and [UNK] Equa - tions ). Third, among the several curriculum devel - opment methods, only two ( Spiral and Linear ) areselected for this research. Lastly, since there are [UNK] records stating which courses were designed according to which curriculum development meth - odology, the [UNK] of the chains are doneaccording to the [UNK] of the cirriculum devel - opment methods. Murat Karakaya et al. 368"
      ],
      "text/plain": [
       "<IPython.core.display.Markdown object>"
      ]
     },
     "metadata": {},
     "output_type": "display_data"
    },
    {
     "name": "stdout",
     "output_type": "stream",
     "text": [
      "\tDocument Source: 73 Analyzing Students Academic Success.pdf\n",
      "\tDocument Source Type: Journal Paper\n",
      "\tDocument Distance: 1.4657018184661865\n",
      "Document 10:\n",
      "\tDocument Text: \n"
     ]
    },
    {
     "data": {
      "text/markdown": [
       "> Table 1 : Maximum path lengths, per - layer complexity and minimum number of sequential operations for different layer types. nis the sequence length, dis the representation dimension, kis the kernel size of convolutions and rthe size of the neighborhood in restricted self - attention. Layer Type Complexity per Layer Sequential Maximum Path Length Operations Self - Attention O ( n2 · d ) O ( 1 ) O ( 1 ) Recurrent O ( n · d2 ) O ( n ) O ( n ) Convolutional O ( k · n · d2 ) O ( 1 ) O"
      ],
      "text/plain": [
       "<IPython.core.display.Markdown object>"
      ]
     },
     "metadata": {},
     "output_type": "display_data"
    },
    {
     "name": "stdout",
     "output_type": "stream",
     "text": [
      "\tDocument Source: 24 Attention Is All You Need.pdf\n",
      "\tDocument Source Type: Journal Paper\n",
      "\tDocument Distance: 1.4922304153442383\n"
     ]
    }
   ],
   "source": [
    "retrieved_documents=retrieveDocs(chroma_collection, query, 10)\n",
    "show_results(retrieved_documents)"
   ]
  },
  {
   "cell_type": "markdown",
   "metadata": {
    "id": "Vn6S6rAS4lhb"
   },
   "source": [
    "## 8 Observe the ChromeDB saved to the provided path\n",
    "\n",
    "List the folders and files in the chromaDB_path"
   ]
  },
  {
   "cell_type": "code",
   "execution_count": null,
   "metadata": {
    "colab": {
     "base_uri": "https://localhost:8080/"
    },
    "id": "RJfd2hl85T4N",
    "outputId": "5bd0837f-5b0d-4ec4-a524-5cc5a8551f40"
   },
   "outputs": [
    {
     "name": "stdout",
     "output_type": "stream",
     "text": [
      "chroma.sqlite3\td737a052-8af6-4c2c-8cb6-1147eb4b1b9c\n"
     ]
    }
   ],
   "source": [
    "!ls \"{chromaDB_path}\""
   ]
  },
  {
   "cell_type": "markdown",
   "metadata": {
    "id": "UUNm9qIi4sWJ"
   },
   "source": [
    "## YES WE DID IT!"
   ]
  },
  {
   "cell_type": "markdown",
   "metadata": {
    "id": "lCZkStQJsWU7"
   },
   "source": [
    "# LOAD A KNOWLEDGE BASE FROM A PERSISTENT CHROMADB\n",
    "\n"
   ]
  },
  {
   "cell_type": "markdown",
   "metadata": {
    "id": "v-gnovuy65Zc"
   },
   "source": [
    "Let's kill the kernel so we ensure that nothing remains in the memory from all the above ChromaDB instance."
   ]
  },
  {
   "cell_type": "code",
   "execution_count": null,
   "metadata": {
    "id": "XuO4UOZ76JAq"
   },
   "outputs": [],
   "source": [
    "from google.colab import runtime\n",
    "# Disconnect from the runtime\n",
    "#!kill -9 -1"
   ]
  },
  {
   "cell_type": "markdown",
   "metadata": {
    "id": "eQQYkyA_0hi-"
   },
   "source": [
    "##1 Connect to source directory\n",
    "\n",
    "First get connected to the ChromaDB directory"
   ]
  },
  {
   "cell_type": "code",
   "execution_count": null,
   "metadata": {
    "colab": {
     "base_uri": "https://localhost:8080/"
    },
    "id": "0M0aAIB9tK8q",
    "outputId": "e214e6d2-1ba2-4139-b5c6-bbc131960573"
   },
   "outputs": [
    {
     "name": "stdout",
     "output_type": "stream",
     "text": [
      "Drive already mounted at /content/drive; to attempt to forcibly remount, call drive.mount(\"/content/drive\", force_remount=True).\n"
     ]
    }
   ],
   "source": [
    "from google.colab import drive\n",
    "drive.mount('/content/drive')"
   ]
  },
  {
   "cell_type": "code",
   "execution_count": null,
   "metadata": {
    "colab": {
     "base_uri": "https://localhost:8080/"
    },
    "id": "hW_FIIWRuPFF",
    "outputId": "1503d4c3-2706-40dd-99b3-4ab95ba09848"
   },
   "outputs": [
    {
     "name": "stdout",
     "output_type": "stream",
     "text": [
      "/content/drive/MyDrive/Colab Notebooks/ChromaDBData\n"
     ]
    }
   ],
   "source": [
    "# change directory to chromaDB folder\n",
    "chromaDB_path = '/content/drive/MyDrive/Colab Notebooks/ChromaDBData'\n",
    "%cd {chromaDB_path}\n"
   ]
  },
  {
   "cell_type": "markdown",
   "metadata": {
    "id": "Dg1hEUMQw0wt"
   },
   "source": [
    "### Check that if chromadb_path exist or not and if exists does it contain chromadb files and folders"
   ]
  },
  {
   "cell_type": "code",
   "execution_count": null,
   "metadata": {
    "colab": {
     "base_uri": "https://localhost:8080/"
    },
    "collapsed": true,
    "id": "SaMkHKPLwW_J",
    "outputId": "63a2cd1b-2e36-4941-d3d4-cc96c3388cd4"
   },
   "outputs": [
    {
     "name": "stdout",
     "output_type": "stream",
     "text": [
      "The directory '/content/drive/MyDrive/Colab Notebooks/ChromaDBData' exists.\n",
      "The directory contains ChromaDB files and folders.\n"
     ]
    }
   ],
   "source": [
    "import os\n",
    "if os.path.exists(chromaDB_path):\n",
    "    print(f\"The directory '{chromaDB_path}' exists.\")\n",
    "\n",
    "    # Check if the directory contains ChromaDB files and folders\n",
    "    chromadb_files_and_folders = os.listdir(chromaDB_path)\n",
    "    if any(file_or_folder.startswith('chroma') for file_or_folder in chromadb_files_and_folders):\n",
    "        print(\"The directory contains ChromaDB files and folders.\")\n",
    "    else:\n",
    "        print(\"The directory does not contain ChromaDB files and folders.\")\n",
    "else:\n",
    "    print(f\"The directory '{chromadb_path}' does not exist.\")\n"
   ]
  },
  {
   "cell_type": "markdown",
   "metadata": {
    "id": "jxr8k00A0uyp"
   },
   "source": [
    "##2 Install required libraries\n",
    "\n",
    "Secondly install all the required libraries and helper functions"
   ]
  },
  {
   "cell_type": "code",
   "execution_count": null,
   "metadata": {
    "id": "8Q-aNfaT0Pz0"
   },
   "outputs": [],
   "source": [
    "%pip install chromadb --quiet\n",
    "%pip install sentence_transformers --quiet"
   ]
  },
  {
   "cell_type": "code",
   "execution_count": null,
   "metadata": {
    "id": "zCT7F72PseyP"
   },
   "outputs": [],
   "source": [
    "from chromadb.config import DEFAULT_TENANT, DEFAULT_DATABASE, Settings\n",
    "from chromadb import Client, PersistentClient\n",
    "from chromadb.utils import embedding_functions\n"
   ]
  },
  {
   "cell_type": "code",
   "execution_count": null,
   "metadata": {
    "id": "tPsQ2-K20CmE"
   },
   "outputs": [],
   "source": [
    "import textwrap\n",
    "from IPython.display import display\n",
    "from IPython.display import Markdown\n",
    "def to_markdown(text):\n",
    "  text = text.replace('•', '  *')\n",
    "  return Markdown(textwrap.indent(text, '> ', predicate=lambda _: True))"
   ]
  },
  {
   "cell_type": "code",
   "execution_count": null,
   "metadata": {
    "id": "xh4T7meazUSF"
   },
   "outputs": [],
   "source": [
    "def retrieveDocs(chroma_collection, query, n_results=5,\n",
    "                 return_only_docs=False, filterType=None, filterValue=None):\n",
    "    if filterType is not None and filterValue is not None:\n",
    "        results = chroma_collection.query(\n",
    "            query_texts=[query],\n",
    "            include=[\"documents\", \"metadatas\", \"distances\"],\n",
    "            where={filterType: filterValue},\n",
    "            n_results=n_results)\n",
    "\n",
    "    else:\n",
    "        results = chroma_collection.query(\n",
    "            query_texts=[query],\n",
    "            include= [ \"documents\",\"metadatas\",'distances' ],\n",
    "            n_results=n_results)\n",
    "\n",
    "    if return_only_docs:\n",
    "        return results['documents'][0]\n",
    "    else:\n",
    "        return results"
   ]
  },
  {
   "cell_type": "code",
   "execution_count": null,
   "metadata": {
    "id": "4FPBhuz_zlFE"
   },
   "outputs": [],
   "source": [
    "def show_results(results, return_only_docs=False):\n",
    "\n",
    "  if return_only_docs:\n",
    "    retrieved_documents = results\n",
    "    if len(retrieved_documents) == 0:\n",
    "      print(\"No results found.\")\n",
    "      return\n",
    "    for i, doc in enumerate(retrieved_documents):\n",
    "      print(f\"Document {i+1}:\")\n",
    "      print(\"\\tDocument Text: \")\n",
    "      display(to_markdown(doc));\n",
    "  else:\n",
    "\n",
    "      retrieved_documents = results['documents'][0]\n",
    "      if len(retrieved_documents) == 0:\n",
    "          print(\"No results found.\")\n",
    "          return\n",
    "      retrieved_documents_metadata = results['metadatas'][0]\n",
    "      retrieved_documents_distances = results['distances'][0]\n",
    "      print(\"------- retreived documents -------\\n\")\n",
    "\n",
    "      for i, doc in enumerate(retrieved_documents):\n",
    "          print(f\"Document {i+1}:\")\n",
    "          print(\"\\tDocument Text: \")\n",
    "          display(to_markdown(doc));\n",
    "          print(f\"\\tDocument Source: {retrieved_documents_metadata[i]['document']}\")\n",
    "          print(f\"\\tDocument Source Type: {retrieved_documents_metadata[i]['category']}\")\n",
    "          print(f\"\\tDocument Distance: {retrieved_documents_distances[i]}\")\n"
   ]
  },
  {
   "cell_type": "markdown",
   "metadata": {
    "id": "Mn3OPY0r1axg"
   },
   "source": [
    "##3 Initailizing\n",
    "\n",
    " Now, we can begin to upload the persistent ChromaDB from the location by initailizing\n",
    "*  the chromaDB client\n",
    "*  the chromaDB collections"
   ]
  },
  {
   "cell_type": "code",
   "execution_count": null,
   "metadata": {
    "id": "iL-3d53fB7c6"
   },
   "outputs": [],
   "source": [
    "chroma_client = PersistentClient(path=chromaDB_path,\n",
    "                                     settings=Settings(),\n",
    "                                     tenant=DEFAULT_TENANT,\n",
    "                                     database=DEFAULT_DATABASE,)"
   ]
  },
  {
   "cell_type": "code",
   "execution_count": null,
   "metadata": {
    "colab": {
     "base_uri": "https://localhost:8080/"
    },
    "id": "TX3GuXTpB69J",
    "outputId": "12ae8bcd-fc19-487d-9074-4995a02e3b3e"
   },
   "outputs": [
    {
     "data": {
      "text/plain": [
       "[Collection(id=6e80f120-e77b-4599-ab9a-24a64407756b, name=Papers)]"
      ]
     },
     "execution_count": 35,
     "metadata": {},
     "output_type": "execute_result"
    }
   ],
   "source": [
    "chroma_client.list_collections()"
   ]
  },
  {
   "cell_type": "code",
   "execution_count": null,
   "metadata": {
    "id": "ZsgtHESYvq80"
   },
   "outputs": [],
   "source": [
    "collection_name = \"Papers\"\n",
    "sentence_transformer_model=\"distiluse-base-multilingual-cased-v1\"\n",
    "embedding_function= embedding_functions.SentenceTransformerEmbeddingFunction(\n",
    "    model_name=sentence_transformer_model)\n"
   ]
  },
  {
   "cell_type": "code",
   "execution_count": null,
   "metadata": {
    "id": "bSAESLFfrosn"
   },
   "outputs": [],
   "source": [
    "chroma_collection = chroma_client.get_or_create_collection(\n",
    "      collection_name,\n",
    "      embedding_function=embedding_function)"
   ]
  },
  {
   "cell_type": "code",
   "execution_count": null,
   "metadata": {
    "colab": {
     "base_uri": "https://localhost:8080/"
    },
    "id": "RkAXDiZ_OvDz",
    "outputId": "98d303a7-3089-4d56-ad6c-afaa48d713e3"
   },
   "outputs": [
    {
     "name": "stdout",
     "output_type": "stream",
     "text": [
      "Collection name: Papers\n",
      "Number of documents in collection: 331\n",
      "All collections in ChromaDB client:\n",
      "Papers\n"
     ]
    }
   ],
   "source": [
    "# Verify collection properties\n",
    "print(f\"Collection name: {chroma_collection.name}\")  # Access the name attribute directly\n",
    "print(f\"Number of documents in collection: {chroma_collection.count()}\")\n",
    "\n",
    "# List all collections in the client\n",
    "print(\"All collections in ChromaDB client:\")\n",
    "for collection in chroma_client.list_collections():\n",
    "    print(collection.name)"
   ]
  },
  {
   "cell_type": "markdown",
   "metadata": {
    "id": "VPYaFV8a12YA"
   },
   "source": [
    "##4 Test\n",
    "\n",
    "Test the loaded ChromeDB client and the collection"
   ]
  },
  {
   "cell_type": "code",
   "execution_count": null,
   "metadata": {
    "colab": {
     "base_uri": "https://localhost:8080/"
    },
    "id": "bPHuH6bbLbED",
    "outputId": "fea08675-6779-44f6-8bf4-e400d07a58be"
   },
   "outputs": [
    {
     "data": {
      "text/plain": [
       "{'ids': ['0'],\n",
       " 'embeddings': None,\n",
       " 'metadatas': [{'category': 'Journal Paper',\n",
       "   'document': '15 UAV Route Planning For Maximum Target Coverage ABSTRACT.pdf'}],\n",
       " 'documents': ['UAV Route Planning For Maximum Target Coverage Murat Karakaya Department of Computer Engineering, Atilim University Incek / Ankara TURKEY kmkarakaya @ atilim. edu. tr Abstract The importance and the impact of using Unmanned Aerial Vehicles ( UAVs ) in military and civil operations are increasing. One of the challenges in effectively tasking these expensive vehicles is planning the flight routes to monitor the targets. This problem is related with the Multiple Travelling Salesman Problem ( mTSP ) and the Vehicle Routing Problem ( VRP ). In these well - defined problem'],\n",
       " 'uris': None,\n",
       " 'data': None,\n",
       " 'included': ['metadatas', 'documents']}"
      ]
     },
     "execution_count": 39,
     "metadata": {},
     "output_type": "execute_result"
    }
   ],
   "source": [
    "chroma_collection.get(['0'])"
   ]
  },
  {
   "cell_type": "code",
   "execution_count": null,
   "metadata": {
    "id": "U2NsqZQwy9mx"
   },
   "outputs": [],
   "source": [
    "query = \"What is Target Coverage?\""
   ]
  },
  {
   "cell_type": "code",
   "execution_count": null,
   "metadata": {
    "colab": {
     "base_uri": "https://localhost:8080/",
     "height": 1000
    },
    "id": "bo0CKmb2KJ_A",
    "outputId": "48b436ce-7ac8-4f3f-d941-1d2abbf1ed4a"
   },
   "outputs": [
    {
     "name": "stdout",
     "output_type": "stream",
     "text": [
      "------- retreived documents -------\n",
      "\n",
      "Document 1:\n",
      "\tDocument Text: \n"
     ]
    },
    {
     "data": {
      "text/markdown": [
       "> s, it is mostly assumed that travelling salesm en or vehicles should visit all the targets and the target function is defined as to find a minimum - distan t route. Even, i n the constraint versions of the mTSP and VRP, some other restrictions ( visiting time windows, number of depots, etc. ) are included ; it is still assumed that there exists enough number of travelling salesm en or vehicle s to cover all the give n locations. However, in reality the number and flight range of UAVs might be insufficient to cover all the targets. As a result, t he maxim"
      ],
      "text/plain": [
       "<IPython.core.display.Markdown object>"
      ]
     },
     "metadata": {},
     "output_type": "display_data"
    },
    {
     "name": "stdout",
     "output_type": "stream",
     "text": [
      "\tDocument Source: 15 UAV Route Planning For Maximum Target Coverage ABSTRACT.pdf\n",
      "\tDocument Source Type: Journal Paper\n",
      "\tDocument Distance: 1.2466243505477905\n",
      "Document 2:\n",
      "\tDocument Text: \n"
     ]
    },
    {
     "data": {
      "text/markdown": [
       "> impact of cirriculumdeveloment method. As seen above references, there have been a considerable interest on the pre - requisite coursesin the literature. However, the scope, goals, and results of the above - mentioned studies are not completely in line with those of the present work. One of the studies with similar scope and goals wasconducted by Anderson et al. [ 25 ]. They found thatsuccessfully completing calculus and economicscourses positively [UNK] the achieved success insubsequent economics courses. In another work, McMillan and Adeyemi focused on the success relationships between the"
      ],
      "text/plain": [
       "<IPython.core.display.Markdown object>"
      ]
     },
     "metadata": {},
     "output_type": "display_data"
    },
    {
     "name": "stdout",
     "output_type": "stream",
     "text": [
      "\tDocument Source: 73 Analyzing Students Academic Success.pdf\n",
      "\tDocument Source Type: Journal Paper\n",
      "\tDocument Distance: 1.3942387104034424\n",
      "Document 3:\n",
      "\tDocument Text: \n"
     ]
    },
    {
     "data": {
      "text/markdown": [
       "> ? A Mixed - Methods Approach to Identifying the Impact of a Prerequisite Course, CBE - Life Sciences Education, 16, 2017, p. ar16. 23. C. E. [UNK] and D. A. Gilman, Are Prerequisite Courses Necessary for Success in Advanced Courses?, ERIC, ERIC Number : ED475157, 2002. 24. J. M. Krieg and S. E. Henson, The Educational Impact ofOnline Learning : How Do University Students Perform in Subsequent Courses? Education Finance and Policy, 2016"
      ],
      "text/plain": [
       "<IPython.core.display.Markdown object>"
      ]
     },
     "metadata": {},
     "output_type": "display_data"
    },
    {
     "name": "stdout",
     "output_type": "stream",
     "text": [
      "\tDocument Source: 73 Analyzing Students Academic Success.pdf\n",
      "\tDocument Source Type: Journal Paper\n",
      "\tDocument Distance: 1.4003818035125732\n",
      "Document 4:\n",
      "\tDocument Text: \n"
     ]
    },
    {
     "data": {
      "text/markdown": [
       "> UAV Route Planning For Maximum Target Coverage Murat Karakaya Department of Computer Engineering, Atilim University Incek / Ankara TURKEY kmkarakaya @ atilim. edu. tr Abstract The importance and the impact of using Unmanned Aerial Vehicles ( UAVs ) in military and civil operations are increasing. One of the challenges in effectively tasking these expensive vehicles is planning the flight routes to monitor the targets. This problem is related with the Multiple Travelling Salesman Problem ( mTSP ) and the Vehicle Routing Problem ( VRP ). In these well - defined problem"
      ],
      "text/plain": [
       "<IPython.core.display.Markdown object>"
      ]
     },
     "metadata": {},
     "output_type": "display_data"
    },
    {
     "name": "stdout",
     "output_type": "stream",
     "text": [
      "\tDocument Source: 15 UAV Route Planning For Maximum Target Coverage ABSTRACT.pdf\n",
      "\tDocument Source Type: Journal Paper\n",
      "\tDocument Distance: 1.4190356731414795\n",
      "Document 5:\n",
      "\tDocument Text: \n"
     ]
    },
    {
     "data": {
      "text/markdown": [
       "> ACO M OBILE SINKSCHEDULING 75 The objective function fis based on the cost cas below : f = 1 c + 1 ( 6 ) Thus, we would like to maximize the objective function fby minimizing the costc. Using the cost of the generated tour, the amount of the additional pheromone is calculated and added to the edges which the ants have vis - ited during the tour. The amount of pheromone is set according to the belowformula : τ i, j, t←1 c + 1 + τi, j, t, ∀ ("
      ],
      "text/plain": [
       "<IPython.core.display.Markdown object>"
      ]
     },
     "metadata": {},
     "output_type": "display_data"
    },
    {
     "name": "stdout",
     "output_type": "stream",
     "text": [
      "\tDocument Source: 30 Time-Sensitive Ant Colony Optimization ORIGINAL.pdf\n",
      "\tDocument Source Type: Journal Paper\n",
      "\tDocument Distance: 1.426795482635498\n",
      "Document 6:\n",
      "\tDocument Text: \n"
     ]
    },
    {
     "data": {
      "text/markdown": [
       "> durumlarının belirlenmesi amacıyla Derin Öğrenme ( Deep Learning ) yöntemi kullanılmıştır. Bilgisayarlar insanların gerçekleştiremediği karmaşık hesaplamaları yüksek hızda ve doğrulukta gerçekleştirebilmektedir. Buna karşın insanlar için çok kolay olan bazı işlemler ( işitilen sözler ile cümle oluşturup anlama, görülen b ir kişinin tanınması, bir fotoğraftaki cisimlerin belirlenmesi gibi ) bilgisayarlar için zorlayıcı olmaktadır. Derin Öğrenme"
      ],
      "text/plain": [
       "<IPython.core.display.Markdown object>"
      ]
     },
     "metadata": {},
     "output_type": "display_data"
    },
    {
     "name": "stdout",
     "output_type": "stream",
     "text": [
      "\tDocument Source: 77 Arac Park Yerlerinin Doluluk.pdf\n",
      "\tDocument Source Type: Journal Paper\n",
      "\tDocument Distance: 1.4507018327713013\n",
      "Document 7:\n",
      "\tDocument Text: \n"
     ]
    },
    {
     "data": {
      "text/markdown": [
       "> courses. Furthermore, if there are such successrelationships between pre - requisite and non - pre - requisite courses will be examined. For this purpose, some non - pre - requisite courses can be chosen as acontrol group and then, the academic performancesof the students enrolled in [UNK] combinations ofpre - requisite and non pre - requisite courses can be studied. References 1. J. Cobb, 10 Ways to Be a Better Learner, CreateSpace Independent Publishing Platform, 2012. 2. [ E. L. Thorndike, The Fundamentals of Learning,"
      ],
      "text/plain": [
       "<IPython.core.display.Markdown object>"
      ]
     },
     "metadata": {},
     "output_type": "display_data"
    },
    {
     "name": "stdout",
     "output_type": "stream",
     "text": [
      "\tDocument Source: 73 Analyzing Students Academic Success.pdf\n",
      "\tDocument Source Type: Journal Paper\n",
      "\tDocument Distance: 1.5071862936019897\n",
      "Document 8:\n",
      "\tDocument Text: \n"
     ]
    },
    {
     "data": {
      "text/markdown": [
       "> Second, the considered chainedcourses are limited to three mathematical courses ( Calculus I, Calculus II, and [UNK] Equa - tions ). Third, among the several curriculum devel - opment methods, only two ( Spiral and Linear ) areselected for this research. Lastly, since there are [UNK] records stating which courses were designed according to which curriculum development meth - odology, the [UNK] of the chains are doneaccording to the [UNK] of the cirriculum devel - opment methods. Murat Karakaya et al. 368"
      ],
      "text/plain": [
       "<IPython.core.display.Markdown object>"
      ]
     },
     "metadata": {},
     "output_type": "display_data"
    },
    {
     "name": "stdout",
     "output_type": "stream",
     "text": [
      "\tDocument Source: 73 Analyzing Students Academic Success.pdf\n",
      "\tDocument Source Type: Journal Paper\n",
      "\tDocument Distance: 1.5079680681228638\n",
      "Document 9:\n",
      "\tDocument Text: \n"
     ]
    },
    {
     "data": {
      "text/markdown": [
       "> requisite chains periodi - cally with empirical data so that pre - requisites and their follow - up courses should be well designed to support student success throughoutthe curriculum. 14. Conclusions The goal of this study is two - fold. The [UNK] goal is to examine the impact of the pre - requisite courses onthe success in a follow - up course for two mathe - matics course chains. The second one is to investi - gate the impact of the selected cirriculumdevelopment method on the success relationshipsbetween a pre - requisite course and follow"
      ],
      "text/plain": [
       "<IPython.core.display.Markdown object>"
      ]
     },
     "metadata": {},
     "output_type": "display_data"
    },
    {
     "name": "stdout",
     "output_type": "stream",
     "text": [
      "\tDocument Source: 73 Analyzing Students Academic Success.pdf\n",
      "\tDocument Source Type: Journal Paper\n",
      "\tDocument Distance: 1.5144762992858887\n",
      "Document 10:\n",
      "\tDocument Text: \n"
     ]
    },
    {
     "data": {
      "text/markdown": [
       "> lliklerini ezberleyeceği ( overfitting ) için başarı oranı gerçeği yansıtmayacak kadar yüksek çıkabilecektir. B irbirinden farklı görüntüler den oluşan ü ç veri setinin kullanımı ile D ESA [UNK] nın sınıflandırma başarı m ı hakkında daha gerçekçi sonuçlar elde edilmek i stenmiştir. Şekil 2 : Veri s etlerinde b ulunan p ark y eri g örüntülerinden ö rnekler B. Derin Evrişimsel Sinir Ağları Bu çalışma"
      ],
      "text/plain": [
       "<IPython.core.display.Markdown object>"
      ]
     },
     "metadata": {},
     "output_type": "display_data"
    },
    {
     "name": "stdout",
     "output_type": "stream",
     "text": [
      "\tDocument Source: 77 Arac Park Yerlerinin Doluluk.pdf\n",
      "\tDocument Source Type: Journal Paper\n",
      "\tDocument Distance: 1.5149482488632202\n"
     ]
    }
   ],
   "source": [
    "retrieved_documents=retrieveDocs(chroma_collection, query, 10)\n",
    "show_results(retrieved_documents)"
   ]
  },
  {
   "cell_type": "markdown",
   "metadata": {
    "id": "MqZPe52R2AZN"
   },
   "source": [
    "## YES! WE DID IT!"
   ]
  },
  {
   "cell_type": "markdown",
   "metadata": {
    "id": "MmwlLvI3QHum"
   },
   "source": [
    "# CONNECT TO AN LLM: GOOGLE GEMINI"
   ]
  },
  {
   "cell_type": "markdown",
   "metadata": {
    "id": "lA9pxZ5CQTDl"
   },
   "source": [
    "## 1 Install & Import Libraries"
   ]
  },
  {
   "cell_type": "code",
   "execution_count": null,
   "metadata": {
    "colab": {
     "base_uri": "https://localhost:8080/"
    },
    "id": "O0FpFGuLQR4c",
    "outputId": "0838515d-6095-4e0d-baa2-cacd830b466f"
   },
   "outputs": [
    {
     "name": "stdout",
     "output_type": "stream",
     "text": [
      "\u001b[2K     \u001b[90m━━━━━━━━━━━━━━━━━━━━━━━━━━━━━━━━━━━━━━━━\u001b[0m \u001b[32m164.2/164.2 kB\u001b[0m \u001b[31m3.0 MB/s\u001b[0m eta \u001b[36m0:00:00\u001b[0m\n",
      "\u001b[2K     \u001b[90m━━━━━━━━━━━━━━━━━━━━━━━━━━━━━━━━━━━━━━━━\u001b[0m \u001b[32m718.3/718.3 kB\u001b[0m \u001b[31m6.1 MB/s\u001b[0m eta \u001b[36m0:00:00\u001b[0m\n",
      "\u001b[?25h"
     ]
    }
   ],
   "source": [
    "!pip install -q -U google-generativeai"
   ]
  },
  {
   "cell_type": "code",
   "execution_count": null,
   "metadata": {
    "id": "bu5XjXDAQm2U"
   },
   "outputs": [],
   "source": [
    "import os\n",
    "import textwrap\n",
    "import google.generativeai as genai\n",
    "from IPython.display import display\n",
    "from IPython.display import Markdown"
   ]
  },
  {
   "cell_type": "markdown",
   "metadata": {
    "id": "2qDkZNw_QtLo"
   },
   "source": [
    "## 2 Define Helper Functions"
   ]
  },
  {
   "cell_type": "code",
   "execution_count": null,
   "metadata": {
    "id": "oD9QAXBMQw41"
   },
   "outputs": [],
   "source": [
    "def to_markdown(text):\n",
    "  text = text.replace('•', '  *')\n",
    "  return Markdown(textwrap.indent(text, '> ', predicate=lambda _: True))"
   ]
  },
  {
   "cell_type": "code",
   "execution_count": null,
   "metadata": {
    "id": "Wfm2jvLTRED-"
   },
   "outputs": [],
   "source": [
    "def build_chatBot(system_instruction):\n",
    "  model = genai.GenerativeModel('gemini-1.5-flash-latest', system_instruction=system_instruction)\n",
    "  chat = model.start_chat(history=[])\n",
    "  return chat"
   ]
  },
  {
   "cell_type": "code",
   "execution_count": null,
   "metadata": {
    "id": "6onefHglRakd"
   },
   "outputs": [],
   "source": [
    "def generate_LLM_answer(prompt, context, chat):\n",
    "  response = chat.send_message( prompt + context)\n",
    "  return response.text"
   ]
  },
  {
   "cell_type": "markdown",
   "metadata": {
    "id": "GNvdN-SNQ1em"
   },
   "source": [
    "## 3 Connect to the LLM via the Chat API"
   ]
  },
  {
   "cell_type": "code",
   "execution_count": null,
   "metadata": {
    "id": "1JgPySYbQ_fk"
   },
   "outputs": [],
   "source": [
    "# Used to securely store your API key\n",
    "from google.colab import userdata\n",
    "# Or use `os.getenv('GOOGLE_API_KEY')` to fetch an environment variable.\n",
    "GOOGLE_API_KEY=userdata.get('GOOGLE_API_KEY')\n",
    "genai.configure(api_key=GOOGLE_API_KEY)"
   ]
  },
  {
   "cell_type": "code",
   "execution_count": null,
   "metadata": {
    "id": "_Kuf1IyHRUcP"
   },
   "outputs": [],
   "source": [
    "system_prompt= \"\"\" You are an attentive and supportive academic assistant.\n",
    "Your role is to provide assistance based solely on the provided context.\n",
    "\n",
    "Here’s how we’ll proceed:\n",
    "1. I will provide you with a question and related text excerpt.\n",
    "2. Your task is to answer the question using only the provided partial texts.\n",
    "3. If the answer isn’t explicitly found within the given context,\n",
    "respond with 'I don't know'.\n",
    "4. After each response, please provide a detailed explanation.\n",
    "Break down your answer step by step and relate it directly to the provided context.\n",
    "5. Sometimes, I will ask questions about the chat session, such as summarize\n",
    "the chat or list the question etc. For this kind of questions do not try\n",
    "to use the provided partial texts.\n",
    "6. Generate the answer in the same language of the given question.\n",
    "\n",
    "If you're ready, I'll provide you with the question and the context.\n",
    "\"\"\""
   ]
  },
  {
   "cell_type": "code",
   "execution_count": null,
   "metadata": {
    "id": "1YgsKHxKSIlB"
   },
   "outputs": [],
   "source": [
    "RAG_LLM = build_chatBot(system_prompt)"
   ]
  },
  {
   "cell_type": "markdown",
   "metadata": {
    "id": "_ZOLUYaISRal"
   },
   "source": [
    "## 4 Test the LLM connection"
   ]
  },
  {
   "cell_type": "code",
   "execution_count": null,
   "metadata": {
    "id": "HmkPIU1jSW0s"
   },
   "outputs": [],
   "source": [
    "prompt=\"What is FC?\"\n",
    "context= \"\"\"FC lets developers create a description\n",
    "of a F in their code, then pass that description to a language\n",
    "model in a request.\n",
    "\n",
    "The response from the model includes the name of\n",
    "a F that matches the description and the arguments to call it with.\n",
    "FC lets you use F as tools in generative AI applications,\n",
    "and you can define more than one F within a single request.\n",
    "\"\"\""
   ]
  },
  {
   "cell_type": "code",
   "execution_count": null,
   "metadata": {
    "colab": {
     "base_uri": "https://localhost:8080/",
     "height": 103
    },
    "id": "L3vtwTQlSNOW",
    "outputId": "cf5c32d2-96ff-4e30-ca95-c1636a5034fe"
   },
   "outputs": [
    {
     "data": {
      "text/markdown": [
       "> I don't know.\n",
       "> \n",
       "> The provided text describes the functionality of FC and mentions that it lets developers create descriptions of \"F\" in their code. However, it does not explicitly define what \"FC\" or \"F\" actually are. The text focuses on the purpose and usage of FC, but it doesn't provide a clear definition of these terms. \n"
      ],
      "text/plain": [
       "<IPython.core.display.Markdown object>"
      ]
     },
     "execution_count": 51,
     "metadata": {},
     "output_type": "execute_result"
    }
   ],
   "source": [
    "response=generate_LLM_answer(prompt, context,RAG_LLM)\n",
    "to_markdown(response)"
   ]
  },
  {
   "cell_type": "code",
   "execution_count": null,
   "metadata": {
    "colab": {
     "base_uri": "https://localhost:8080/"
    },
    "id": "678AEdaJS4We",
    "outputId": "0bf99a3d-d98e-4ada-9228-d256a25b8a8f"
   },
   "outputs": [
    {
     "data": {
      "text/plain": [
       "[parts {\n",
       "   text: \"What is FC?FC lets developers create a description\\nof a F in their code, then pass that description to a language\\nmodel in a request.\\n\\nThe response from the model includes the name of\\na F that matches the description and the arguments to call it with.\\nFC lets you use F as tools in generative AI applications,\\nand you can define more than one F within a single request.\\n\"\n",
       " }\n",
       " role: \"user\",\n",
       " parts {\n",
       "   text: \"I don\\'t know.\\n\\nThe provided text describes the functionality of FC and mentions that it lets developers create descriptions of \\\"F\\\" in their code. However, it does not explicitly define what \\\"FC\\\" or \\\"F\\\" actually are. The text focuses on the purpose and usage of FC, but it doesn\\'t provide a clear definition of these terms. \\n\"\n",
       " }\n",
       " role: \"model\"]"
      ]
     },
     "execution_count": 52,
     "metadata": {},
     "output_type": "execute_result"
    }
   ],
   "source": [
    "RAG_LLM.history"
   ]
  },
  {
   "cell_type": "code",
   "execution_count": null,
   "metadata": {
    "colab": {
     "base_uri": "https://localhost:8080/"
    },
    "id": "KeAwg653TGd1",
    "outputId": "dc128fb4-5ecf-4808-e49b-654fb8ccab0a"
   },
   "outputs": [
    {
     "data": {
      "text/plain": [
       "[]"
      ]
     },
     "execution_count": 53,
     "metadata": {},
     "output_type": "execute_result"
    }
   ],
   "source": [
    "RAG_LLM.history.clear()\n",
    "RAG_LLM.history"
   ]
  },
  {
   "cell_type": "markdown",
   "metadata": {
    "id": "jFM__cIVTO47"
   },
   "source": [
    "# CREATE THE RAG PIPELINE FOR THE EXISTING KNOWLEDGE BASE"
   ]
  },
  {
   "cell_type": "markdown",
   "metadata": {
    "id": "TKbz2uZPYJax"
   },
   "source": [
    "## 1 A simple RAG Pipeline\n",
    "\n",
    "* preparea summary for the Knowledge Base\n",
    "* get the query from the user\n",
    "* query the Knowledge Base\n",
    "* get the related chunks from the Knowledge Base\n",
    "* combine the query + context from Knowledge Base\n",
    "* submit the prompt (query + context) to the LLM\n",
    "* get the response from the LLM"
   ]
  },
  {
   "cell_type": "code",
   "execution_count": null,
   "metadata": {
    "colab": {
     "base_uri": "https://localhost:8080/"
    },
    "id": "owr3yfjnba2W",
    "outputId": "c6ee00be-fbc9-435b-cc76-773b97ccdcba"
   },
   "outputs": [
    {
     "name": "stdout",
     "output_type": "stream",
     "text": [
      "Collection name: Papers\n",
      "Number of documents in collection: 331\n",
      "All collections in ChromaDB client:\n",
      "Papers\n"
     ]
    }
   ],
   "source": [
    "# Verify collection properties\n",
    "print(f\"Collection name: {chroma_collection.name}\")  # Access the name attribute directly\n",
    "print(f\"Number of documents in collection: {chroma_collection.count()}\")\n",
    "\n",
    "# List all collections in the client\n",
    "print(\"All collections in ChromaDB client:\")\n",
    "for collection in chroma_client.list_collections():\n",
    "    print(collection.name)"
   ]
  },
  {
   "cell_type": "code",
   "execution_count": null,
   "metadata": {
    "id": "RYSGrIVMsUNf"
   },
   "outputs": [],
   "source": [
    "def summarize_collection(chroma_collection):\n",
    "  summary = [] # Initialize summary as a list\n",
    "  print(\"Summarizing the collection...\")\n",
    "  # Verify collection properties\n",
    "  print(f\"\\t Collection name: {chroma_collection.name}\")  # Access the name attribute directly\n",
    "  print(f\"\\t Number of document chunks in collection: {chroma_collection.count()}\")\n",
    "  summary.append(f\"Collection name: {chroma_collection.name}\") # Append to the list\n",
    "  summary.append(f\"Number of document chunks in collection: {chroma_collection.count()}\")\n",
    "  # Print distinct metadata \"document\" for each chunk in the collection\n",
    "  print(\"\\t Distinct 'document' metadata in the collection:\")\n",
    "  distinct_documents = set()  # Use a set to store unique document names\n",
    "\n",
    "  # Iterate over chunks in the collection\n",
    "  for chunk_id in range(chroma_collection.count()):\n",
    "      metadata = chroma_collection.get([str(chunk_id)])['metadatas'][0]  # Get metadata for the chunk\n",
    "      document_name = metadata.get(\"document\", \"Unknown\")  # Get document metadata; default to \"Unknown\" if not present\n",
    "      distinct_documents.add(document_name)  # Add document name to set for uniqueness\n",
    "\n",
    "  # Print all distinct document names\n",
    "  summary.append(\"Documents:\")\n",
    "  for document_name in distinct_documents:\n",
    "      print(\"\\t \",document_name)\n",
    "      summary.append(document_name) # Append to the list\n",
    "\n",
    "  print(\"Collection summarization completed.\")\n",
    "\n",
    "  # Join the list elements into a single string\n",
    "  summary_string = \"\\n \".join(summary)\n",
    "  return summary_string"
   ]
  },
  {
   "cell_type": "code",
   "execution_count": null,
   "metadata": {
    "colab": {
     "base_uri": "https://localhost:8080/"
    },
    "id": "B-7CShpCcrX2",
    "outputId": "7bc4e8db-5c0b-4ab2-d7ac-ad229423a6a4"
   },
   "outputs": [
    {
     "name": "stdout",
     "output_type": "stream",
     "text": [
      "Summarizing the collection...\n",
      "\t Collection name: Papers\n",
      "\t Number of document chunks in collection: 331\n",
      "\t Distinct 'document' metadata in the collection:\n",
      "\t  30 Time-Sensitive Ant Colony Optimization ORIGINAL.pdf\n",
      "\t  77 Arac Park Yerlerinin Doluluk.pdf\n",
      "\t  15 UAV Route Planning For Maximum Target Coverage ABSTRACT.pdf\n",
      "\t  24 Attention Is All You Need.pdf\n",
      "\t  29 Mobile Sink Scheduling Method for Wireless Sensor Networks under Travel Time Uncertainty ABSTRACT.pdf\n",
      "\t  73 Analyzing Students Academic Success.pdf\n",
      "Collection summarization completed.\n"
     ]
    }
   ],
   "source": [
    "s=summarize_collection(chroma_collection)"
   ]
  },
  {
   "cell_type": "code",
   "execution_count": null,
   "metadata": {
    "colab": {
     "base_uri": "https://localhost:8080/"
    },
    "id": "tIYVjyfhshd2",
    "outputId": "7e91190d-74ef-4b0b-8c13-7791ea1c2dc9"
   },
   "outputs": [
    {
     "name": "stdout",
     "output_type": "stream",
     "text": [
      "Collection name: Papers\n",
      " Number of document chunks in collection: 331\n",
      " Documents:\n",
      " 30 Time-Sensitive Ant Colony Optimization ORIGINAL.pdf\n",
      " 77 Arac Park Yerlerinin Doluluk.pdf\n",
      " 15 UAV Route Planning For Maximum Target Coverage ABSTRACT.pdf\n",
      " 24 Attention Is All You Need.pdf\n",
      " 29 Mobile Sink Scheduling Method for Wireless Sensor Networks under Travel Time Uncertainty ABSTRACT.pdf\n",
      " 73 Analyzing Students Academic Success.pdf\n"
     ]
    }
   ],
   "source": [
    "print(s)"
   ]
  },
  {
   "cell_type": "code",
   "execution_count": null,
   "metadata": {
    "id": "sHBw828MYHbU"
   },
   "outputs": [],
   "source": [
    "def generateAnswer(RAG_LLM, chroma_collection,query,n_results=5, only_response=True):\n",
    "    retrieved_documents= retrieveDocs(chroma_collection, query, 10, return_only_docs=True)\n",
    "    prompt = \"QUESTION: \"+ query\n",
    "    context = \"\\n EXCERPTS: \"+ \"\\n\".join(retrieved_documents)\n",
    "    if not only_response:\n",
    "      print(\"------- retreived documents -------\\n\")\n",
    "      for i, doc in enumerate(retrieved_documents):\n",
    "        print(f\"Document {i+1}:\")\n",
    "        print(f\"\\tDocument Text: {doc}\")\n",
    "      print(\"------- RAG answer -------\\n\")\n",
    "    output = generate_LLM_answer(prompt, context, RAG_LLM)\n",
    "\n",
    "    display(to_markdown(output))\n",
    "    print('\\n')\n",
    "    return output"
   ]
  },
  {
   "cell_type": "markdown",
   "metadata": {
    "id": "i87q584BY_l5"
   },
   "source": [
    "## 2 Test the RAG pipeline"
   ]
  },
  {
   "cell_type": "code",
   "execution_count": null,
   "metadata": {
    "id": "IQuoIhc_URCD"
   },
   "outputs": [],
   "source": [
    "queries =[\"Who are the authors suggested a new attention mechanism?\",\n",
    "          \"Who are the authors suggested a new controllable text generation mechanism?\",\n",
    "          \"Who is Murat Karakaya?\",\n",
    "          \"Why do we need to control how the text is produced? \",\n",
    "          \"How can we use the self attention mechanism to control the text generation?\",\n",
    "          \"Summarize the paper named Controllable Text Generation\",\n",
    "          \"How many blocks are suggested in the transformer?\",\n",
    "          \"What about decoder?\"\n",
    "    ]"
   ]
  },
  {
   "cell_type": "code",
   "execution_count": null,
   "metadata": {
    "colab": {
     "base_uri": "https://localhost:8080/",
     "height": 626
    },
    "id": "eNGtY7_qRHRl",
    "outputId": "4bb94191-e13a-4ec4-9c4a-94aadd61d9e4"
   },
   "outputs": [
    {
     "name": "stdout",
     "output_type": "stream",
     "text": [
      "------- retreived documents -------\n",
      "\n",
      "Document 1:\n",
      "\tDocument Text: 78 M URAT KARAKAYA TSACO MWSF N μσ μ σ Impro vement ON 900 93. 23 14. 64 109. 33 12. 4 15 % 625 32. 13 8. 50 47. 83 10. 41 33 % 400 6. 76 2. 48 11. 23 3. 86 40 % 225 2. 43 1. 25 3. 03 1. 69 20 % 100 0. 96 0. 88 1. 06 0. 98 9 % TABLE 3Average Number ( μ ) of [UNK] caused by TSACO and MWSF heuristics for different num - be\n",
      "Document 2:\n",
      "\tDocument Text: ediyor. İlgi alanları arasında yapay zeka ve derin öğrenme konuları bulunuyor. Yazılım mühendisi olarak özel bir şirkette çalışmaya devam etmektedir. B. Murat Karakaya KHO Elektrik - Elektronik Mühendisliği nden lisans, Bilkent Üniversitesinden Bilgisayar Mühendisliğinden Yüksek Lisans ve Doktora derecelerini sırasıyla 1991, 2000 ve 2008 yılında almıştır. Şu anda A tılım Üniversitesi Bilgisayar Mühendisliği bölümünde Doç. Dr\n",
      "Document 3:\n",
      "\tDocument Text: Second, the considered chainedcourses are limited to three mathematical courses ( Calculus I, Calculus II, and [UNK] Equa - tions ). Third, among the several curriculum devel - opment methods, only two ( Spiral and Linear ) areselected for this research. Lastly, since there are [UNK] records stating which courses were designed according to which curriculum development meth - odology, the [UNK] of the chains are doneaccording to the [UNK] of the cirriculum devel - opment methods. Murat Karakaya et al. 368\n",
      "Document 4:\n",
      "\tDocument Text: . edu. tr ). Mobile Sink Scheduling Method for Wireless Sensor Networks under Travel Time Uncertainty Murat KARAKAYA, Member, SAISE Author [UNK] s formal photo\n",
      "Document 5:\n",
      "\tDocument Text: 70 M URAT KARAKAYA FIGURE 1 A sample schedule showing the dynamic nature of the MES. ( distance ). In essence, the solution to a TSP is to construct a minimum dis - tance circuit passing through each vertex once and only once. Therefore, thecost of a solution depends on the distances among the towns. These prob - lem characteristics - town locations and distances - do not change during the development of a solution. On the other hand, in dynamic problems, problemcharacteristics can be changed over time as a solution is being generated. The MES\n",
      "Document 6:\n",
      "\tDocument Text: 74 M URAT KARAKAYA where αandβare two weight parameters, which affect the relative [UNK] of the pheromone trail and the heuristic information. Nk iis the set of candi - date sensors to visit next once ant karrives at the sensor iat the time t. Nk i does not contain either the sensors which are not accessible from the sensor i before their [UNK] time, or the sensor iitself. The probability of choosing all those excluded sensors is assigned as 0. For the pheromone values, if it is the [UNK] time an ant\n",
      "Document 7:\n",
      "\tDocument Text: , Communications and Information Systems ( MEBS ) and Turkish Military Academy ( KHO ), Ankara, Turkey. He joined the faculty of Atilim University in 2012 and is currently an Asst. Professor in the department of Computer Engineering, Ankara, Turkey. His research interests are natural computi ng, sensor networks, peer - to - peer networks, natural computing, optimization, and communications protocol design. He is a member of IACSIT. M. Karakaya is with the Department of Computer Engineering, Atilim University, Ankara, Turkey ( e - mail : murat. karakata @ atilim\n",
      "Document 8:\n",
      "\tDocument Text: Analyzing Students [UNK] Academic Success in Pre - requisite Course Chains : A Case Study in Turkey * MURAT KARAKAYA, MELTEM ERYILMAZ and ULAS CEYHAN Dept. of Computer Engineering, Atilim University, Kızılcaıs [UNK] Mahalles [UNK], 06830 Incek Go ¨lbas [UNK], Ankara, Turkey. E - mail : murat. karakaya @ atilim. edu. tr There are several principles which have been accepted as approaches to successful curriculum development. In spite of the [UNK] in the proposed se\n",
      "Document 9:\n",
      "\tDocument Text: ##utu ( M B ) PKLot - 1 99, 8 / 99, 5 01 : 23 / 08 : 43 5, 5 / 87, 7 PKLot - 2 99, 9 / 99, 6 0 0 : 50 / 05 : 11 5, 5 / 87, 7 PKLot - 3 99,\n",
      "Document 10:\n",
      "\tDocument Text: UAV Route Planning For Maximum Target Coverage Murat Karakaya Department of Computer Engineering, Atilim University Incek / Ankara TURKEY kmkarakaya @ atilim. edu. tr Abstract The importance and the impact of using Unmanned Aerial Vehicles ( UAVs ) in military and civil operations are increasing. One of the challenges in effectively tasking these expensive vehicles is planning the flight routes to monitor the targets. This problem is related with the Multiple Travelling Salesman Problem ( mTSP ) and the Vehicle Routing Problem ( VRP ). In these well - defined problem\n",
      "------- RAG answer -------\n",
      "\n"
     ]
    },
    {
     "data": {
      "text/markdown": [
       "> Murat Karakaya is an Assistant Professor in the Department of Computer Engineering at Atilim University in Ankara, Turkey.  He is a member of the IACSIT and his research interests include natural computing, sensor networks, peer-to-peer networks, natural computing, optimization, and communications protocol design. \n",
       "> \n",
       "> This information is found in the excerpt: \"He joined the faculty of Atilim University in 2012 and is currently an Asst. Professor in the department of Computer Engineering, Ankara, Turkey. His research interests are natural computi ng, sensor networks, peer - to - peer networks, natural computing, optimization, and communications protocol design. He is a member of IACSIT.\" \n"
      ],
      "text/plain": [
       "<IPython.core.display.Markdown object>"
      ]
     },
     "metadata": {},
     "output_type": "display_data"
    },
    {
     "name": "stdout",
     "output_type": "stream",
     "text": [
      "\n",
      "\n"
     ]
    }
   ],
   "source": [
    "reply=generateAnswer(RAG_LLM, chroma_collection, queries[2],10, only_response=False)"
   ]
  },
  {
   "cell_type": "markdown",
   "metadata": {
    "id": "MMMesAl_TjHn"
   },
   "source": [
    "## 3 A simple loop for the User Interaction"
   ]
  },
  {
   "cell_type": "code",
   "execution_count": null,
   "metadata": {
    "colab": {
     "base_uri": "https://localhost:8080/",
     "height": 991
    },
    "id": "y6fOinIoTt5e",
    "outputId": "3b5bcb99-6b66-45b1-df94-242e1db29685"
   },
   "outputs": [
    {
     "name": "stdout",
     "output_type": "stream",
     "text": [
      "Summarizing the collection...\n",
      "\t Collection name: Papers\n",
      "\t Number of document chunks in collection: 331\n",
      "\t Distinct 'document' metadata in the collection:\n",
      "\t  30 Time-Sensitive Ant Colony Optimization ORIGINAL.pdf\n",
      "\t  77 Arac Park Yerlerinin Doluluk.pdf\n",
      "\t  15 UAV Route Planning For Maximum Target Coverage ABSTRACT.pdf\n",
      "\t  24 Attention Is All You Need.pdf\n",
      "\t  29 Mobile Sink Scheduling Method for Wireless Sensor Networks under Travel Time Uncertainty ABSTRACT.pdf\n",
      "\t  73 Analyzing Students Academic Success.pdf\n",
      "Collection summarization completed.\n",
      "Please enter your question, or type 'bye' to exit: Who are the authors suggested a new attention mechanism?\n"
     ]
    },
    {
     "data": {
      "text/markdown": [
       "> I don't know.\n",
       "> \n",
       "> The provided excerpt does not mention who suggested a new attention mechanism. It lists several authors and their works, but there's no specific mention of an attention mechanism being proposed by any of them. \n"
      ],
      "text/plain": [
       "<IPython.core.display.Markdown object>"
      ]
     },
     "metadata": {},
     "output_type": "display_data"
    },
    {
     "name": "stdout",
     "output_type": "stream",
     "text": [
      "\n",
      "\n",
      "Please enter your question, or type 'bye' to exit: what is the name of the attention layer?\n"
     ]
    },
    {
     "data": {
      "text/markdown": [
       "> I don't know.\n",
       "> \n",
       "> The text excerpt provides information about different attention layers used in the encoder-decoder architecture and the self-attention layer, but it doesn't specifically mention a name for any of these layers. \n"
      ],
      "text/plain": [
       "<IPython.core.display.Markdown object>"
      ]
     },
     "metadata": {},
     "output_type": "display_data"
    },
    {
     "name": "stdout",
     "output_type": "stream",
     "text": [
      "\n",
      "\n",
      "Please enter your question, or type 'bye' to exit: Summarize the paper named Attention Is All You Need\n"
     ]
    },
    {
     "data": {
      "text/markdown": [
       "> I don't know.\n",
       "> \n",
       "> The text excerpt is not from the paper \"Attention Is All You Need,\" but rather a paper discussing the impact of prerequisite courses on student success in mathematics. It does not contain any information about the paper \"Attention Is All You Need.\" \n"
      ],
      "text/plain": [
       "<IPython.core.display.Markdown object>"
      ]
     },
     "metadata": {},
     "output_type": "display_data"
    },
    {
     "name": "stdout",
     "output_type": "stream",
     "text": [
      "\n",
      "\n",
      "Please enter your question, or type 'bye' to exit: how the Ant Colony Optimization is used in the paper?\n"
     ]
    },
    {
     "data": {
      "text/markdown": [
       "> The text excerpt describes how Ant Colony Optimization (ACO) is used in the context of **Mobile Sink Scheduling** in Wireless Sensor Networks (WSNs). Here's how:\n",
       "> \n",
       "> 1. **Inspiration from Real Ants:** The ACO algorithm is inspired by how real ants search for food, leaving pheromone trails to guide others.\n",
       "> 2. **Simulating Ant Behavior:** The paper simulates this behavior by having \"ants\" traverse the network, representing different possible schedules for the mobile sink (a device that collects data from sensors).\n",
       "> 3. **Pheromone Deposition:**  As ants explore, they deposit pheromone on edges between visited sensors based on the quality of the schedule they produce.\n",
       "> 4. **Positive Feedback Loop:** This pheromone deposition creates a positive feedback loop: Successful paths (schedules) attract more ants, increasing pheromone levels, making them more likely to be chosen in future iterations.\n",
       "> 5. **Convergence to Optimal Solution:** Through this process, the algorithm aims to converge to a near-optimal schedule where the mobile sink visits the most important sensors efficiently.\n",
       "> \n",
       "> The excerpt does not go into the specifics of how the ACO algorithm is implemented within the mobile sink scheduling problem, but it highlights its core concepts. \n"
      ],
      "text/plain": [
       "<IPython.core.display.Markdown object>"
      ]
     },
     "metadata": {},
     "output_type": "display_data"
    },
    {
     "name": "stdout",
     "output_type": "stream",
     "text": [
      "\n",
      "\n",
      "Please enter your question, or type 'bye' to exit: bye\n",
      "Thank you for using the service. Goodbye!\n"
     ]
    }
   ],
   "source": [
    "summarize_collection(chroma_collection)\n",
    "RAG_LLM.history.clear()\n",
    "while True:\n",
    "  question = input(\"Please enter your question, or type 'bye' to exit: \")\n",
    "  if question == \"bye\":\n",
    "    print(\"Thank you for using the service. Goodbye!\")\n",
    "    break\n",
    "  else:\n",
    "    generateAnswer(RAG_LLM, chroma_collection, question)\n",
    "\n",
    "\n"
   ]
  },
  {
   "cell_type": "markdown",
   "metadata": {
    "id": "9TCXZkVWTUF9"
   },
   "source": [
    "## 4 A Gradio Interface"
   ]
  },
  {
   "cell_type": "code",
   "execution_count": null,
   "metadata": {
    "colab": {
     "base_uri": "https://localhost:8080/"
    },
    "collapsed": true,
    "id": "LDfjbm8JiVE2",
    "outputId": "0066e6db-9de6-448b-95de-89d573bd3047"
   },
   "outputs": [
    {
     "name": "stdout",
     "output_type": "stream",
     "text": [
      "Collecting gradio\n",
      "  Downloading gradio-4.38.1-py3-none-any.whl (12.4 MB)\n",
      "\u001b[2K     \u001b[90m━━━━━━━━━━━━━━━━━━━━━━━━━━━━━━━━━━━━━━━━\u001b[0m \u001b[32m12.4/12.4 MB\u001b[0m \u001b[31m23.5 MB/s\u001b[0m eta \u001b[36m0:00:00\u001b[0m\n",
      "\u001b[?25hCollecting aiofiles<24.0,>=22.0 (from gradio)\n",
      "  Downloading aiofiles-23.2.1-py3-none-any.whl (15 kB)\n",
      "Collecting altair<6.0,>=5.0 (from gradio)\n",
      "  Downloading altair-5.3.0-py3-none-any.whl (857 kB)\n",
      "\u001b[2K     \u001b[90m━━━━━━━━━━━━━━━━━━━━━━━━━━━━━━━━━━━━━━━━\u001b[0m \u001b[32m857.8/857.8 kB\u001b[0m \u001b[31m34.3 MB/s\u001b[0m eta \u001b[36m0:00:00\u001b[0m\n",
      "\u001b[?25hRequirement already satisfied: fastapi in /usr/local/lib/python3.10/dist-packages (from gradio) (0.111.0)\n",
      "Collecting ffmpy (from gradio)\n",
      "  Downloading ffmpy-0.3.2.tar.gz (5.5 kB)\n",
      "  Preparing metadata (setup.py) ... \u001b[?25l\u001b[?25hdone\n",
      "Collecting gradio-client==1.1.0 (from gradio)\n",
      "  Downloading gradio_client-1.1.0-py3-none-any.whl (318 kB)\n",
      "\u001b[2K     \u001b[90m━━━━━━━━━━━━━━━━━━━━━━━━━━━━━━━━━━━━━━━━\u001b[0m \u001b[32m318.1/318.1 kB\u001b[0m \u001b[31m22.4 MB/s\u001b[0m eta \u001b[36m0:00:00\u001b[0m\n",
      "\u001b[?25hRequirement already satisfied: httpx>=0.24.1 in /usr/local/lib/python3.10/dist-packages (from gradio) (0.27.0)\n",
      "Requirement already satisfied: huggingface-hub>=0.19.3 in /usr/local/lib/python3.10/dist-packages (from gradio) (0.23.4)\n",
      "Requirement already satisfied: importlib-resources<7.0,>=1.3 in /usr/local/lib/python3.10/dist-packages (from gradio) (6.4.0)\n",
      "Requirement already satisfied: jinja2<4.0 in /usr/local/lib/python3.10/dist-packages (from gradio) (3.1.4)\n",
      "Requirement already satisfied: markupsafe~=2.0 in /usr/local/lib/python3.10/dist-packages (from gradio) (2.1.5)\n",
      "Requirement already satisfied: matplotlib~=3.0 in /usr/local/lib/python3.10/dist-packages (from gradio) (3.7.1)\n",
      "Requirement already satisfied: numpy<3.0,>=1.0 in /usr/local/lib/python3.10/dist-packages (from gradio) (1.25.2)\n",
      "Requirement already satisfied: orjson~=3.0 in /usr/local/lib/python3.10/dist-packages (from gradio) (3.10.6)\n",
      "Requirement already satisfied: packaging in /usr/local/lib/python3.10/dist-packages (from gradio) (24.1)\n",
      "Requirement already satisfied: pandas<3.0,>=1.0 in /usr/local/lib/python3.10/dist-packages (from gradio) (2.0.3)\n",
      "Requirement already satisfied: pillow<11.0,>=8.0 in /usr/local/lib/python3.10/dist-packages (from gradio) (9.4.0)\n",
      "Requirement already satisfied: pydantic>=2.0 in /usr/local/lib/python3.10/dist-packages (from gradio) (2.8.2)\n",
      "Collecting pydub (from gradio)\n",
      "  Downloading pydub-0.25.1-py2.py3-none-any.whl (32 kB)\n",
      "Requirement already satisfied: python-multipart>=0.0.9 in /usr/local/lib/python3.10/dist-packages (from gradio) (0.0.9)\n",
      "Requirement already satisfied: pyyaml<7.0,>=5.0 in /usr/local/lib/python3.10/dist-packages (from gradio) (6.0.1)\n",
      "Collecting ruff>=0.2.2 (from gradio)\n",
      "  Downloading ruff-0.5.1-py3-none-manylinux_2_17_x86_64.manylinux2014_x86_64.whl (10.1 MB)\n",
      "\u001b[2K     \u001b[90m━━━━━━━━━━━━━━━━━━━━━━━━━━━━━━━━━━━━━━━━\u001b[0m \u001b[32m10.1/10.1 MB\u001b[0m \u001b[31m37.5 MB/s\u001b[0m eta \u001b[36m0:00:00\u001b[0m\n",
      "\u001b[?25hCollecting semantic-version~=2.0 (from gradio)\n",
      "  Downloading semantic_version-2.10.0-py2.py3-none-any.whl (15 kB)\n",
      "Collecting tomlkit==0.12.0 (from gradio)\n",
      "  Downloading tomlkit-0.12.0-py3-none-any.whl (37 kB)\n",
      "Requirement already satisfied: typer<1.0,>=0.12 in /usr/local/lib/python3.10/dist-packages (from gradio) (0.12.3)\n",
      "Requirement already satisfied: typing-extensions~=4.0 in /usr/local/lib/python3.10/dist-packages (from gradio) (4.12.2)\n",
      "Requirement already satisfied: urllib3~=2.0 in /usr/local/lib/python3.10/dist-packages (from gradio) (2.0.7)\n",
      "Requirement already satisfied: uvicorn>=0.14.0 in /usr/local/lib/python3.10/dist-packages (from gradio) (0.30.1)\n",
      "Requirement already satisfied: fsspec in /usr/local/lib/python3.10/dist-packages (from gradio-client==1.1.0->gradio) (2023.6.0)\n",
      "Collecting websockets<12.0,>=10.0 (from gradio-client==1.1.0->gradio)\n",
      "  Downloading websockets-11.0.3-cp310-cp310-manylinux_2_5_x86_64.manylinux1_x86_64.manylinux_2_17_x86_64.manylinux2014_x86_64.whl (129 kB)\n",
      "\u001b[2K     \u001b[90m━━━━━━━━━━━━━━━━━━━━━━━━━━━━━━━━━━━━━━━━\u001b[0m \u001b[32m129.9/129.9 kB\u001b[0m \u001b[31m13.4 MB/s\u001b[0m eta \u001b[36m0:00:00\u001b[0m\n",
      "\u001b[?25hRequirement already satisfied: jsonschema>=3.0 in /usr/local/lib/python3.10/dist-packages (from altair<6.0,>=5.0->gradio) (4.19.2)\n",
      "Requirement already satisfied: toolz in /usr/local/lib/python3.10/dist-packages (from altair<6.0,>=5.0->gradio) (0.12.1)\n",
      "Requirement already satisfied: anyio in /usr/local/lib/python3.10/dist-packages (from httpx>=0.24.1->gradio) (3.7.1)\n",
      "Requirement already satisfied: certifi in /usr/local/lib/python3.10/dist-packages (from httpx>=0.24.1->gradio) (2024.7.4)\n",
      "Requirement already satisfied: httpcore==1.* in /usr/local/lib/python3.10/dist-packages (from httpx>=0.24.1->gradio) (1.0.5)\n",
      "Requirement already satisfied: idna in /usr/local/lib/python3.10/dist-packages (from httpx>=0.24.1->gradio) (3.7)\n",
      "Requirement already satisfied: sniffio in /usr/local/lib/python3.10/dist-packages (from httpx>=0.24.1->gradio) (1.3.1)\n",
      "Requirement already satisfied: h11<0.15,>=0.13 in /usr/local/lib/python3.10/dist-packages (from httpcore==1.*->httpx>=0.24.1->gradio) (0.14.0)\n",
      "Requirement already satisfied: filelock in /usr/local/lib/python3.10/dist-packages (from huggingface-hub>=0.19.3->gradio) (3.15.4)\n",
      "Requirement already satisfied: requests in /usr/local/lib/python3.10/dist-packages (from huggingface-hub>=0.19.3->gradio) (2.31.0)\n",
      "Requirement already satisfied: tqdm>=4.42.1 in /usr/local/lib/python3.10/dist-packages (from huggingface-hub>=0.19.3->gradio) (4.66.4)\n",
      "Requirement already satisfied: contourpy>=1.0.1 in /usr/local/lib/python3.10/dist-packages (from matplotlib~=3.0->gradio) (1.2.1)\n",
      "Requirement already satisfied: cycler>=0.10 in /usr/local/lib/python3.10/dist-packages (from matplotlib~=3.0->gradio) (0.12.1)\n",
      "Requirement already satisfied: fonttools>=4.22.0 in /usr/local/lib/python3.10/dist-packages (from matplotlib~=3.0->gradio) (4.53.1)\n",
      "Requirement already satisfied: kiwisolver>=1.0.1 in /usr/local/lib/python3.10/dist-packages (from matplotlib~=3.0->gradio) (1.4.5)\n",
      "Requirement already satisfied: pyparsing>=2.3.1 in /usr/local/lib/python3.10/dist-packages (from matplotlib~=3.0->gradio) (3.1.2)\n",
      "Requirement already satisfied: python-dateutil>=2.7 in /usr/local/lib/python3.10/dist-packages (from matplotlib~=3.0->gradio) (2.8.2)\n",
      "Requirement already satisfied: pytz>=2020.1 in /usr/local/lib/python3.10/dist-packages (from pandas<3.0,>=1.0->gradio) (2023.4)\n",
      "Requirement already satisfied: tzdata>=2022.1 in /usr/local/lib/python3.10/dist-packages (from pandas<3.0,>=1.0->gradio) (2024.1)\n",
      "Requirement already satisfied: annotated-types>=0.4.0 in /usr/local/lib/python3.10/dist-packages (from pydantic>=2.0->gradio) (0.7.0)\n",
      "Requirement already satisfied: pydantic-core==2.20.1 in /usr/local/lib/python3.10/dist-packages (from pydantic>=2.0->gradio) (2.20.1)\n",
      "Requirement already satisfied: click>=8.0.0 in /usr/local/lib/python3.10/dist-packages (from typer<1.0,>=0.12->gradio) (8.1.7)\n",
      "Requirement already satisfied: shellingham>=1.3.0 in /usr/local/lib/python3.10/dist-packages (from typer<1.0,>=0.12->gradio) (1.5.4)\n",
      "Requirement already satisfied: rich>=10.11.0 in /usr/local/lib/python3.10/dist-packages (from typer<1.0,>=0.12->gradio) (13.7.1)\n",
      "Requirement already satisfied: starlette<0.38.0,>=0.37.2 in /usr/local/lib/python3.10/dist-packages (from fastapi->gradio) (0.37.2)\n",
      "Requirement already satisfied: fastapi-cli>=0.0.2 in /usr/local/lib/python3.10/dist-packages (from fastapi->gradio) (0.0.4)\n",
      "Requirement already satisfied: ujson!=4.0.2,!=4.1.0,!=4.2.0,!=4.3.0,!=5.0.0,!=5.1.0,>=4.0.1 in /usr/local/lib/python3.10/dist-packages (from fastapi->gradio) (5.10.0)\n",
      "Requirement already satisfied: email_validator>=2.0.0 in /usr/local/lib/python3.10/dist-packages (from fastapi->gradio) (2.2.0)\n",
      "Requirement already satisfied: dnspython>=2.0.0 in /usr/local/lib/python3.10/dist-packages (from email_validator>=2.0.0->fastapi->gradio) (2.6.1)\n",
      "Requirement already satisfied: attrs>=22.2.0 in /usr/local/lib/python3.10/dist-packages (from jsonschema>=3.0->altair<6.0,>=5.0->gradio) (23.2.0)\n",
      "Requirement already satisfied: jsonschema-specifications>=2023.03.6 in /usr/local/lib/python3.10/dist-packages (from jsonschema>=3.0->altair<6.0,>=5.0->gradio) (2023.12.1)\n",
      "Requirement already satisfied: referencing>=0.28.4 in /usr/local/lib/python3.10/dist-packages (from jsonschema>=3.0->altair<6.0,>=5.0->gradio) (0.35.1)\n",
      "Requirement already satisfied: rpds-py>=0.7.1 in /usr/local/lib/python3.10/dist-packages (from jsonschema>=3.0->altair<6.0,>=5.0->gradio) (0.19.0)\n",
      "Requirement already satisfied: six>=1.5 in /usr/local/lib/python3.10/dist-packages (from python-dateutil>=2.7->matplotlib~=3.0->gradio) (1.16.0)\n",
      "Requirement already satisfied: markdown-it-py>=2.2.0 in /usr/local/lib/python3.10/dist-packages (from rich>=10.11.0->typer<1.0,>=0.12->gradio) (3.0.0)\n",
      "Requirement already satisfied: pygments<3.0.0,>=2.13.0 in /usr/local/lib/python3.10/dist-packages (from rich>=10.11.0->typer<1.0,>=0.12->gradio) (2.16.1)\n",
      "Requirement already satisfied: exceptiongroup in /usr/local/lib/python3.10/dist-packages (from anyio->httpx>=0.24.1->gradio) (1.2.1)\n",
      "Requirement already satisfied: httptools>=0.5.0 in /usr/local/lib/python3.10/dist-packages (from uvicorn>=0.14.0->gradio) (0.6.1)\n",
      "Requirement already satisfied: python-dotenv>=0.13 in /usr/local/lib/python3.10/dist-packages (from uvicorn>=0.14.0->gradio) (1.0.1)\n",
      "Requirement already satisfied: uvloop!=0.15.0,!=0.15.1,>=0.14.0 in /usr/local/lib/python3.10/dist-packages (from uvicorn>=0.14.0->gradio) (0.19.0)\n",
      "Requirement already satisfied: watchfiles>=0.13 in /usr/local/lib/python3.10/dist-packages (from uvicorn>=0.14.0->gradio) (0.22.0)\n",
      "Requirement already satisfied: charset-normalizer<4,>=2 in /usr/local/lib/python3.10/dist-packages (from requests->huggingface-hub>=0.19.3->gradio) (3.3.2)\n",
      "Requirement already satisfied: mdurl~=0.1 in /usr/local/lib/python3.10/dist-packages (from markdown-it-py>=2.2.0->rich>=10.11.0->typer<1.0,>=0.12->gradio) (0.1.2)\n",
      "Building wheels for collected packages: ffmpy\n",
      "  Building wheel for ffmpy (setup.py) ... \u001b[?25l\u001b[?25hdone\n",
      "  Created wheel for ffmpy: filename=ffmpy-0.3.2-py3-none-any.whl size=5584 sha256=c3810389b4aec1dc0072dd0e1afa2aa66cd26d35c902aa4a8dfa69937464dbee\n",
      "  Stored in directory: /root/.cache/pip/wheels/bd/65/9a/671fc6dcde07d4418df0c592f8df512b26d7a0029c2a23dd81\n",
      "Successfully built ffmpy\n",
      "Installing collected packages: pydub, ffmpy, websockets, tomlkit, semantic-version, ruff, aiofiles, gradio-client, altair, gradio\n",
      "  Attempting uninstall: websockets\n",
      "    Found existing installation: websockets 12.0\n",
      "    Uninstalling websockets-12.0:\n",
      "      Successfully uninstalled websockets-12.0\n",
      "  Attempting uninstall: altair\n",
      "    Found existing installation: altair 4.2.2\n",
      "    Uninstalling altair-4.2.2:\n",
      "      Successfully uninstalled altair-4.2.2\n",
      "Successfully installed aiofiles-23.2.1 altair-5.3.0 ffmpy-0.3.2 gradio-4.38.1 gradio-client-1.1.0 pydub-0.25.1 ruff-0.5.1 semantic-version-2.10.0 tomlkit-0.12.0 websockets-11.0.3\n"
     ]
    }
   ],
   "source": [
    "%pip install gradio\n",
    "import gradio as gr\n"
   ]
  },
  {
   "cell_type": "code",
   "execution_count": null,
   "metadata": {
    "colab": {
     "base_uri": "https://localhost:8080/",
     "height": 1000
    },
    "id": "1qt3Tgf8vwdL",
    "outputId": "17a3917b-e854-4141-c096-3ab3b46b0c53"
   },
   "outputs": [
    {
     "name": "stdout",
     "output_type": "stream",
     "text": [
      "Summarizing the collection...\n",
      "\t Collection name: Papers\n",
      "\t Number of document chunks in collection: 331\n",
      "\t Distinct 'document' metadata in the collection:\n",
      "\t  30 Time-Sensitive Ant Colony Optimization ORIGINAL.pdf\n",
      "\t  77 Arac Park Yerlerinin Doluluk.pdf\n",
      "\t  15 UAV Route Planning For Maximum Target Coverage ABSTRACT.pdf\n",
      "\t  24 Attention Is All You Need.pdf\n",
      "\t  29 Mobile Sink Scheduling Method for Wireless Sensor Networks under Travel Time Uncertainty ABSTRACT.pdf\n",
      "\t  73 Analyzing Students Academic Success.pdf\n",
      "Collection summarization completed.\n",
      "Setting queue=True in a Colab notebook requires sharing enabled. Setting `share=True` (you can turn this off by setting `share=False` in `launch()` explicitly).\n",
      "\n",
      "Colab notebook detected. This cell will run indefinitely so that you can see errors and logs. To turn off, set debug=False in launch().\n",
      "Running on public URL: https://93a05a81c69ca8683d.gradio.live\n",
      "\n",
      "This share link expires in 72 hours. For free permanent hosting and GPU upgrades, run `gradio deploy` from Terminal to deploy to Spaces (https://huggingface.co/spaces)\n"
     ]
    },
    {
     "data": {
      "text/html": [
       "<div><iframe src=\"https://93a05a81c69ca8683d.gradio.live\" width=\"100%\" height=\"500\" allow=\"autoplay; camera; microphone; clipboard-read; clipboard-write;\" frameborder=\"0\" allowfullscreen></iframe></div>"
      ],
      "text/plain": [
       "<IPython.core.display.HTML object>"
      ]
     },
     "metadata": {},
     "output_type": "display_data"
    },
    {
     "data": {
      "text/markdown": [
       "> I don't know.\n",
       "> \n",
       "> The text provided does not mention who Murat is. It does mention Murat KARAKAYA, but it does not give any information about who he is. \n"
      ],
      "text/plain": [
       "<IPython.core.display.Markdown object>"
      ]
     },
     "metadata": {},
     "output_type": "display_data"
    },
    {
     "name": "stdout",
     "output_type": "stream",
     "text": [
      "\n",
      "\n"
     ]
    },
    {
     "data": {
      "text/markdown": [
       "> Murat Karakaya is an Assistant Professor in the Department of Computer Engineering at Atilim University in Ankara, Turkey. \n",
       "> \n",
       "> Here's how we know this:\n",
       "> \n",
       "> 1. The text states: \"B. Murat Karakaya... currently an Asst. Professor in the department of Computer Engineering, Ankara, Turkey.\"\n",
       "> 2. The text also includes his email address: \"murat.karakata@atilim.edu.tr\" which further confirms his affiliation with Atilim University. \n",
       "> \n",
       "> The text goes on to describe his research interests and academic background. \n"
      ],
      "text/plain": [
       "<IPython.core.display.Markdown object>"
      ]
     },
     "metadata": {},
     "output_type": "display_data"
    },
    {
     "name": "stdout",
     "output_type": "stream",
     "text": [
      "\n",
      "\n"
     ]
    },
    {
     "data": {
      "text/markdown": [
       "> Attention, in this context, is a mechanism that allows a model to focus on specific parts of an input sequence when processing it. \n",
       "> \n",
       "> Here's a breakdown based on the provided text:\n",
       "> \n",
       "> 1. **Self-attention (intra-attention):**  This type of attention relates different positions within a single sequence (e.g., a sentence) to understand its structure and meaning better.\n",
       "> 2. **Multi-Head Attention:** This is a more advanced approach where multiple attention layers run in parallel, allowing the model to focus on different aspects of the input simultaneously.\n",
       "> 3. **Scaled Dot-Product Attention:** This is a specific type of attention where the model calculates a score based on the similarity between a \"query\" and \"key\" to determine the weight assigned to each value.\n",
       "> \n",
       "> The text discusses how attention mechanisms are used in language models to learn long-range dependencies, which helps them understand the relationships between words and phrases in a sentence. Examples of this are shown in the figures, where different attention heads focus on different aspects of the input. \n"
      ],
      "text/plain": [
       "<IPython.core.display.Markdown object>"
      ]
     },
     "metadata": {},
     "output_type": "display_data"
    },
    {
     "name": "stdout",
     "output_type": "stream",
     "text": [
      "\n",
      "\n"
     ]
    },
    {
     "data": {
      "text/markdown": [
       "> This chat session started with you asking about who \"Murat\" is. The provided text did not have information about a person named \"Murat\" but it did mention \"Murat Karakaya\".  The second question was about who \"Murat Karakaya\" is and the answer was that he is an Assistant Professor in the Department of Computer Engineering at Atilim University in Ankara, Turkey.  The final question was about what \"attention\" is, which is a mechanism that allows a model to focus on specific parts of an input sequence when processing it. \n"
      ],
      "text/plain": [
       "<IPython.core.display.Markdown object>"
      ]
     },
     "metadata": {},
     "output_type": "display_data"
    },
    {
     "name": "stdout",
     "output_type": "stream",
     "text": [
      "\n",
      "\n",
      "Keyboard interruption in main thread... closing server.\n",
      "Killing tunnel 127.0.0.1:7860 <> https://93a05a81c69ca8683d.gradio.live\n"
     ]
    },
    {
     "data": {
      "text/plain": []
     },
     "execution_count": 63,
     "metadata": {},
     "output_type": "execute_result"
    }
   ],
   "source": [
    "RAG_LLM.history.clear()\n",
    "\n",
    "# Replace with your actual function (assuming it generates an answer)\n",
    "def generateAnswerInterFace(question):\n",
    "    return generateAnswer(RAG_LLM, chroma_collection, question)\n",
    "\n",
    "# Function to generate the info text\n",
    "def get_info_text():\n",
    "    return \"INFO: \" + summarize_collection(chroma_collection)\n",
    "    # Assuming summarize_collection returns a string\n",
    "\n",
    "# Use gr.Blocks instead of gr.Interface\n",
    "with gr.Blocks() as demo:\n",
    "    # Define interface components\n",
    "    query_txt = gr.Textbox(label=\"Enter your question here:\", placeholder=\"Type your question\")\n",
    "    answer_txt = gr.Textbox(label=\"Answer:\", placeholder=\"Answer will be displayed here\")\n",
    "\n",
    "    # Create a button to trigger the prediction\n",
    "    btn = gr.Button(\"Generate Answer\")\n",
    "\n",
    "    # Define the prediction function (order changed for button placement)\n",
    "    def predict(question):\n",
    "        answer = generateAnswerInterFace(question)\n",
    "        return answer\n",
    "\n",
    "    info_txt = gr.Textbox(get_info_text(), label=\"Info\")  # Add info textbox after button\n",
    "\n",
    "    # Connect button click to prediction function\n",
    "    btn.click(predict, inputs=query_txt, outputs=answer_txt)\n",
    "\n",
    "# Launch the interface\n",
    "demo.launch(debug=True)\n"
   ]
  },
  {
   "cell_type": "code",
   "execution_count": null,
   "metadata": {
    "colab": {
     "base_uri": "https://localhost:8080/"
    },
    "id": "oB0go7_LzFTj",
    "outputId": "a42cdfef-2849-4708-9534-54530f2c8ebd"
   },
   "outputs": [
    {
     "data": {
      "text/plain": [
       "[parts {\n",
       "   text: \"QUESTION: who is Murat\\n EXCERPTS: ediyor. \\304\\260lgi alanlar\\304\\261 aras\\304\\261nda yapay zeka ve derin \\303\\266\\304\\237renme konular\\304\\261 bulunuyor. Yaz\\304\\261l\\304\\261m m\\303\\274hendisi olarak \\303\\266zel bir \\305\\237irkette \\303\\247al\\304\\261\\305\\237maya devam etmektedir. B. Murat Karakaya KHO Elektrik - Elektronik M\\303\\274hendisli\\304\\237i nden lisans, Bilkent \\303\\234niversitesinden Bilgisayar M\\303\\274hendisli\\304\\237inden Y\\303\\274ksek Lisans ve Doktora derecelerini s\\304\\261ras\\304\\261yla 1991, 2000 ve 2008 y\\304\\261l\\304\\261nda alm\\304\\261\\305\\237t\\304\\261r. \\305\\236u anda A t\\304\\261l\\304\\261m \\303\\234niversitesi Bilgisayar M\\303\\274hendisli\\304\\237i b\\303\\266l\\303\\274m\\303\\274nde Do\\303\\247. Dr\\n. edu. tr ). Mobile Sink Scheduling Method for Wireless Sensor Networks under Travel Time Uncertainty Murat KARAKAYA, Member, SAISE Author [UNK] s formal photo\\nwhile posing their own pheromone on the way as well. As a result, the more com - monly used paths tend to bear a higher level of pheromone. The authors exploited this mechanism by simulating [UNK] ants traversing the problem space, [UNK] some solutions, and marking the usefulness of the path accord - ing to the quality of the solution. Thanks to the positive feedback mechanism, the ACO can converge to an optimal solution. In addition, it has been widely used to solve a number of combinatorial optimization problems while being compared with other heuristics\\n78 M URAT KARAKAYA TSACO MWSF N \\316\\274\\317\\203 \\316\\274 \\317\\203 Impro vement ON 900 93. 23 14. 64 109. 33 12. 4 15 % 625 32. 13 8. 50 47. 83 10. 41 33 % 400 6. 76 2. 48 11. 23 3. 86 40 % 225 2. 43 1. 25 3. 03 1. 69 20 % 100 0. 96 0. 88 1. 06 0. 98 9 % TABLE 3Average Number ( \\316\\274 ) of [UNK] caused by TSACO and MWSF heuristics for different num - be\\n70 M URAT KARAKAYA FIGURE 1 A sample schedule showing the dynamic nature of the MES. ( distance ). In essence, the solution to a TSP is to construct a minimum dis - tance circuit passing through each vertex once and only once. Therefore, thecost of a solution depends on the distances among the towns. These prob - lem characteristics - town locations and distances - do not change during the development of a solution. On the other hand, in dynamic problems, problemcharacteristics can be changed over time as a solution is being generated. The MES\\n##utu ( M B ) PKLot - 1 99, 8 / 99, 5 01 : 23 / 08 : 43 5, 5 / 87, 7 PKLot - 2 99, 9 / 99, 6 0 0 : 50 / 05 : 11 5, 5 / 87, 7 PKLot - 3 99,\\nproperties of an ant algorithm. In Proceedings of the Parallel Problem Solving from Nature Conference ( PPSN 92 ), pages 509 [UNK] 520. Elsevier Publishing. [ 4 ] Alberto Colorni, Marco Dorigo, Vittorio Maniezzo, and Marco Trubian. ( 1994 ). Ant sys - tem for job - shop scheduling. Belgian Journal of Operations Research, Statistics and Com - puter Science, 34 ( 1 ) : 39 [UNK] 53. [ 5 ] Mario Di Francesco, Sajal K. Das, and Giuseppe Anastasi. ( August 2011 ). Data collec - tion in wireless sensor networks\\nEach ant kmaintains a memory Mkto hold the amount of the collected data and the number of [UNK] occurred. This memory is used to compute the success of the tour ( schedule ) Tkand the amount of pheromone to deposit on the path. Updating Pheromone Trails After all the ants have constructed their tours, the pheromone trails are updated. This is done by [UNK] decreasing the pheromone value on all the edges using a constant factor \\317\\201, that is pheromone evaporation, implemented by \\317\\204i, j, t\\342\\206\\220 ( 1\\342\\210\\222\\317\\201 )\\n##lected data for a given period of time, namely tour time. Provided below are the details of the MES / TSACO implementation 3. 2 The Time - Sensitive ACO A combinatorial optimization problem can be static or dynamic with respect to the given characteristics of the problem. In static problems, the underly - ing system properties stay the same throughout the problem - solution pro - cess. A typical example of these kinds of problems is the Traveling Sales - man Problem ( TSP ). In the TSP, there are a number of towns ( vertices ) con - nected to each\\ntraining for 3. 5 days on eight GPUs, a small fraction of the training costs of the best models from the literature. We show that the Transformer generalizes well to other tasks by applying it successfully to English constituency parsing both with large and limited training data. \\342\\210\\227Equal contribution. Listing order is random. Jakob proposed replacing RNNs with self - attention and started the effort to evaluate this idea. Ashish, with Illia, designed and implemented the first Transformer models and has been crucially involved in every aspect of this work. Noam proposed scaled dot - product attention, multi -\"\n",
       " }\n",
       " role: \"user\",\n",
       " parts {\n",
       "   text: \"I don\\'t know.\\n\\nThe text provided does not mention who Murat is. It does mention Murat KARAKAYA, but it does not give any information about who he is. \\n\"\n",
       " }\n",
       " role: \"model\",\n",
       " parts {\n",
       "   text: \"QUESTION: who is Murat Karakaya\\n EXCERPTS: ediyor. \\304\\260lgi alanlar\\304\\261 aras\\304\\261nda yapay zeka ve derin \\303\\266\\304\\237renme konular\\304\\261 bulunuyor. Yaz\\304\\261l\\304\\261m m\\303\\274hendisi olarak \\303\\266zel bir \\305\\237irkette \\303\\247al\\304\\261\\305\\237maya devam etmektedir. B. Murat Karakaya KHO Elektrik - Elektronik M\\303\\274hendisli\\304\\237i nden lisans, Bilkent \\303\\234niversitesinden Bilgisayar M\\303\\274hendisli\\304\\237inden Y\\303\\274ksek Lisans ve Doktora derecelerini s\\304\\261ras\\304\\261yla 1991, 2000 ve 2008 y\\304\\261l\\304\\261nda alm\\304\\261\\305\\237t\\304\\261r. \\305\\236u anda A t\\304\\261l\\304\\261m \\303\\234niversitesi Bilgisayar M\\303\\274hendisli\\304\\237i b\\303\\266l\\303\\274m\\303\\274nde Do\\303\\247. Dr\\n78 M URAT KARAKAYA TSACO MWSF N \\316\\274\\317\\203 \\316\\274 \\317\\203 Impro vement ON 900 93. 23 14. 64 109. 33 12. 4 15 % 625 32. 13 8. 50 47. 83 10. 41 33 % 400 6. 76 2. 48 11. 23 3. 86 40 % 225 2. 43 1. 25 3. 03 1. 69 20 % 100 0. 96 0. 88 1. 06 0. 98 9 % TABLE 3Average Number ( \\316\\274 ) of [UNK] caused by TSACO and MWSF heuristics for different num - be\\nSecond, the considered chainedcourses are limited to three mathematical courses ( Calculus I, Calculus II, and [UNK] Equa - tions ). Third, among the several curriculum devel - opment methods, only two ( Spiral and Linear ) areselected for this research. Lastly, since there are [UNK] records stating which courses were designed according to which curriculum development meth - odology, the [UNK] of the chains are doneaccording to the [UNK] of the cirriculum devel - opment methods. Murat Karakaya et al. 368\\n74 M URAT KARAKAYA where \\316\\261and\\316\\262are two weight parameters, which affect the relative [UNK] of the pheromone trail and the heuristic information. Nk iis the set of candi - date sensors to visit next once ant karrives at the sensor iat the time t. Nk i does not contain either the sensors which are not accessible from the sensor i before their [UNK] time, or the sensor iitself. The probability of choosing all those excluded sensors is assigned as 0. For the pheromone values, if it is the [UNK] time an ant\\n. edu. tr ). Mobile Sink Scheduling Method for Wireless Sensor Networks under Travel Time Uncertainty Murat KARAKAYA, Member, SAISE Author [UNK] s formal photo\\n70 M URAT KARAKAYA FIGURE 1 A sample schedule showing the dynamic nature of the MES. ( distance ). In essence, the solution to a TSP is to construct a minimum dis - tance circuit passing through each vertex once and only once. Therefore, thecost of a solution depends on the distances among the towns. These prob - lem characteristics - town locations and distances - do not change during the development of a solution. On the other hand, in dynamic problems, problemcharacteristics can be changed over time as a solution is being generated. The MES\\n, Communications and Information Systems ( MEBS ) and Turkish Military Academy ( KHO ), Ankara, Turkey. He joined the faculty of Atilim University in 2012 and is currently an Asst. Professor in the department of Computer Engineering, Ankara, Turkey. His research interests are natural computi ng, sensor networks, peer - to - peer networks, natural computing, optimization, and communications protocol design. He is a member of IACSIT. M. Karakaya is with the Department of Computer Engineering, Atilim University, Ankara, Turkey ( e - mail : murat. karakata @ atilim\\n##utu ( M B ) PKLot - 1 99, 8 / 99, 5 01 : 23 / 08 : 43 5, 5 / 87, 7 PKLot - 2 99, 9 / 99, 6 0 0 : 50 / 05 : 11 5, 5 / 87, 7 PKLot - 3 99,\\nAnalyzing Students [UNK] Academic Success in Pre - requisite Course Chains : A Case Study in Turkey * MURAT KARAKAYA, MELTEM ERYILMAZ and ULAS CEYHAN Dept. of Computer Engineering, Atilim University, K\\304\\261z\\304\\261lca\\304\\261s [UNK] Mahalles [UNK], 06830 Incek Go \\302\\250lbas [UNK], Ankara, Turkey. E - mail : murat. karakaya @ atilim. edu. tr There are several principles which have been accepted as approaches to successful curriculum development. In spite of the [UNK] in the proposed se\\n68 M URAT KARAKAYA and the other to the time to get to sensor node, in order to calculate a score for each node. The weight ( \\316\\261 ) is set a number between 0 and 1 for the deadline, and 1 - \\316\\261for the travel time. According to the experiment results, the best per - formance outcomes are obtained when \\316\\261is around 0. 1. The authors observed that the MWSF solution constructs schedules, which perform better than the other proposed heuristics. One drawback of the MWSF heuristic is that MS has to move back and forth frequently between\"\n",
       " }\n",
       " role: \"user\",\n",
       " parts {\n",
       "   text: \"Murat Karakaya is an Assistant Professor in the Department of Computer Engineering at Atilim University in Ankara, Turkey. \\n\\nHere\\'s how we know this:\\n\\n1. The text states: \\\"B. Murat Karakaya... currently an Asst. Professor in the department of Computer Engineering, Ankara, Turkey.\\\"\\n2. The text also includes his email address: \\\"murat.karakata@atilim.edu.tr\\\" which further confirms his affiliation with Atilim University. \\n\\nThe text goes on to describe his research interests and academic background. \\n\"\n",
       " }\n",
       " role: \"model\",\n",
       " parts {\n",
       "   text: \"QUESTION: what is attention?\\n EXCERPTS: what we are missing, in my opinion. < EOS > < pad > Figure 4 : Two attention heads, also in layer 5 of 6, apparently involved in anaphora resolution. Top : Full attentions for head 5. Bottom : Isolated attentions from just the word [UNK] its [UNK] for attention heads 5 and 6. Note that the attentions are very sharp for this word. 14\\nwe counteract with Multi - Head Attention as described in section 3. 2. Self - attention, sometimes called intra - attention is an attention mechanism relating different positions of a single sequence in order to compute a representation of the sequence. Self - attention has been\\nwhat we are missing, in my opinion. < EOS > < pad > Figure 5 : Many of the attention heads exhibit behaviour that seems related to the structure of the sentence. We give two such examples above, from two different heads from the encoder self - attention at layer 5 of 6. The heads clearly learned to perform different tasks. 15\\n0. 0 5. 77 24. 6 0. 2 4. 95 25. 5 0. 0 4. 67 25. 3 0. 2 5. 47 25. 7 ( E ) positional embedding instead of sinusoids 4. 92 25. 7 big 6 1024 4096 16 0. 3 300K 4. 33 26. 4 213 development set, newstest2013. We used beam search as described in the previous section, but no checkpoint averaging. We present these results in Table 3. In Table 3 rows ( A ), we vary the number of attention heads and the attention key and value\\n##r self - attention in layer 5 of 6. Many of the attention heads attend to a distant dependency of the verb [UNK] making [UNK], completing the phrase [UNK] making... more difficult [UNK]. Attentions here shown only for the word [UNK] making [UNK]. Different colors represent different heads. Best viewed in color. 13\\nScaled Dot - Product Attention Multi - Head Attention Figure 2 : ( left ) Scaled Dot - Product Attention. ( right ) Multi - Head Attention consists of several attention layers running in parallel. of the values, where the weight assigned to each value is computed by a compatibility function of the query with the corresponding key. 3. 2. 1 Scaled Dot - Product Attention We call our particular attention \\\" Scaled Dot - Product Attention \\\" ( Figure 2 ). The input consists of queries and keys of dimension dk, and values of dimension dv. We compute the\\nAttention Visualizations Input - Input Layer5 It is in this spirit that a majority of American governments have passed new laws since 2009 making the registration or voting process more difficult. < EOS > < pad > < pad > < pad > < pad > < pad > < pad > It is in this spirit that a majority of American governments have passed new laws since 2009 making the registration or voting process more difficult. < EOS > < pad > < pad > < pad > < pad > < pad > < pad > Figure 3 : An example of the attention mechanism following long - distance dependencies in the encode\\nrange dependencies in the network. Learning long - range dependencies is a key challenge in many sequence transduction tasks. One key factor affecting the ability to learn such dependencies is the length of the paths forward and backward signals have to traverse in the network. The shorter these paths between any combination of positions in the input\\nin yap\\304\\261land\\304\\261r\\304\\261lmas\\304\\261 ba\\305\\237ar\\304\\261m a\\303\\247\\304\\261s\\304\\261ndan \\303\\247ok \\303\\266nemlidir. Bu \\303\\247al\\304\\261\\305\\237mada iki farkl\\304\\261 DESA \\303\\266\\304\\237renmenin trasferi ( transfer learning ) tekni\\304\\237i kullan\\304\\261larak tekrar e\\304\\237itilmi\\305\\237tir. Yeniden e\\304\\237itilen DESA, kendisine verilen park yerinein say\\304\\261sal g\\303\\266r\\303\\274nt\\303\\274s\\303\\274n\\303\\274 inceleyerek park yerlerinin bo\\305\\237 ya da dolu ol du\\304\\237una karar ver mektedir. \\303\\226nerilen \\303\\247\\303\\266z\\303\\274m\\303\\274 ba\\305\\237ar\\304\\261m\\304\\261n\\304\\261 \\303\\266l\\303\\247mek i\\303\\247in iki farkl\\304\\261 veri seti \\303\\274zerinde \\303\\247al\\304\\261\\305\\237ma yap\\304\\261lm\\304\\261\\305\\237t\\304\\261r. Bu veri setleri hakk \\304\\261nda detayl\\304\\261 bilgi a\\305\\237a\\304\\237\\304\\261\\n78 M URAT KARAKAYA TSACO MWSF N \\316\\274\\317\\203 \\316\\274 \\317\\203 Impro vement ON 900 93. 23 14. 64 109. 33 12. 4 15 % 625 32. 13 8. 50 47. 83 10. 41 33 % 400 6. 76 2. 48 11. 23 3. 86 40 % 225 2. 43 1. 25 3. 03 1. 69 20 % 100 0. 96 0. 88 1. 06 0. 98 9 % TABLE 3Average Number ( \\316\\274 ) of [UNK] caused by TSACO and MWSF heuristics for different num - be\"\n",
       " }\n",
       " role: \"user\",\n",
       " parts {\n",
       "   text: \"Attention, in this context, is a mechanism that allows a model to focus on specific parts of an input sequence when processing it. \\n\\nHere\\'s a breakdown based on the provided text:\\n\\n1. **Self-attention (intra-attention):**  This type of attention relates different positions within a single sequence (e.g., a sentence) to understand its structure and meaning better.\\n2. **Multi-Head Attention:** This is a more advanced approach where multiple attention layers run in parallel, allowing the model to focus on different aspects of the input simultaneously.\\n3. **Scaled Dot-Product Attention:** This is a specific type of attention where the model calculates a score based on the similarity between a \\\"query\\\" and \\\"key\\\" to determine the weight assigned to each value.\\n\\nThe text discusses how attention mechanisms are used in language models to learn long-range dependencies, which helps them understand the relationships between words and phrases in a sentence. Examples of this are shown in the figures, where different attention heads focus on different aspects of the input. \\n\"\n",
       " }\n",
       " role: \"model\",\n",
       " parts {\n",
       "   text: \"QUESTION: summarize the chat so far?\\n EXCERPTS: 78 M URAT KARAKAYA TSACO MWSF N \\316\\274\\317\\203 \\316\\274 \\317\\203 Impro vement ON 900 93. 23 14. 64 109. 33 12. 4 15 % 625 32. 13 8. 50 47. 83 10. 41 33 % 400 6. 76 2. 48 11. 23 3. 86 40 % 225 2. 43 1. 25 3. 03 1. 69 20 % 100 0. 96 0. 88 1. 06 0. 98 9 % TABLE 3Average Number ( \\316\\274 ) of [UNK] caused by TSACO and MWSF heuristics for different num - be\\n##utu ( M B ) PKLot - 1 99, 8 / 99, 5 01 : 23 / 08 : 43 5, 5 / 87, 7 PKLot - 2 99, 9 / 99, 6 0 0 : 50 / 05 : 11 5, 5 / 87, 7 PKLot - 3 99,\\nlliklerini ezberleyece\\304\\237i ( overfitting ) i\\303\\247in ba\\305\\237ar\\304\\261 oran\\304\\261 ger\\303\\247e\\304\\237i yans\\304\\261tmayacak kadar y\\303\\274ksek \\303\\247\\304\\261kabilecektir. B irbirinden farkl\\304\\261 g\\303\\266r\\303\\274nt\\303\\274ler den olu\\305\\237an \\303\\274 \\303\\247 veri setinin kullan\\304\\261m\\304\\261 ile D ESA [UNK] n\\304\\261n s\\304\\261n\\304\\261fland\\304\\261rma ba\\305\\237ar\\304\\261 m \\304\\261 hakk\\304\\261nda daha ger\\303\\247ek\\303\\247i sonu\\303\\247lar elde edilmek i stenmi\\305\\237tir. \\305\\236ekil 2 : Veri s etlerinde b ulunan p ark y eri g \\303\\266r\\303\\274nt\\303\\274lerinden \\303\\266 rnekler B. Derin Evri\\305\\237imsel Sinir A\\304\\237lar\\304\\261 Bu \\303\\247al\\304\\261\\305\\237ma\\nACO M OBILE SINKSCHEDULING 71 FIGURE 2 Each sensor node stores pheromone values for the outgoing edges according to the ant visit time. Figure 2. Thus, the pheromone mechanism becomes Time - Sensitive and can record once an ant decides to move from node Ato node B. Likewise, the heuristic calculation method is also [UNK]. In the gen - eral ACO implementation, calculation of heuristic values between nodes isstatic, that is, calculation is done at the beginning of the problem and stays the same during the solution process\\n72 M URAT KARAKAYA same initial location, and this cycle continues until all the [UNK] ants com - plete their predetermined number of rounds. Finally, ACO outputs the best schedule found so far. From the above explanation, it is clear that the MES / TSACO requires the information about the current status of sensor memories in WSN to imple - ment the proposed centralized solution. Thus, one drawback of the central - ized solution would be the requirement of communication among sensors andthe RC. However, the amount of communications can be reduced to a min\\nSecond, the considered chainedcourses are limited to three mathematical courses ( Calculus I, Calculus II, and [UNK] Equa - tions ). Third, among the several curriculum devel - opment methods, only two ( Spiral and Linear ) areselected for this research. Lastly, since there are [UNK] records stating which courses were designed according to which curriculum development meth - odology, the [UNK] of the chains are doneaccording to the [UNK] of the cirriculum devel - opment methods. Murat Karakaya et al. 368\\n##bors when an ant visited it when t = 27. 5. \\317\\204i, j, t\\342\\206\\220\\317\\204init, \\342\\210\\200 ( i, j ) \\342\\210\\210L ( 3 ) After deciding the probability of each neighbor, their probabilities are nor - malized such that the sum of all the probabilities is 1. Then, we generate a random number between 0 and 1 to select the next sensor. According to Formula 2, the probability of choosing a particular edge ( i, j ) increases with the value of the associated pheromone trail and of the heuristic information value.\\nimpact of cirriculumdeveloment method. As seen above references, there have been a considerable interest on the pre - requisite coursesin the literature. However, the scope, goals, and results of the above - mentioned studies are not completely in line with those of the present work. One of the studies with similar scope and goals wasconducted by Anderson et al. [ 25 ]. They found thatsuccessfully completing calculus and economicscourses positively [UNK] the achieved success insubsequent economics courses. In another work, McMillan and Adeyemi focused on the success relationships between the\\n##TED WORK Somasundara et al. introduced the Mobile Element Scheduling ( MES ) prob - lem in [ 19 ]. After proving that the MES problem is NP - complete, the authors proposed two heuristics with their variations : Earliest Deadline First ( EDF ) and Minimum Weighted Sum First ( MWSF ). In EDF, MS visits the node with the closest deadline [UNK]. As the authors express the EDF heuristic has an explicit pitfall since it takes into account only the deadlines but not the time toget to the\\n. 8 65 ( A ) 1 512 512 5. 29 24. 9 4 128 128 5. 00 25. 5 16 32 32 4. 91 25. 8 32 16 16 5. 01 25. 4 ( B ) 16 5. 16 25. 1 58 32 5. 01 25. 4 60 ( C ) 2 6. 11 23. 7 36 4 5. 19 25. 3 50 8 4. 88 25. 5 80 256 32 32 5. 75 24. 5 28 1024 128 128 4. 66 26. 0 168 1024 5. 12 25. 4 53 4096 4. 75 26. 2 90 ( D )\"\n",
       " }\n",
       " role: \"user\",\n",
       " parts {\n",
       "   text: \"This chat session started with you asking about who \\\"Murat\\\" is. The provided text did not have information about a person named \\\"Murat\\\" but it did mention \\\"Murat Karakaya\\\".  The second question was about who \\\"Murat Karakaya\\\" is and the answer was that he is an Assistant Professor in the Department of Computer Engineering at Atilim University in Ankara, Turkey.  The final question was about what \\\"attention\\\" is, which is a mechanism that allows a model to focus on specific parts of an input sequence when processing it. \\n\"\n",
       " }\n",
       " role: \"model\"]"
      ]
     },
     "execution_count": 64,
     "metadata": {},
     "output_type": "execute_result"
    }
   ],
   "source": [
    "RAG_LLM.history"
   ]
  },
  {
   "cell_type": "markdown",
   "metadata": {
    "id": "1i-A6j2_8mJy"
   },
   "source": [
    "# SUMMARY"
   ]
  },
  {
   "cell_type": "markdown",
   "metadata": {
    "id": "qtqN4k77Plu1"
   },
   "source": [
    "WHY WE NEED A PERSISTENT CHROMADB?\n",
    "In the context of a Retrieval-Augmented Generation (RAG) approach, saving and loading a persistent ChromaDB is particularly important for several reasons:\n",
    "\n",
    "Enhanced Data Durability:\n",
    "\n",
    "Importance: Ensures the retrieval database used for augmenting generative models is not lost between sessions or system restarts.\n",
    "RAG Relevance: Maintains a consistent and reliable knowledge base that the generative model can reference, leading to more accurate and relevant responses.\n",
    "Operational Continuity:\n",
    "\n",
    "Importance: Allows seamless continuation of operations without needing to re-index or re-import data, saving time and computational resources.\n",
    "RAG Relevance: Ensures that the generative model has continuous access to the same set of documents, which is essential for generating consistent and coherent responses over time.\n",
    "Facilitating Collaboration:\n",
    "\n",
    "Importance: Enables multiple users or systems to share and access the same dataset.\n",
    "RAG Relevance: Supports collaborative development and usage of the RAG system, allowing different teams to work on improving the retrieval and generation processes simultaneously.\n",
    "Scalability:\n",
    "\n",
    "Importance: Provides a stable and persistent backend, enabling efficient handling of large datasets.\n",
    "RAG Relevance: Essential for scaling the RAG system to handle more extensive and diverse knowledge bases, ensuring that the system can manage increased loads and deliver prompt, relevant information.\n",
    "In a RAG system, the retriever (like ChromaDB) provides the generative model with relevant context from a knowledge base to generate informed and accurate responses. Persistent storage ensures that this knowledge base is durable, continuously available, and scalable, which is critical for the reliability, consistency, and performance of the RAG system."
   ]
  },
  {
   "cell_type": "markdown",
   "metadata": {
    "id": "Y9Xi2_79A254"
   },
   "source": [
    "."
   ]
  },
  {
   "cell_type": "markdown",
   "metadata": {
    "id": "38itsCX9A2t8"
   },
   "source": [
    "."
   ]
  },
  {
   "cell_type": "markdown",
   "metadata": {
    "id": "mCjijo4pA2f8"
   },
   "source": [
    "."
   ]
  },
  {
   "cell_type": "code",
   "execution_count": null,
   "metadata": {
    "id": "EOpIzjPEQpvA"
   },
   "outputs": [],
   "source": [
    "def generateAnswer(RAG_LLM, chroma_collection,query,n_results=5):\n",
    "    retrieved_documents= retrieveDocs(chroma_collection, query, 10, return_only_docs=True)\n",
    "\n",
    "    print(\"------- retreived documents -------\\n\")\n",
    "    for i, doc in enumerate(retrieved_documents):\n",
    "      print(f\"Document {i+1}:\")\n",
    "      print(f\"\\tDocument Text: {doc}\")\n",
    "    prompt = \"QUESTION: \"+ query\n",
    "    context = \"\\n EXCERPTS: \"+ \"\\n\".join(retrieved_documents)\n",
    "    print(\"------- RAG answer -------\\n\")\n",
    "    output = generate_LLM_answer(prompt, context, RAG_LLM)\n",
    "\n",
    "    display(to_markdown(output))\n",
    "    print('\\n')\n",
    "    return output"
   ]
  },
  {
   "cell_type": "code",
   "execution_count": null,
   "metadata": {
    "colab": {
     "base_uri": "https://localhost:8080/",
     "height": 141
    },
    "id": "_BlrLcyATatn",
    "outputId": "ba79d054-6937-45e9-fa82-3980c2639619"
   },
   "outputs": [
    {
     "ename": "AttributeError",
     "evalue": "'str' object has no attribute 'text'",
     "output_type": "error",
     "traceback": [
      "\u001b[0;31m---------------------------------------------------------------------------\u001b[0m",
      "\u001b[0;31mAttributeError\u001b[0m                            Traceback (most recent call last)",
      "\u001b[0;32m<ipython-input-66-c0ac6fd50f66>\u001b[0m in \u001b[0;36m<cell line: 1>\u001b[0;34m()\u001b[0m\n\u001b[0;32m----> 1\u001b[0;31m \u001b[0mto_markdown\u001b[0m\u001b[0;34m(\u001b[0m\u001b[0mreply\u001b[0m\u001b[0;34m.\u001b[0m\u001b[0mtext\u001b[0m\u001b[0;34m)\u001b[0m\u001b[0;34m\u001b[0m\u001b[0;34m\u001b[0m\u001b[0m\n\u001b[0m",
      "\u001b[0;31mAttributeError\u001b[0m: 'str' object has no attribute 'text'"
     ]
    }
   ],
   "source": [
    "to_markdown(reply.text)"
   ]
  },
  {
   "cell_type": "code",
   "execution_count": null,
   "metadata": {
    "id": "Vi3g2vgMRG81"
   },
   "outputs": [],
   "source": [
    "for message in chat.history:\n",
    "  display(to_markdown(f'**{message.role}**: {message.parts[0].text}'))\n"
   ]
  },
  {
   "cell_type": "code",
   "execution_count": null,
   "metadata": {
    "id": "8Lu-LtxiW9Ou"
   },
   "outputs": [],
   "source": [
    "model.count_tokens(chat.history)"
   ]
  },
  {
   "cell_type": "code",
   "execution_count": null,
   "metadata": {
    "id": "WKX4tzgsNijg"
   },
   "outputs": [],
   "source": [
    "response = chat.send_message(prompt)\n",
    "to_markdown(response.text)\n"
   ]
  },
  {
   "cell_type": "code",
   "execution_count": null,
   "metadata": {
    "id": "I0QKtnH7NNFO"
   },
   "outputs": [],
   "source": []
  },
  {
   "cell_type": "code",
   "execution_count": null,
   "metadata": {
    "id": "iz7ZbNXaMyY9"
   },
   "outputs": [],
   "source": [
    "import os\n",
    "import openai\n",
    "from openai import OpenAI\n",
    "\n",
    "'''\n",
    "from dotenv import load_dotenv, find_dotenv\n",
    "_ = load_dotenv(find_dotenv()) # read local .env file\n",
    "openai.api_key = os.environ['OPENAI_API_KEY']\n",
    "openai_client = OpenAI()\n",
    "'''\n",
    "openai_client = OpenAI(api_key=userdata.get('OPENAI_API_KEY'))"
   ]
  },
  {
   "cell_type": "code",
   "execution_count": null,
   "metadata": {
    "id": "GGb0tQvtM51N"
   },
   "outputs": [],
   "source": [
    "def rag(query, retrieved_documents, model=\"gpt-3.5-turbo-1106\"):\n",
    "    information = \"\\n\\n\".join(retrieved_documents)\n",
    "\n",
    "    messages = [\n",
    "        {\n",
    "            \"role\": \"system\",\n",
    "            \"content\": \"As an attentive and supportive academic assistant, \"\n",
    "            \"your task is to provide assistance based solely on the provided\"\n",
    "            \" excerpts. Answer the following questions, ensuring your responses\"\n",
    "            \" are derived exclusively from the provided partial texts. \"\n",
    "            \"If the answer cannot be found within the provided excerpts, \"\n",
    "            \"kindly respond with 'I don't know'.\"\n",
    "            \"After answering each question, please provide a detailed \"\n",
    "            \"explanation, breaking down the answer step by step and relating \"\n",
    "            \"it to the provided excerpts.\"\n",
    "            \"Return your response as a Json object with two key fields: \"\n",
    "            \" 'Answer', which should contain the value of the answer, and \"\n",
    "            \" 'Reason', which should provide an explanation of why this answer \"\n",
    "            \"was generated.\"\n",
    "\n",
    "        },\n",
    "        {\"role\": \"user\", \"content\": f\"Question: {query}. \\n Excerpts: {information}\"}\n",
    "    ]\n",
    "\n",
    "    response = openai_client.chat.completions.create(\n",
    "        model=model,\n",
    "        messages=messages,\n",
    "    )\n",
    "    content = response.choices[0].message.content\n",
    "    return content"
   ]
  },
  {
   "cell_type": "code",
   "execution_count": null,
   "metadata": {
    "id": "E5K440G_M8cb"
   },
   "outputs": [],
   "source": []
  },
  {
   "cell_type": "code",
   "execution_count": null,
   "metadata": {
    "id": "CJd-S0zcRaFV"
   },
   "outputs": [],
   "source": [
    "def generateAnswer(query,n_results=5):\n",
    "    retrieved_documents=retrieveDocs(query,n_results)\n",
    "\n",
    "    print(\"------- retreived documents -------\\n\")\n",
    "    for i, doc in enumerate(retrieved_documents):\n",
    "      print(f\"Document {i+1}:\")\n",
    "      print(f\"\\tDocument Text: {doc}\")\n",
    "    print(\"------- RAG answer -------\\n\")\n",
    "    output = rag(query=query, retrieved_documents=retrieved_documents)\n",
    "    print(output)\n",
    "    print('\\n')\n",
    "    return output"
   ]
  },
  {
   "cell_type": "code",
   "execution_count": null,
   "metadata": {
    "id": "Xb9uHSMpTR_X"
   },
   "outputs": [],
   "source": []
  },
  {
   "cell_type": "code",
   "execution_count": null,
   "metadata": {
    "id": "D2d-jQLvLufI"
   },
   "outputs": [],
   "source": []
  },
  {
   "cell_type": "code",
   "execution_count": null,
   "metadata": {
    "id": "sTcewpPcWQLp"
   },
   "outputs": [],
   "source": [
    "reply=generateAnswer(queries[5],10)\n"
   ]
  },
  {
   "cell_type": "code",
   "execution_count": null,
   "metadata": {
    "id": "MSIFzsUtRBOg"
   },
   "outputs": [],
   "source": [
    "# prompt: convert the 'reply' to a dict\n",
    "\n",
    "import ast\n",
    "reply_dict = ast.literal_eval(reply)\n",
    "print(f\"Answer: {reply_dict['Answer']}\")\n",
    "print(f\"Because; {reply_dict['Reason']}\")"
   ]
  },
  {
   "cell_type": "code",
   "execution_count": null,
   "metadata": {
    "id": "trkwnbPTWPAr"
   },
   "outputs": [],
   "source": [
    "for query in queries:\n",
    "  generateAnswer(query)"
   ]
  },
  {
   "cell_type": "code",
   "execution_count": null,
   "metadata": {
    "id": "ToFXpONGbhc-"
   },
   "outputs": [],
   "source": [
    "%pip install umap-learn"
   ]
  },
  {
   "cell_type": "code",
   "execution_count": null,
   "metadata": {
    "id": "6jIGoTEeqZnX"
   },
   "outputs": [],
   "source": [
    "def project_embeddings(embeddings, umap_transform):\n",
    "    umap_embeddings = np.empty((len(embeddings),2))\n",
    "    for i, embedding in enumerate(tqdm(embeddings)):\n",
    "        umap_embeddings[i] = umap_transform.transform([embedding])\n",
    "    return umap_embeddings"
   ]
  },
  {
   "cell_type": "code",
   "execution_count": null,
   "metadata": {
    "id": "eq8Oxx_SXJK_"
   },
   "outputs": [],
   "source": [
    "import umap.umap_ as umap\n",
    "\n",
    "embeddings = chroma_collection.get(include=['embeddings'])['embeddings']\n",
    "umap_transform = umap.UMAP(random_state=0, transform_seed=0).fit(embeddings)\n",
    "projected_dataset_embeddings = project_embeddings(embeddings, umap_transform)"
   ]
  },
  {
   "cell_type": "code",
   "execution_count": null,
   "metadata": {
    "id": "PAmWc2acstG-"
   },
   "outputs": [],
   "source": [
    "import matplotlib.pyplot as plt\n",
    "\n",
    "plt.figure()\n",
    "plt.scatter(projected_dataset_embeddings[:, 0], projected_dataset_embeddings[:, 1], s=10)\n",
    "plt.gca().set_aspect('equal', 'datalim')\n",
    "plt.title('Projected Embeddings')\n",
    "plt.axis('off')"
   ]
  },
  {
   "cell_type": "code",
   "execution_count": null,
   "metadata": {
    "id": "mw19GvOZpyO-"
   },
   "outputs": [],
   "source": [
    "query = queries[3]\n",
    "\n",
    "results = chroma_collection.query(query_texts=query, n_results=10, include=['documents', 'embeddings'])\n",
    "\n",
    "retrieved_documents = results['documents'][0]\n",
    "\n",
    "for document in results['documents'][0]:\n",
    "    print(document)\n",
    "    print('')\n"
   ]
  },
  {
   "cell_type": "code",
   "execution_count": null,
   "metadata": {
    "id": "J7ClIPkh-unn"
   },
   "outputs": [],
   "source": [
    "query_embedding = embedding_function([query])[0]\n",
    "retrieved_embeddings = results['embeddings'][0]\n",
    "\n",
    "projected_query_embedding = project_embeddings([query_embedding], umap_transform)\n",
    "projected_retrieved_embeddings = project_embeddings(retrieved_embeddings, umap_transform)\n"
   ]
  },
  {
   "cell_type": "code",
   "execution_count": null,
   "metadata": {
    "id": "_FGgCd8t-23T"
   },
   "outputs": [],
   "source": [
    "# Plot the projected query and retrieved documents in the embedding space\n",
    "plt.figure()\n",
    "plt.scatter(projected_dataset_embeddings[:, 0], projected_dataset_embeddings[:, 1], s=10, color='gray')\n",
    "plt.scatter(projected_query_embedding[:, 0], projected_query_embedding[:, 1], s=150, marker='X', color='r')\n",
    "plt.scatter(projected_retrieved_embeddings[:, 0], projected_retrieved_embeddings[:, 1], s=100, facecolors='none', edgecolors='g')\n",
    "\n",
    "plt.gca().set_aspect('equal', 'datalim')\n",
    "plt.title(f'{query}')\n",
    "plt.axis('off')"
   ]
  },
  {
   "cell_type": "code",
   "execution_count": null,
   "metadata": {
    "id": "MAgqvNgvAE_q"
   },
   "outputs": [],
   "source": [
    "def augment_query_generated(query, model=\"gpt-3.5-turbo\"):\n",
    "    messages = [\n",
    "        {\n",
    "            \"role\": \"system\",\n",
    "            \"content\": \"Sen TÜBİTAK proje başvurularını inceleyen yapay zeka konusunda uzman bir akasemisyensin.\"\n",
    "            \"Aşağıda verilen soruya, aşağıdaki proje tanımına uygun olabilecek bir cevap üret: \\n\"\n",
    "            \"Projenin genel amacı, bankacılık sektöründeki risk yönetimi operasyonlarını geliştirmek ve finansal kurumların karşılaştığı zorlukları ele almak \"\n",
    "            \"için yapay zeka (AI) tabanlı bir platform geliştirmektir. Proje, bankalara vadeli mevduatın erken bozulması, kredilerin erken ödenmesi ve çeşitli \"\n",
    "            \"mevduat türlerinin belirlenmesi gibi davranışsal riskleri daha etkili bir şekilde yönetme kapasitesi sunmayı hedeflemektedir. Bu riskler, finansal \"\n",
    "            \"kurumların bilanço dengesini etkileyebilir ve operasyonel verimliliği azaltabilir. \"\n",
    "            \"Projenin çözmeyi amaçladığı temel problem, bankaların karlılık ve risk analizlerini gerçekleştirirken karşılaştığı karmaşık durumları doğru ve \"\n",
    "            \"etkili bir şekilde yönetme ihtiyacıdır. Özellikle vadeli mevduatların erken kapanması ve kredilerin erken ödenmesi gibi durumlar, bankaların \"\n",
    "            \"gelecekteki nakit akışlarını ve risk profillerini belirleme sürecini karmaşıklaştırabilir\"\n",
    "\n",
    "        },\n",
    "        {\"role\": \"user\", \"content\": query}\n",
    "    ]\n",
    "\n",
    "    response = openai_client.chat.completions.create(\n",
    "        model=model,\n",
    "        messages=messages,\n",
    "    )\n",
    "    content = response.choices[0].message.content\n",
    "    return content"
   ]
  },
  {
   "cell_type": "code",
   "execution_count": null,
   "metadata": {
    "id": "pVgmXEmDA4Mq"
   },
   "outputs": [],
   "source": [
    "original_query = queries[0]\n",
    "hypothetical_answer = augment_query_generated(original_query)\n",
    "\n",
    "joint_query = f\"{original_query} {hypothetical_answer}\"\n",
    "print(joint_query)"
   ]
  },
  {
   "cell_type": "code",
   "execution_count": null,
   "metadata": {
    "id": "LG7hu7wDdrMT"
   },
   "outputs": [],
   "source": [
    "def extend_retrieved_documents(results, extension=4):\n",
    "  original_ids= results['ids'][0]\n",
    "  print(\"original_ids: \",original_ids)\n",
    "\n",
    "  extended_ids = set()\n",
    "\n",
    "\n",
    "  for id in original_ids:\n",
    "    extended_ids.add(int(id))\n",
    "    for i in range(1, extension):\n",
    "      extended_ids.add(int(id)+i)\n",
    "\n",
    "\n",
    "  extended_ids = sorted([int(x) for x in extended_ids])\n",
    "  extended_ids = [str(x) for x in extended_ids if int(x) < chroma_collection.count()]\n",
    "  print(\"extended_ids: \",extended_ids)\n",
    "  return chroma_collection.get(extended_ids)['documents']"
   ]
  },
  {
   "cell_type": "code",
   "execution_count": null,
   "metadata": {
    "id": "5_tnGca2D9CU"
   },
   "outputs": [],
   "source": [
    "def retrieveDocs_augmented_query(query, n_results=5, extension=4):\n",
    "    hypothetical_answer = augment_query_generated(query)\n",
    "    print(\"------ hypothetical_answer ---------\\n\")\n",
    "    print(hypothetical_answer,\"\\n\")\n",
    "    print(\"------------------------------------\\n\")\n",
    "    joint_query = f\"{query} {hypothetical_answer}\"\n",
    "    results = chroma_collection.query(query_texts=joint_query, n_results=n_results, include=['documents', 'embeddings'])\n",
    "    retrieved_documents = extend_retrieved_documents(results, extension)\n",
    "    #retrieved_documents = results['documents'][0]\n",
    "\n",
    "    return retrieved_documents\n",
    "\n"
   ]
  },
  {
   "cell_type": "code",
   "execution_count": null,
   "metadata": {
    "id": "PXqwdlB3ElTG"
   },
   "outputs": [],
   "source": [
    "retrieved_documents=retrieveDocs_augmented_query(query, 5)\n",
    "\n",
    "for doc in retrieved_documents:\n",
    "    print(doc)\n",
    "    print('')"
   ]
  },
  {
   "cell_type": "code",
   "execution_count": null,
   "metadata": {
    "id": "ScyronsnBIsh"
   },
   "outputs": [],
   "source": [
    "results = chroma_collection.query(query_texts=joint_query, n_results=10, include=['documents', 'embeddings'])\n",
    "retrieved_documents = results['documents'][0]\n",
    "\n",
    "for doc in retrieved_documents:\n",
    "    print(doc)\n",
    "    print('')"
   ]
  },
  {
   "cell_type": "code",
   "execution_count": null,
   "metadata": {
    "id": "ncz_Vs8sBez8"
   },
   "outputs": [],
   "source": [
    "retrieved_embeddings = results['embeddings'][0]\n",
    "original_query_embedding = embedding_function([original_query])\n",
    "augmented_query_embedding = embedding_function([joint_query])\n",
    "\n",
    "projected_original_query_embedding = project_embeddings(original_query_embedding, umap_transform)\n",
    "projected_augmented_query_embedding = project_embeddings(augmented_query_embedding, umap_transform)\n",
    "projected_retrieved_embeddings = project_embeddings(retrieved_embeddings, umap_transform)"
   ]
  },
  {
   "cell_type": "code",
   "execution_count": null,
   "metadata": {
    "id": "s7IiB6pTBllH"
   },
   "outputs": [],
   "source": [
    "import matplotlib.pyplot as plt\n",
    "\n",
    "# Plot the projected query and retrieved documents in the embedding space\n",
    "plt.figure()\n",
    "plt.scatter(projected_dataset_embeddings[:, 0], projected_dataset_embeddings[:, 1], s=10, color='gray')\n",
    "plt.scatter(projected_retrieved_embeddings[:, 0], projected_retrieved_embeddings[:, 1], s=100, facecolors='none', edgecolors='g')\n",
    "plt.scatter(projected_original_query_embedding[:, 0], projected_original_query_embedding[:, 1], s=150, marker='X', color='r')\n",
    "plt.scatter(projected_augmented_query_embedding[:, 0], projected_augmented_query_embedding[:, 1], s=150, marker='X', color='orange')\n",
    "\n",
    "plt.gca().set_aspect('equal', 'datalim')\n",
    "plt.title(f'{original_query}')\n",
    "plt.axis('off')"
   ]
  },
  {
   "cell_type": "code",
   "execution_count": null,
   "metadata": {
    "id": "spIkCz0SdRYB"
   },
   "outputs": [],
   "source": []
  },
  {
   "cell_type": "code",
   "execution_count": null,
   "metadata": {
    "id": "O_jYC08eFZJD"
   },
   "outputs": [],
   "source": [
    "def generateAnswer_augmented_query(query,n_results=5, extention=4):\n",
    "    print(\"------- query -------\\n\")\n",
    "    print(query,\"\\n\")\n",
    "    retrieved_documents=retrieveDocs_augmented_query(query,n_results,extention)\n",
    "    print(\"------- retreived documents -------\\n\")\n",
    "    for document in retrieved_documents:\n",
    "        print(document)\n",
    "        print('\\n')\n",
    "\n",
    "    print(\"------- RAG answer -------\\n\")\n",
    "    output = rag(query=query, retrieved_documents=retrieved_documents)\n",
    "    print(output)\n",
    "    print('\\n')"
   ]
  },
  {
   "cell_type": "code",
   "execution_count": null,
   "metadata": {
    "id": "ZoDGrmz9mv_L"
   },
   "outputs": [],
   "source": [
    "queries"
   ]
  },
  {
   "cell_type": "code",
   "execution_count": null,
   "metadata": {
    "id": "fU61GVoIFpud"
   },
   "outputs": [],
   "source": [
    "generateAnswer_augmented_query(queries[0],10,5)"
   ]
  },
  {
   "cell_type": "code",
   "execution_count": null,
   "metadata": {
    "id": "6bJGG3mEUFKD"
   },
   "outputs": [],
   "source": [
    "title= \"\"\"Ar-Ge Sürecinde Kullanılacak Yöntemler Tanımlanan proje hedeflerine ulaşmak için uygulanacak analitik\n",
    "        deneysel çözüm yöntemlerini belirtiniz. (NOT: Bu bölümde sunulan proje özelinde\n",
    "        hangi teknik / bilimsel yaklaşımların ve bunlara ait aşamaların takip edileceği açıklanmalı, iş paketleri isimleri ya da her projede olabilecek standart\n",
    "        rutin çalışma yöntemleri tekrarlanmamalıdır.\"\"\"\n",
    "results = chroma_collection.query(query_texts=title, n_results=5, include=['documents', 'embeddings'])\n",
    "retrieved_documents = results['documents'][0]\n",
    "print(retrieved_documents)"
   ]
  },
  {
   "cell_type": "code",
   "execution_count": null,
   "metadata": {
    "id": "x7Yq67GcUyYL"
   },
   "outputs": [],
   "source": []
  },
  {
   "cell_type": "code",
   "execution_count": null,
   "metadata": {
    "id": "tNjnJTDvVXpS"
   },
   "outputs": [],
   "source": [
    "\n"
   ]
  },
  {
   "cell_type": "code",
   "execution_count": null,
   "metadata": {
    "id": "_pzqUkWQWqkr"
   },
   "outputs": [],
   "source": [
    "title= \"\"\"Ar-Ge Sürecinde Kullanılacak Yöntemler Tanımlanan proje hedeflerine ulaşmak için uygulanacak analitik\n",
    "        deneysel çözüm yöntemlerini belirtiniz. (NOT: Bu bölümde sunulan proje özelinde\n",
    "        hangi teknik / bilimsel yaklaşımların ve bunlara ait aşamaların takip edileceği açıklanmalı, iş paketleri isimleri ya da her projede olabilecek standart\n",
    "        rutin çalışma yöntemleri tekrarlanmamalıdır.\"\"\"\n",
    "results = chroma_collection.query(query_texts=title, n_results=5, include=['documents', 'embeddings'])\n",
    "\n",
    "retrieved_documents = extend_retrieved_documents(results)\n",
    "print(retrieved_documents)\n"
   ]
  },
  {
   "cell_type": "code",
   "execution_count": null,
   "metadata": {
    "id": "mg5KFoacc67g"
   },
   "outputs": [],
   "source": []
  },
  {
   "cell_type": "code",
   "execution_count": null,
   "metadata": {
    "id": "WrRDvmYSVlLI"
   },
   "outputs": [],
   "source": [
    "chroma_collection.get(results['ids'][0])"
   ]
  }
 ],
 "metadata": {
  "colab": {
   "provenance": []
  },
  "kernelspec": {
   "display_name": "Python 3",
   "name": "python3"
  },
  "language_info": {
   "name": "python"
  },
  "widgets": {
   "application/vnd.jupyter.widget-state+json": {
    "0088c3b13d914d7295c5eaa660d83c19": {
     "model_module": "@jupyter-widgets/controls",
     "model_module_version": "1.5.0",
     "model_name": "ProgressStyleModel",
     "state": {
      "_model_module": "@jupyter-widgets/controls",
      "_model_module_version": "1.5.0",
      "_model_name": "ProgressStyleModel",
      "_view_count": null,
      "_view_module": "@jupyter-widgets/base",
      "_view_module_version": "1.2.0",
      "_view_name": "StyleView",
      "bar_color": null,
      "description_width": ""
     }
    },
    "0105411337ae41d79c8630914efa7c81": {
     "model_module": "@jupyter-widgets/controls",
     "model_module_version": "1.5.0",
     "model_name": "HTMLModel",
     "state": {
      "_dom_classes": [],
      "_model_module": "@jupyter-widgets/controls",
      "_model_module_version": "1.5.0",
      "_model_name": "HTMLModel",
      "_view_count": null,
      "_view_module": "@jupyter-widgets/controls",
      "_view_module_version": "1.5.0",
      "_view_name": "HTMLView",
      "description": "",
      "description_tooltip": null,
      "layout": "IPY_MODEL_3f4086250ca649e8a244af0713a82315",
      "placeholder": "​",
      "style": "IPY_MODEL_a0a50d75948c45a8adbef8f89b2e2464",
      "value": " 1.96M/1.96M [00:00&lt;00:00, 12.7MB/s]"
     }
    },
    "016c918700a84d2187e4454710c6b09a": {
     "model_module": "@jupyter-widgets/controls",
     "model_module_version": "1.5.0",
     "model_name": "DescriptionStyleModel",
     "state": {
      "_model_module": "@jupyter-widgets/controls",
      "_model_module_version": "1.5.0",
      "_model_name": "DescriptionStyleModel",
      "_view_count": null,
      "_view_module": "@jupyter-widgets/base",
      "_view_module_version": "1.2.0",
      "_view_name": "StyleView",
      "description_width": ""
     }
    },
    "03f9c6f94951411390cbbc8831e8b139": {
     "model_module": "@jupyter-widgets/base",
     "model_module_version": "1.2.0",
     "model_name": "LayoutModel",
     "state": {
      "_model_module": "@jupyter-widgets/base",
      "_model_module_version": "1.2.0",
      "_model_name": "LayoutModel",
      "_view_count": null,
      "_view_module": "@jupyter-widgets/base",
      "_view_module_version": "1.2.0",
      "_view_name": "LayoutView",
      "align_content": null,
      "align_items": null,
      "align_self": null,
      "border": null,
      "bottom": null,
      "display": null,
      "flex": null,
      "flex_flow": null,
      "grid_area": null,
      "grid_auto_columns": null,
      "grid_auto_flow": null,
      "grid_auto_rows": null,
      "grid_column": null,
      "grid_gap": null,
      "grid_row": null,
      "grid_template_areas": null,
      "grid_template_columns": null,
      "grid_template_rows": null,
      "height": null,
      "justify_content": null,
      "justify_items": null,
      "left": null,
      "margin": null,
      "max_height": null,
      "max_width": null,
      "min_height": null,
      "min_width": null,
      "object_fit": null,
      "object_position": null,
      "order": null,
      "overflow": null,
      "overflow_x": null,
      "overflow_y": null,
      "padding": null,
      "right": null,
      "top": null,
      "visibility": null,
      "width": null
     }
    },
    "07534e6f12cd42f6a5b8beb2fbfe4d9e": {
     "model_module": "@jupyter-widgets/base",
     "model_module_version": "1.2.0",
     "model_name": "LayoutModel",
     "state": {
      "_model_module": "@jupyter-widgets/base",
      "_model_module_version": "1.2.0",
      "_model_name": "LayoutModel",
      "_view_count": null,
      "_view_module": "@jupyter-widgets/base",
      "_view_module_version": "1.2.0",
      "_view_name": "LayoutView",
      "align_content": null,
      "align_items": null,
      "align_self": null,
      "border": null,
      "bottom": null,
      "display": null,
      "flex": null,
      "flex_flow": null,
      "grid_area": null,
      "grid_auto_columns": null,
      "grid_auto_flow": null,
      "grid_auto_rows": null,
      "grid_column": null,
      "grid_gap": null,
      "grid_row": null,
      "grid_template_areas": null,
      "grid_template_columns": null,
      "grid_template_rows": null,
      "height": null,
      "justify_content": null,
      "justify_items": null,
      "left": null,
      "margin": null,
      "max_height": null,
      "max_width": null,
      "min_height": null,
      "min_width": null,
      "object_fit": null,
      "object_position": null,
      "order": null,
      "overflow": null,
      "overflow_x": null,
      "overflow_y": null,
      "padding": null,
      "right": null,
      "top": null,
      "visibility": null,
      "width": null
     }
    },
    "0982c2ecc72e49ae989cb4c0d5fe0e70": {
     "model_module": "@jupyter-widgets/base",
     "model_module_version": "1.2.0",
     "model_name": "LayoutModel",
     "state": {
      "_model_module": "@jupyter-widgets/base",
      "_model_module_version": "1.2.0",
      "_model_name": "LayoutModel",
      "_view_count": null,
      "_view_module": "@jupyter-widgets/base",
      "_view_module_version": "1.2.0",
      "_view_name": "LayoutView",
      "align_content": null,
      "align_items": null,
      "align_self": null,
      "border": null,
      "bottom": null,
      "display": null,
      "flex": null,
      "flex_flow": null,
      "grid_area": null,
      "grid_auto_columns": null,
      "grid_auto_flow": null,
      "grid_auto_rows": null,
      "grid_column": null,
      "grid_gap": null,
      "grid_row": null,
      "grid_template_areas": null,
      "grid_template_columns": null,
      "grid_template_rows": null,
      "height": null,
      "justify_content": null,
      "justify_items": null,
      "left": null,
      "margin": null,
      "max_height": null,
      "max_width": null,
      "min_height": null,
      "min_width": null,
      "object_fit": null,
      "object_position": null,
      "order": null,
      "overflow": null,
      "overflow_x": null,
      "overflow_y": null,
      "padding": null,
      "right": null,
      "top": null,
      "visibility": null,
      "width": null
     }
    },
    "09daae222515465885ed04c2bd957918": {
     "model_module": "@jupyter-widgets/controls",
     "model_module_version": "1.5.0",
     "model_name": "HTMLModel",
     "state": {
      "_dom_classes": [],
      "_model_module": "@jupyter-widgets/controls",
      "_model_module_version": "1.5.0",
      "_model_name": "HTMLModel",
      "_view_count": null,
      "_view_module": "@jupyter-widgets/controls",
      "_view_module_version": "1.5.0",
      "_view_name": "HTMLView",
      "description": "",
      "description_tooltip": null,
      "layout": "IPY_MODEL_95e8f203527c49d1aee827f73df3231a",
      "placeholder": "​",
      "style": "IPY_MODEL_c689c36d0e9c4fc0a5e98415876e00ba",
      "value": "special_tokens_map.json: 100%"
     }
    },
    "0a3c25abedcd4164825e7918c2919656": {
     "model_module": "@jupyter-widgets/controls",
     "model_module_version": "1.5.0",
     "model_name": "HBoxModel",
     "state": {
      "_dom_classes": [],
      "_model_module": "@jupyter-widgets/controls",
      "_model_module_version": "1.5.0",
      "_model_name": "HBoxModel",
      "_view_count": null,
      "_view_module": "@jupyter-widgets/controls",
      "_view_module_version": "1.5.0",
      "_view_name": "HBoxView",
      "box_style": "",
      "children": [
       "IPY_MODEL_37e2998cc1e54c3ab047f062f925075e",
       "IPY_MODEL_9db12ea4606b48fc9e8ee17bf7bbf9ba",
       "IPY_MODEL_232bf11830254ec7ac047096ee5038b3"
      ],
      "layout": "IPY_MODEL_36ce5275184e421780d2746d027756d2"
     }
    },
    "0a9efe67ed914879a8438f0b1c921d7f": {
     "model_module": "@jupyter-widgets/controls",
     "model_module_version": "1.5.0",
     "model_name": "HTMLModel",
     "state": {
      "_dom_classes": [],
      "_model_module": "@jupyter-widgets/controls",
      "_model_module_version": "1.5.0",
      "_model_name": "HTMLModel",
      "_view_count": null,
      "_view_module": "@jupyter-widgets/controls",
      "_view_module_version": "1.5.0",
      "_view_name": "HTMLView",
      "description": "",
      "description_tooltip": null,
      "layout": "IPY_MODEL_a3513bae071540f4bf34afa01e508b56",
      "placeholder": "​",
      "style": "IPY_MODEL_686b14072e33490b86244a1fc3529390",
      "value": " 996k/996k [00:00&lt;00:00, 6.40MB/s]"
     }
    },
    "0facbe7086be42d3a20446cbf5971b96": {
     "model_module": "@jupyter-widgets/controls",
     "model_module_version": "1.5.0",
     "model_name": "HTMLModel",
     "state": {
      "_dom_classes": [],
      "_model_module": "@jupyter-widgets/controls",
      "_model_module_version": "1.5.0",
      "_model_name": "HTMLModel",
      "_view_count": null,
      "_view_module": "@jupyter-widgets/controls",
      "_view_module_version": "1.5.0",
      "_view_name": "HTMLView",
      "description": "",
      "description_tooltip": null,
      "layout": "IPY_MODEL_5edea54eb74f49ee91ae9adc67073e74",
      "placeholder": "​",
      "style": "IPY_MODEL_b88c216fd9c340ffae540f2256609611",
      "value": " 2.47k/2.47k [00:00&lt;00:00, 190kB/s]"
     }
    },
    "10fe171c9ec040588e55c3932d33a1df": {
     "model_module": "@jupyter-widgets/base",
     "model_module_version": "1.2.0",
     "model_name": "LayoutModel",
     "state": {
      "_model_module": "@jupyter-widgets/base",
      "_model_module_version": "1.2.0",
      "_model_name": "LayoutModel",
      "_view_count": null,
      "_view_module": "@jupyter-widgets/base",
      "_view_module_version": "1.2.0",
      "_view_name": "LayoutView",
      "align_content": null,
      "align_items": null,
      "align_self": null,
      "border": null,
      "bottom": null,
      "display": null,
      "flex": null,
      "flex_flow": null,
      "grid_area": null,
      "grid_auto_columns": null,
      "grid_auto_flow": null,
      "grid_auto_rows": null,
      "grid_column": null,
      "grid_gap": null,
      "grid_row": null,
      "grid_template_areas": null,
      "grid_template_columns": null,
      "grid_template_rows": null,
      "height": null,
      "justify_content": null,
      "justify_items": null,
      "left": null,
      "margin": null,
      "max_height": null,
      "max_width": null,
      "min_height": null,
      "min_width": null,
      "object_fit": null,
      "object_position": null,
      "order": null,
      "overflow": null,
      "overflow_x": null,
      "overflow_y": null,
      "padding": null,
      "right": null,
      "top": null,
      "visibility": null,
      "width": null
     }
    },
    "1318bbde849048659830f911204024df": {
     "model_module": "@jupyter-widgets/controls",
     "model_module_version": "1.5.0",
     "model_name": "DescriptionStyleModel",
     "state": {
      "_model_module": "@jupyter-widgets/controls",
      "_model_module_version": "1.5.0",
      "_model_name": "DescriptionStyleModel",
      "_view_count": null,
      "_view_module": "@jupyter-widgets/base",
      "_view_module_version": "1.2.0",
      "_view_name": "StyleView",
      "description_width": ""
     }
    },
    "1337ed7c15fa4c6989b07c36c70d250b": {
     "model_module": "@jupyter-widgets/base",
     "model_module_version": "1.2.0",
     "model_name": "LayoutModel",
     "state": {
      "_model_module": "@jupyter-widgets/base",
      "_model_module_version": "1.2.0",
      "_model_name": "LayoutModel",
      "_view_count": null,
      "_view_module": "@jupyter-widgets/base",
      "_view_module_version": "1.2.0",
      "_view_name": "LayoutView",
      "align_content": null,
      "align_items": null,
      "align_self": null,
      "border": null,
      "bottom": null,
      "display": null,
      "flex": null,
      "flex_flow": null,
      "grid_area": null,
      "grid_auto_columns": null,
      "grid_auto_flow": null,
      "grid_auto_rows": null,
      "grid_column": null,
      "grid_gap": null,
      "grid_row": null,
      "grid_template_areas": null,
      "grid_template_columns": null,
      "grid_template_rows": null,
      "height": null,
      "justify_content": null,
      "justify_items": null,
      "left": null,
      "margin": null,
      "max_height": null,
      "max_width": null,
      "min_height": null,
      "min_width": null,
      "object_fit": null,
      "object_position": null,
      "order": null,
      "overflow": null,
      "overflow_x": null,
      "overflow_y": null,
      "padding": null,
      "right": null,
      "top": null,
      "visibility": null,
      "width": null
     }
    },
    "15be4ee0b196405b943cacf1cbfb22d3": {
     "model_module": "@jupyter-widgets/controls",
     "model_module_version": "1.5.0",
     "model_name": "ProgressStyleModel",
     "state": {
      "_model_module": "@jupyter-widgets/controls",
      "_model_module_version": "1.5.0",
      "_model_name": "ProgressStyleModel",
      "_view_count": null,
      "_view_module": "@jupyter-widgets/base",
      "_view_module_version": "1.2.0",
      "_view_name": "StyleView",
      "bar_color": null,
      "description_width": ""
     }
    },
    "1bad3d530b2c43a9a0b944e2a63160bb": {
     "model_module": "@jupyter-widgets/base",
     "model_module_version": "1.2.0",
     "model_name": "LayoutModel",
     "state": {
      "_model_module": "@jupyter-widgets/base",
      "_model_module_version": "1.2.0",
      "_model_name": "LayoutModel",
      "_view_count": null,
      "_view_module": "@jupyter-widgets/base",
      "_view_module_version": "1.2.0",
      "_view_name": "LayoutView",
      "align_content": null,
      "align_items": null,
      "align_self": null,
      "border": null,
      "bottom": null,
      "display": null,
      "flex": null,
      "flex_flow": null,
      "grid_area": null,
      "grid_auto_columns": null,
      "grid_auto_flow": null,
      "grid_auto_rows": null,
      "grid_column": null,
      "grid_gap": null,
      "grid_row": null,
      "grid_template_areas": null,
      "grid_template_columns": null,
      "grid_template_rows": null,
      "height": null,
      "justify_content": null,
      "justify_items": null,
      "left": null,
      "margin": null,
      "max_height": null,
      "max_width": null,
      "min_height": null,
      "min_width": null,
      "object_fit": null,
      "object_position": null,
      "order": null,
      "overflow": null,
      "overflow_x": null,
      "overflow_y": null,
      "padding": null,
      "right": null,
      "top": null,
      "visibility": null,
      "width": null
     }
    },
    "1e1a8caa172e4e7ea6e44c4ce96c43d9": {
     "model_module": "@jupyter-widgets/base",
     "model_module_version": "1.2.0",
     "model_name": "LayoutModel",
     "state": {
      "_model_module": "@jupyter-widgets/base",
      "_model_module_version": "1.2.0",
      "_model_name": "LayoutModel",
      "_view_count": null,
      "_view_module": "@jupyter-widgets/base",
      "_view_module_version": "1.2.0",
      "_view_name": "LayoutView",
      "align_content": null,
      "align_items": null,
      "align_self": null,
      "border": null,
      "bottom": null,
      "display": null,
      "flex": null,
      "flex_flow": null,
      "grid_area": null,
      "grid_auto_columns": null,
      "grid_auto_flow": null,
      "grid_auto_rows": null,
      "grid_column": null,
      "grid_gap": null,
      "grid_row": null,
      "grid_template_areas": null,
      "grid_template_columns": null,
      "grid_template_rows": null,
      "height": null,
      "justify_content": null,
      "justify_items": null,
      "left": null,
      "margin": null,
      "max_height": null,
      "max_width": null,
      "min_height": null,
      "min_width": null,
      "object_fit": null,
      "object_position": null,
      "order": null,
      "overflow": null,
      "overflow_x": null,
      "overflow_y": null,
      "padding": null,
      "right": null,
      "top": null,
      "visibility": null,
      "width": null
     }
    },
    "1fa6bb0ecef64203aaeaa5936bb7c5e5": {
     "model_module": "@jupyter-widgets/controls",
     "model_module_version": "1.5.0",
     "model_name": "DescriptionStyleModel",
     "state": {
      "_model_module": "@jupyter-widgets/controls",
      "_model_module_version": "1.5.0",
      "_model_name": "DescriptionStyleModel",
      "_view_count": null,
      "_view_module": "@jupyter-widgets/base",
      "_view_module_version": "1.2.0",
      "_view_name": "StyleView",
      "description_width": ""
     }
    },
    "2061235b834041e4ac6ed7d44f87c8cc": {
     "model_module": "@jupyter-widgets/base",
     "model_module_version": "1.2.0",
     "model_name": "LayoutModel",
     "state": {
      "_model_module": "@jupyter-widgets/base",
      "_model_module_version": "1.2.0",
      "_model_name": "LayoutModel",
      "_view_count": null,
      "_view_module": "@jupyter-widgets/base",
      "_view_module_version": "1.2.0",
      "_view_name": "LayoutView",
      "align_content": null,
      "align_items": null,
      "align_self": null,
      "border": null,
      "bottom": null,
      "display": null,
      "flex": null,
      "flex_flow": null,
      "grid_area": null,
      "grid_auto_columns": null,
      "grid_auto_flow": null,
      "grid_auto_rows": null,
      "grid_column": null,
      "grid_gap": null,
      "grid_row": null,
      "grid_template_areas": null,
      "grid_template_columns": null,
      "grid_template_rows": null,
      "height": null,
      "justify_content": null,
      "justify_items": null,
      "left": null,
      "margin": null,
      "max_height": null,
      "max_width": null,
      "min_height": null,
      "min_width": null,
      "object_fit": null,
      "object_position": null,
      "order": null,
      "overflow": null,
      "overflow_x": null,
      "overflow_y": null,
      "padding": null,
      "right": null,
      "top": null,
      "visibility": null,
      "width": null
     }
    },
    "206edbf8cd5e4ab9a1d08dfe8b225944": {
     "model_module": "@jupyter-widgets/controls",
     "model_module_version": "1.5.0",
     "model_name": "HBoxModel",
     "state": {
      "_dom_classes": [],
      "_model_module": "@jupyter-widgets/controls",
      "_model_module_version": "1.5.0",
      "_model_name": "HBoxModel",
      "_view_count": null,
      "_view_module": "@jupyter-widgets/controls",
      "_view_module_version": "1.5.0",
      "_view_name": "HBoxView",
      "box_style": "",
      "children": [
       "IPY_MODEL_a47beacd0f29433ca0698c9ad83e0d18",
       "IPY_MODEL_6e8a561e82404456a4a07e795712bbf9",
       "IPY_MODEL_290db01899d74fa495dc155ab71be700"
      ],
      "layout": "IPY_MODEL_c69ecb6d24a7455d89aad5cbb12c4870"
     }
    },
    "208bc1e5a1344bb297f342c728a6489f": {
     "model_module": "@jupyter-widgets/base",
     "model_module_version": "1.2.0",
     "model_name": "LayoutModel",
     "state": {
      "_model_module": "@jupyter-widgets/base",
      "_model_module_version": "1.2.0",
      "_model_name": "LayoutModel",
      "_view_count": null,
      "_view_module": "@jupyter-widgets/base",
      "_view_module_version": "1.2.0",
      "_view_name": "LayoutView",
      "align_content": null,
      "align_items": null,
      "align_self": null,
      "border": null,
      "bottom": null,
      "display": null,
      "flex": null,
      "flex_flow": null,
      "grid_area": null,
      "grid_auto_columns": null,
      "grid_auto_flow": null,
      "grid_auto_rows": null,
      "grid_column": null,
      "grid_gap": null,
      "grid_row": null,
      "grid_template_areas": null,
      "grid_template_columns": null,
      "grid_template_rows": null,
      "height": null,
      "justify_content": null,
      "justify_items": null,
      "left": null,
      "margin": null,
      "max_height": null,
      "max_width": null,
      "min_height": null,
      "min_width": null,
      "object_fit": null,
      "object_position": null,
      "order": null,
      "overflow": null,
      "overflow_x": null,
      "overflow_y": null,
      "padding": null,
      "right": null,
      "top": null,
      "visibility": null,
      "width": null
     }
    },
    "224879663a67410e89d20993b78eb537": {
     "model_module": "@jupyter-widgets/controls",
     "model_module_version": "1.5.0",
     "model_name": "HTMLModel",
     "state": {
      "_dom_classes": [],
      "_model_module": "@jupyter-widgets/controls",
      "_model_module_version": "1.5.0",
      "_model_name": "HTMLModel",
      "_view_count": null,
      "_view_module": "@jupyter-widgets/controls",
      "_view_module_version": "1.5.0",
      "_view_name": "HTMLView",
      "description": "",
      "description_tooltip": null,
      "layout": "IPY_MODEL_3b47c9bdcdae48f0bcb5f8d3b829b978",
      "placeholder": "​",
      "style": "IPY_MODEL_1318bbde849048659830f911204024df",
      "value": "tokenizer_config.json: 100%"
     }
    },
    "227a538b7deb4257a98fcfd739667e78": {
     "model_module": "@jupyter-widgets/base",
     "model_module_version": "1.2.0",
     "model_name": "LayoutModel",
     "state": {
      "_model_module": "@jupyter-widgets/base",
      "_model_module_version": "1.2.0",
      "_model_name": "LayoutModel",
      "_view_count": null,
      "_view_module": "@jupyter-widgets/base",
      "_view_module_version": "1.2.0",
      "_view_name": "LayoutView",
      "align_content": null,
      "align_items": null,
      "align_self": null,
      "border": null,
      "bottom": null,
      "display": null,
      "flex": null,
      "flex_flow": null,
      "grid_area": null,
      "grid_auto_columns": null,
      "grid_auto_flow": null,
      "grid_auto_rows": null,
      "grid_column": null,
      "grid_gap": null,
      "grid_row": null,
      "grid_template_areas": null,
      "grid_template_columns": null,
      "grid_template_rows": null,
      "height": null,
      "justify_content": null,
      "justify_items": null,
      "left": null,
      "margin": null,
      "max_height": null,
      "max_width": null,
      "min_height": null,
      "min_width": null,
      "object_fit": null,
      "object_position": null,
      "order": null,
      "overflow": null,
      "overflow_x": null,
      "overflow_y": null,
      "padding": null,
      "right": null,
      "top": null,
      "visibility": null,
      "width": null
     }
    },
    "232bf11830254ec7ac047096ee5038b3": {
     "model_module": "@jupyter-widgets/controls",
     "model_module_version": "1.5.0",
     "model_name": "HTMLModel",
     "state": {
      "_dom_classes": [],
      "_model_module": "@jupyter-widgets/controls",
      "_model_module_version": "1.5.0",
      "_model_name": "HTMLModel",
      "_view_count": null,
      "_view_module": "@jupyter-widgets/controls",
      "_view_module_version": "1.5.0",
      "_view_name": "HTMLView",
      "description": "",
      "description_tooltip": null,
      "layout": "IPY_MODEL_6857b12c149848bca9116a185a8d1fc3",
      "placeholder": "​",
      "style": "IPY_MODEL_016c918700a84d2187e4454710c6b09a",
      "value": " 556/556 [00:00&lt;00:00, 35.8kB/s]"
     }
    },
    "26bd17c84bc143beb38fa5649aa2ba44": {
     "model_module": "@jupyter-widgets/base",
     "model_module_version": "1.2.0",
     "model_name": "LayoutModel",
     "state": {
      "_model_module": "@jupyter-widgets/base",
      "_model_module_version": "1.2.0",
      "_model_name": "LayoutModel",
      "_view_count": null,
      "_view_module": "@jupyter-widgets/base",
      "_view_module_version": "1.2.0",
      "_view_name": "LayoutView",
      "align_content": null,
      "align_items": null,
      "align_self": null,
      "border": null,
      "bottom": null,
      "display": null,
      "flex": null,
      "flex_flow": null,
      "grid_area": null,
      "grid_auto_columns": null,
      "grid_auto_flow": null,
      "grid_auto_rows": null,
      "grid_column": null,
      "grid_gap": null,
      "grid_row": null,
      "grid_template_areas": null,
      "grid_template_columns": null,
      "grid_template_rows": null,
      "height": null,
      "justify_content": null,
      "justify_items": null,
      "left": null,
      "margin": null,
      "max_height": null,
      "max_width": null,
      "min_height": null,
      "min_width": null,
      "object_fit": null,
      "object_position": null,
      "order": null,
      "overflow": null,
      "overflow_x": null,
      "overflow_y": null,
      "padding": null,
      "right": null,
      "top": null,
      "visibility": null,
      "width": null
     }
    },
    "290db01899d74fa495dc155ab71be700": {
     "model_module": "@jupyter-widgets/controls",
     "model_module_version": "1.5.0",
     "model_name": "HTMLModel",
     "state": {
      "_dom_classes": [],
      "_model_module": "@jupyter-widgets/controls",
      "_model_module_version": "1.5.0",
      "_model_name": "HTMLModel",
      "_view_count": null,
      "_view_module": "@jupyter-widgets/controls",
      "_view_module_version": "1.5.0",
      "_view_name": "HTMLView",
      "description": "",
      "description_tooltip": null,
      "layout": "IPY_MODEL_03f9c6f94951411390cbbc8831e8b139",
      "placeholder": "​",
      "style": "IPY_MODEL_3dd7b5c1204947faa58c49e3b59963e9",
      "value": " 53.0/53.0 [00:00&lt;00:00, 2.64kB/s]"
     }
    },
    "2da40c0124a645278a5c1f922a15dde5": {
     "model_module": "@jupyter-widgets/controls",
     "model_module_version": "1.5.0",
     "model_name": "FloatProgressModel",
     "state": {
      "_dom_classes": [],
      "_model_module": "@jupyter-widgets/controls",
      "_model_module_version": "1.5.0",
      "_model_name": "FloatProgressModel",
      "_view_count": null,
      "_view_module": "@jupyter-widgets/controls",
      "_view_module_version": "1.5.0",
      "_view_name": "ProgressView",
      "bar_style": "success",
      "description": "",
      "description_tooltip": null,
      "layout": "IPY_MODEL_6c1fb35760564a78912ce84a535b2c4b",
      "max": 1575104,
      "min": 0,
      "orientation": "horizontal",
      "style": "IPY_MODEL_b65ba9645c29456a86f7891131d25eb8",
      "value": 1575104
     }
    },
    "2e7b884700014d769d00b3dffc1b9fad": {
     "model_module": "@jupyter-widgets/controls",
     "model_module_version": "1.5.0",
     "model_name": "HTMLModel",
     "state": {
      "_dom_classes": [],
      "_model_module": "@jupyter-widgets/controls",
      "_model_module_version": "1.5.0",
      "_model_name": "HTMLModel",
      "_view_count": null,
      "_view_module": "@jupyter-widgets/controls",
      "_view_module_version": "1.5.0",
      "_view_name": "HTMLView",
      "description": "",
      "description_tooltip": null,
      "layout": "IPY_MODEL_a01cfa66060644f7978e6d5728720eea",
      "placeholder": "​",
      "style": "IPY_MODEL_bc1b988ba5fa4610b98fc375f467d7c5",
      "value": "config_sentence_transformers.json: 100%"
     }
    },
    "2f796cac49c1480e884fac4ecc3711d7": {
     "model_module": "@jupyter-widgets/controls",
     "model_module_version": "1.5.0",
     "model_name": "DescriptionStyleModel",
     "state": {
      "_model_module": "@jupyter-widgets/controls",
      "_model_module_version": "1.5.0",
      "_model_name": "DescriptionStyleModel",
      "_view_count": null,
      "_view_module": "@jupyter-widgets/base",
      "_view_module_version": "1.2.0",
      "_view_name": "StyleView",
      "description_width": ""
     }
    },
    "3209ab538240486aad1309b90570c8ee": {
     "model_module": "@jupyter-widgets/controls",
     "model_module_version": "1.5.0",
     "model_name": "HBoxModel",
     "state": {
      "_dom_classes": [],
      "_model_module": "@jupyter-widgets/controls",
      "_model_module_version": "1.5.0",
      "_model_name": "HBoxModel",
      "_view_count": null,
      "_view_module": "@jupyter-widgets/controls",
      "_view_module_version": "1.5.0",
      "_view_name": "HBoxView",
      "box_style": "",
      "children": [
       "IPY_MODEL_be6f06a47e3a463d925330f3fc30a5d9",
       "IPY_MODEL_74d7e0b726cc491baba2f7217243e786",
       "IPY_MODEL_0105411337ae41d79c8630914efa7c81"
      ],
      "layout": "IPY_MODEL_e38519030900491c9fe643a394bc26a8"
     }
    },
    "32365e86dcc443c5828eefde7c8e041d": {
     "model_module": "@jupyter-widgets/controls",
     "model_module_version": "1.5.0",
     "model_name": "DescriptionStyleModel",
     "state": {
      "_model_module": "@jupyter-widgets/controls",
      "_model_module_version": "1.5.0",
      "_model_name": "DescriptionStyleModel",
      "_view_count": null,
      "_view_module": "@jupyter-widgets/base",
      "_view_module_version": "1.2.0",
      "_view_name": "StyleView",
      "description_width": ""
     }
    },
    "32490975bf824c629743a2aaf6d482a5": {
     "model_module": "@jupyter-widgets/controls",
     "model_module_version": "1.5.0",
     "model_name": "FloatProgressModel",
     "state": {
      "_dom_classes": [],
      "_model_module": "@jupyter-widgets/controls",
      "_model_module_version": "1.5.0",
      "_model_name": "FloatProgressModel",
      "_view_count": null,
      "_view_module": "@jupyter-widgets/controls",
      "_view_module_version": "1.5.0",
      "_view_name": "ProgressView",
      "bar_style": "success",
      "description": "",
      "description_tooltip": null,
      "layout": "IPY_MODEL_7bdd3cdf944942a288f6f0125fa028c8",
      "max": 122,
      "min": 0,
      "orientation": "horizontal",
      "style": "IPY_MODEL_a6ee06ba3041413793e0d7315265b981",
      "value": 122
     }
    },
    "3446beb155884ea9b9b309b0cc30ae17": {
     "model_module": "@jupyter-widgets/controls",
     "model_module_version": "1.5.0",
     "model_name": "HTMLModel",
     "state": {
      "_dom_classes": [],
      "_model_module": "@jupyter-widgets/controls",
      "_model_module_version": "1.5.0",
      "_model_name": "HTMLModel",
      "_view_count": null,
      "_view_module": "@jupyter-widgets/controls",
      "_view_module_version": "1.5.0",
      "_view_name": "HTMLView",
      "description": "",
      "description_tooltip": null,
      "layout": "IPY_MODEL_10fe171c9ec040588e55c3932d33a1df",
      "placeholder": "​",
      "style": "IPY_MODEL_2f796cac49c1480e884fac4ecc3711d7",
      "value": " 122/122 [00:00&lt;00:00, 5.95kB/s]"
     }
    },
    "34ceb39d4e1f4155b1cd7026f6584d82": {
     "model_module": "@jupyter-widgets/base",
     "model_module_version": "1.2.0",
     "model_name": "LayoutModel",
     "state": {
      "_model_module": "@jupyter-widgets/base",
      "_model_module_version": "1.2.0",
      "_model_name": "LayoutModel",
      "_view_count": null,
      "_view_module": "@jupyter-widgets/base",
      "_view_module_version": "1.2.0",
      "_view_name": "LayoutView",
      "align_content": null,
      "align_items": null,
      "align_self": null,
      "border": null,
      "bottom": null,
      "display": null,
      "flex": null,
      "flex_flow": null,
      "grid_area": null,
      "grid_auto_columns": null,
      "grid_auto_flow": null,
      "grid_auto_rows": null,
      "grid_column": null,
      "grid_gap": null,
      "grid_row": null,
      "grid_template_areas": null,
      "grid_template_columns": null,
      "grid_template_rows": null,
      "height": null,
      "justify_content": null,
      "justify_items": null,
      "left": null,
      "margin": null,
      "max_height": null,
      "max_width": null,
      "min_height": null,
      "min_width": null,
      "object_fit": null,
      "object_position": null,
      "order": null,
      "overflow": null,
      "overflow_x": null,
      "overflow_y": null,
      "padding": null,
      "right": null,
      "top": null,
      "visibility": null,
      "width": null
     }
    },
    "3582132b1bd44974b43de925c1570b92": {
     "model_module": "@jupyter-widgets/base",
     "model_module_version": "1.2.0",
     "model_name": "LayoutModel",
     "state": {
      "_model_module": "@jupyter-widgets/base",
      "_model_module_version": "1.2.0",
      "_model_name": "LayoutModel",
      "_view_count": null,
      "_view_module": "@jupyter-widgets/base",
      "_view_module_version": "1.2.0",
      "_view_name": "LayoutView",
      "align_content": null,
      "align_items": null,
      "align_self": null,
      "border": null,
      "bottom": null,
      "display": null,
      "flex": null,
      "flex_flow": null,
      "grid_area": null,
      "grid_auto_columns": null,
      "grid_auto_flow": null,
      "grid_auto_rows": null,
      "grid_column": null,
      "grid_gap": null,
      "grid_row": null,
      "grid_template_areas": null,
      "grid_template_columns": null,
      "grid_template_rows": null,
      "height": null,
      "justify_content": null,
      "justify_items": null,
      "left": null,
      "margin": null,
      "max_height": null,
      "max_width": null,
      "min_height": null,
      "min_width": null,
      "object_fit": null,
      "object_position": null,
      "order": null,
      "overflow": null,
      "overflow_x": null,
      "overflow_y": null,
      "padding": null,
      "right": null,
      "top": null,
      "visibility": null,
      "width": null
     }
    },
    "36bc0c2efe23484a9a359efb9a11d643": {
     "model_module": "@jupyter-widgets/controls",
     "model_module_version": "1.5.0",
     "model_name": "HTMLModel",
     "state": {
      "_dom_classes": [],
      "_model_module": "@jupyter-widgets/controls",
      "_model_module_version": "1.5.0",
      "_model_name": "HTMLModel",
      "_view_count": null,
      "_view_module": "@jupyter-widgets/controls",
      "_view_module_version": "1.5.0",
      "_view_name": "HTMLView",
      "description": "",
      "description_tooltip": null,
      "layout": "IPY_MODEL_57e042a4f51f4ac68e02a015567a4035",
      "placeholder": "​",
      "style": "IPY_MODEL_513451b7b09f4ed78ad87753f8f608c9",
      "value": "pytorch_model.bin: 100%"
     }
    },
    "36ce5275184e421780d2746d027756d2": {
     "model_module": "@jupyter-widgets/base",
     "model_module_version": "1.2.0",
     "model_name": "LayoutModel",
     "state": {
      "_model_module": "@jupyter-widgets/base",
      "_model_module_version": "1.2.0",
      "_model_name": "LayoutModel",
      "_view_count": null,
      "_view_module": "@jupyter-widgets/base",
      "_view_module_version": "1.2.0",
      "_view_name": "LayoutView",
      "align_content": null,
      "align_items": null,
      "align_self": null,
      "border": null,
      "bottom": null,
      "display": null,
      "flex": null,
      "flex_flow": null,
      "grid_area": null,
      "grid_auto_columns": null,
      "grid_auto_flow": null,
      "grid_auto_rows": null,
      "grid_column": null,
      "grid_gap": null,
      "grid_row": null,
      "grid_template_areas": null,
      "grid_template_columns": null,
      "grid_template_rows": null,
      "height": null,
      "justify_content": null,
      "justify_items": null,
      "left": null,
      "margin": null,
      "max_height": null,
      "max_width": null,
      "min_height": null,
      "min_width": null,
      "object_fit": null,
      "object_position": null,
      "order": null,
      "overflow": null,
      "overflow_x": null,
      "overflow_y": null,
      "padding": null,
      "right": null,
      "top": null,
      "visibility": null,
      "width": null
     }
    },
    "37e2998cc1e54c3ab047f062f925075e": {
     "model_module": "@jupyter-widgets/controls",
     "model_module_version": "1.5.0",
     "model_name": "HTMLModel",
     "state": {
      "_dom_classes": [],
      "_model_module": "@jupyter-widgets/controls",
      "_model_module_version": "1.5.0",
      "_model_name": "HTMLModel",
      "_view_count": null,
      "_view_module": "@jupyter-widgets/controls",
      "_view_module_version": "1.5.0",
      "_view_name": "HTMLView",
      "description": "",
      "description_tooltip": null,
      "layout": "IPY_MODEL_9f1f803cdf8c478a99d8b49efa56b501",
      "placeholder": "​",
      "style": "IPY_MODEL_481ac6818fce439695129c9e2b5fac9d",
      "value": "config.json: 100%"
     }
    },
    "37e3c681dd4d45f383836e828e3ecaef": {
     "model_module": "@jupyter-widgets/controls",
     "model_module_version": "1.5.0",
     "model_name": "HTMLModel",
     "state": {
      "_dom_classes": [],
      "_model_module": "@jupyter-widgets/controls",
      "_model_module_version": "1.5.0",
      "_model_name": "HTMLModel",
      "_view_count": null,
      "_view_module": "@jupyter-widgets/controls",
      "_view_module_version": "1.5.0",
      "_view_name": "HTMLView",
      "description": "",
      "description_tooltip": null,
      "layout": "IPY_MODEL_6fddf5adb2144187bb9b6a598c1dd722",
      "placeholder": "​",
      "style": "IPY_MODEL_41d70b426ae64931a9f530f64081da3a",
      "value": " 1.58M/1.58M [00:00&lt;00:00, 6.59MB/s]"
     }
    },
    "380bb3b019a6405d88ede22f252b220d": {
     "model_module": "@jupyter-widgets/controls",
     "model_module_version": "1.5.0",
     "model_name": "DescriptionStyleModel",
     "state": {
      "_model_module": "@jupyter-widgets/controls",
      "_model_module_version": "1.5.0",
      "_model_name": "DescriptionStyleModel",
      "_view_count": null,
      "_view_module": "@jupyter-widgets/base",
      "_view_module_version": "1.2.0",
      "_view_name": "StyleView",
      "description_width": ""
     }
    },
    "39157124a8f041e3a109e080aeb6d4e8": {
     "model_module": "@jupyter-widgets/controls",
     "model_module_version": "1.5.0",
     "model_name": "FloatProgressModel",
     "state": {
      "_dom_classes": [],
      "_model_module": "@jupyter-widgets/controls",
      "_model_module_version": "1.5.0",
      "_model_name": "FloatProgressModel",
      "_view_count": null,
      "_view_module": "@jupyter-widgets/controls",
      "_view_module_version": "1.5.0",
      "_view_name": "ProgressView",
      "bar_style": "success",
      "description": "",
      "description_tooltip": null,
      "layout": "IPY_MODEL_d5c4e2de8b8c45409ac4f2e0e674df45",
      "max": 112,
      "min": 0,
      "orientation": "horizontal",
      "style": "IPY_MODEL_5984f64749574a1daee22a0d94a64056",
      "value": 112
     }
    },
    "3969563f57d24ef68a27af0a28ab8329": {
     "model_module": "@jupyter-widgets/controls",
     "model_module_version": "1.5.0",
     "model_name": "DescriptionStyleModel",
     "state": {
      "_model_module": "@jupyter-widgets/controls",
      "_model_module_version": "1.5.0",
      "_model_name": "DescriptionStyleModel",
      "_view_count": null,
      "_view_module": "@jupyter-widgets/base",
      "_view_module_version": "1.2.0",
      "_view_name": "StyleView",
      "description_width": ""
     }
    },
    "3b47c9bdcdae48f0bcb5f8d3b829b978": {
     "model_module": "@jupyter-widgets/base",
     "model_module_version": "1.2.0",
     "model_name": "LayoutModel",
     "state": {
      "_model_module": "@jupyter-widgets/base",
      "_model_module_version": "1.2.0",
      "_model_name": "LayoutModel",
      "_view_count": null,
      "_view_module": "@jupyter-widgets/base",
      "_view_module_version": "1.2.0",
      "_view_name": "LayoutView",
      "align_content": null,
      "align_items": null,
      "align_self": null,
      "border": null,
      "bottom": null,
      "display": null,
      "flex": null,
      "flex_flow": null,
      "grid_area": null,
      "grid_auto_columns": null,
      "grid_auto_flow": null,
      "grid_auto_rows": null,
      "grid_column": null,
      "grid_gap": null,
      "grid_row": null,
      "grid_template_areas": null,
      "grid_template_columns": null,
      "grid_template_rows": null,
      "height": null,
      "justify_content": null,
      "justify_items": null,
      "left": null,
      "margin": null,
      "max_height": null,
      "max_width": null,
      "min_height": null,
      "min_width": null,
      "object_fit": null,
      "object_position": null,
      "order": null,
      "overflow": null,
      "overflow_x": null,
      "overflow_y": null,
      "padding": null,
      "right": null,
      "top": null,
      "visibility": null,
      "width": null
     }
    },
    "3dd7b5c1204947faa58c49e3b59963e9": {
     "model_module": "@jupyter-widgets/controls",
     "model_module_version": "1.5.0",
     "model_name": "DescriptionStyleModel",
     "state": {
      "_model_module": "@jupyter-widgets/controls",
      "_model_module_version": "1.5.0",
      "_model_name": "DescriptionStyleModel",
      "_view_count": null,
      "_view_module": "@jupyter-widgets/base",
      "_view_module_version": "1.2.0",
      "_view_name": "StyleView",
      "description_width": ""
     }
    },
    "3f4086250ca649e8a244af0713a82315": {
     "model_module": "@jupyter-widgets/base",
     "model_module_version": "1.2.0",
     "model_name": "LayoutModel",
     "state": {
      "_model_module": "@jupyter-widgets/base",
      "_model_module_version": "1.2.0",
      "_model_name": "LayoutModel",
      "_view_count": null,
      "_view_module": "@jupyter-widgets/base",
      "_view_module_version": "1.2.0",
      "_view_name": "LayoutView",
      "align_content": null,
      "align_items": null,
      "align_self": null,
      "border": null,
      "bottom": null,
      "display": null,
      "flex": null,
      "flex_flow": null,
      "grid_area": null,
      "grid_auto_columns": null,
      "grid_auto_flow": null,
      "grid_auto_rows": null,
      "grid_column": null,
      "grid_gap": null,
      "grid_row": null,
      "grid_template_areas": null,
      "grid_template_columns": null,
      "grid_template_rows": null,
      "height": null,
      "justify_content": null,
      "justify_items": null,
      "left": null,
      "margin": null,
      "max_height": null,
      "max_width": null,
      "min_height": null,
      "min_width": null,
      "object_fit": null,
      "object_position": null,
      "order": null,
      "overflow": null,
      "overflow_x": null,
      "overflow_y": null,
      "padding": null,
      "right": null,
      "top": null,
      "visibility": null,
      "width": null
     }
    },
    "402ef42fd3c94ae393b50d24c5ffde13": {
     "model_module": "@jupyter-widgets/controls",
     "model_module_version": "1.5.0",
     "model_name": "HTMLModel",
     "state": {
      "_dom_classes": [],
      "_model_module": "@jupyter-widgets/controls",
      "_model_module_version": "1.5.0",
      "_model_name": "HTMLModel",
      "_view_count": null,
      "_view_module": "@jupyter-widgets/controls",
      "_view_module_version": "1.5.0",
      "_view_name": "HTMLView",
      "description": "",
      "description_tooltip": null,
      "layout": "IPY_MODEL_6a02d2581bbb4f2cab26967f72c99c13",
      "placeholder": "​",
      "style": "IPY_MODEL_32365e86dcc443c5828eefde7c8e041d",
      "value": " 1.58M/1.58M [00:00&lt;00:00, 6.24MB/s]"
     }
    },
    "40bf27d22d5344ccbdfaa669c4e0e420": {
     "model_module": "@jupyter-widgets/controls",
     "model_module_version": "1.5.0",
     "model_name": "HBoxModel",
     "state": {
      "_dom_classes": [],
      "_model_module": "@jupyter-widgets/controls",
      "_model_module_version": "1.5.0",
      "_model_name": "HBoxModel",
      "_view_count": null,
      "_view_module": "@jupyter-widgets/controls",
      "_view_module_version": "1.5.0",
      "_view_name": "HBoxView",
      "box_style": "",
      "children": [
       "IPY_MODEL_42c73015cc1e4c41bd372a1b82b03e33",
       "IPY_MODEL_50550c38444b4921b30189da7f86934e",
       "IPY_MODEL_fc70bd2b8dca497aba469ffbc7202a57"
      ],
      "layout": "IPY_MODEL_fbcf380f728e4d3e952eb189c5908cf4"
     }
    },
    "40d0363da6614cb2aae2ef0addc20e8a": {
     "model_module": "@jupyter-widgets/base",
     "model_module_version": "1.2.0",
     "model_name": "LayoutModel",
     "state": {
      "_model_module": "@jupyter-widgets/base",
      "_model_module_version": "1.2.0",
      "_model_name": "LayoutModel",
      "_view_count": null,
      "_view_module": "@jupyter-widgets/base",
      "_view_module_version": "1.2.0",
      "_view_name": "LayoutView",
      "align_content": null,
      "align_items": null,
      "align_self": null,
      "border": null,
      "bottom": null,
      "display": null,
      "flex": null,
      "flex_flow": null,
      "grid_area": null,
      "grid_auto_columns": null,
      "grid_auto_flow": null,
      "grid_auto_rows": null,
      "grid_column": null,
      "grid_gap": null,
      "grid_row": null,
      "grid_template_areas": null,
      "grid_template_columns": null,
      "grid_template_rows": null,
      "height": null,
      "justify_content": null,
      "justify_items": null,
      "left": null,
      "margin": null,
      "max_height": null,
      "max_width": null,
      "min_height": null,
      "min_width": null,
      "object_fit": null,
      "object_position": null,
      "order": null,
      "overflow": null,
      "overflow_x": null,
      "overflow_y": null,
      "padding": null,
      "right": null,
      "top": null,
      "visibility": null,
      "width": null
     }
    },
    "41c3e6e122fc4f9587ee101677032544": {
     "model_module": "@jupyter-widgets/base",
     "model_module_version": "1.2.0",
     "model_name": "LayoutModel",
     "state": {
      "_model_module": "@jupyter-widgets/base",
      "_model_module_version": "1.2.0",
      "_model_name": "LayoutModel",
      "_view_count": null,
      "_view_module": "@jupyter-widgets/base",
      "_view_module_version": "1.2.0",
      "_view_name": "LayoutView",
      "align_content": null,
      "align_items": null,
      "align_self": null,
      "border": null,
      "bottom": null,
      "display": null,
      "flex": null,
      "flex_flow": null,
      "grid_area": null,
      "grid_auto_columns": null,
      "grid_auto_flow": null,
      "grid_auto_rows": null,
      "grid_column": null,
      "grid_gap": null,
      "grid_row": null,
      "grid_template_areas": null,
      "grid_template_columns": null,
      "grid_template_rows": null,
      "height": null,
      "justify_content": null,
      "justify_items": null,
      "left": null,
      "margin": null,
      "max_height": null,
      "max_width": null,
      "min_height": null,
      "min_width": null,
      "object_fit": null,
      "object_position": null,
      "order": null,
      "overflow": null,
      "overflow_x": null,
      "overflow_y": null,
      "padding": null,
      "right": null,
      "top": null,
      "visibility": null,
      "width": null
     }
    },
    "41d70b426ae64931a9f530f64081da3a": {
     "model_module": "@jupyter-widgets/controls",
     "model_module_version": "1.5.0",
     "model_name": "DescriptionStyleModel",
     "state": {
      "_model_module": "@jupyter-widgets/controls",
      "_model_module_version": "1.5.0",
      "_model_name": "DescriptionStyleModel",
      "_view_count": null,
      "_view_module": "@jupyter-widgets/base",
      "_view_module_version": "1.2.0",
      "_view_name": "StyleView",
      "description_width": ""
     }
    },
    "420c43c3c72243b6b0d336391d38dc22": {
     "model_module": "@jupyter-widgets/controls",
     "model_module_version": "1.5.0",
     "model_name": "DescriptionStyleModel",
     "state": {
      "_model_module": "@jupyter-widgets/controls",
      "_model_module_version": "1.5.0",
      "_model_name": "DescriptionStyleModel",
      "_view_count": null,
      "_view_module": "@jupyter-widgets/base",
      "_view_module_version": "1.2.0",
      "_view_name": "StyleView",
      "description_width": ""
     }
    },
    "42c73015cc1e4c41bd372a1b82b03e33": {
     "model_module": "@jupyter-widgets/controls",
     "model_module_version": "1.5.0",
     "model_name": "HTMLModel",
     "state": {
      "_dom_classes": [],
      "_model_module": "@jupyter-widgets/controls",
      "_model_module_version": "1.5.0",
      "_model_name": "HTMLModel",
      "_view_count": null,
      "_view_module": "@jupyter-widgets/controls",
      "_view_module_version": "1.5.0",
      "_view_name": "HTMLView",
      "description": "",
      "description_tooltip": null,
      "layout": "IPY_MODEL_c2d8af658994410da9af87fd8e8eed4f",
      "placeholder": "​",
      "style": "IPY_MODEL_d140c50ec187489b8b174a75e660b77b",
      "value": "modules.json: 100%"
     }
    },
    "45fe77d8f4e5488bac860ff8b887d314": {
     "model_module": "@jupyter-widgets/base",
     "model_module_version": "1.2.0",
     "model_name": "LayoutModel",
     "state": {
      "_model_module": "@jupyter-widgets/base",
      "_model_module_version": "1.2.0",
      "_model_name": "LayoutModel",
      "_view_count": null,
      "_view_module": "@jupyter-widgets/base",
      "_view_module_version": "1.2.0",
      "_view_name": "LayoutView",
      "align_content": null,
      "align_items": null,
      "align_self": null,
      "border": null,
      "bottom": null,
      "display": null,
      "flex": null,
      "flex_flow": null,
      "grid_area": null,
      "grid_auto_columns": null,
      "grid_auto_flow": null,
      "grid_auto_rows": null,
      "grid_column": null,
      "grid_gap": null,
      "grid_row": null,
      "grid_template_areas": null,
      "grid_template_columns": null,
      "grid_template_rows": null,
      "height": null,
      "justify_content": null,
      "justify_items": null,
      "left": null,
      "margin": null,
      "max_height": null,
      "max_width": null,
      "min_height": null,
      "min_width": null,
      "object_fit": null,
      "object_position": null,
      "order": null,
      "overflow": null,
      "overflow_x": null,
      "overflow_y": null,
      "padding": null,
      "right": null,
      "top": null,
      "visibility": null,
      "width": null
     }
    },
    "47d82e54a28843fe9528c1c909773729": {
     "model_module": "@jupyter-widgets/base",
     "model_module_version": "1.2.0",
     "model_name": "LayoutModel",
     "state": {
      "_model_module": "@jupyter-widgets/base",
      "_model_module_version": "1.2.0",
      "_model_name": "LayoutModel",
      "_view_count": null,
      "_view_module": "@jupyter-widgets/base",
      "_view_module_version": "1.2.0",
      "_view_name": "LayoutView",
      "align_content": null,
      "align_items": null,
      "align_self": null,
      "border": null,
      "bottom": null,
      "display": null,
      "flex": null,
      "flex_flow": null,
      "grid_area": null,
      "grid_auto_columns": null,
      "grid_auto_flow": null,
      "grid_auto_rows": null,
      "grid_column": null,
      "grid_gap": null,
      "grid_row": null,
      "grid_template_areas": null,
      "grid_template_columns": null,
      "grid_template_rows": null,
      "height": null,
      "justify_content": null,
      "justify_items": null,
      "left": null,
      "margin": null,
      "max_height": null,
      "max_width": null,
      "min_height": null,
      "min_width": null,
      "object_fit": null,
      "object_position": null,
      "order": null,
      "overflow": null,
      "overflow_x": null,
      "overflow_y": null,
      "padding": null,
      "right": null,
      "top": null,
      "visibility": null,
      "width": null
     }
    },
    "481ac6818fce439695129c9e2b5fac9d": {
     "model_module": "@jupyter-widgets/controls",
     "model_module_version": "1.5.0",
     "model_name": "DescriptionStyleModel",
     "state": {
      "_model_module": "@jupyter-widgets/controls",
      "_model_module_version": "1.5.0",
      "_model_name": "DescriptionStyleModel",
      "_view_count": null,
      "_view_module": "@jupyter-widgets/base",
      "_view_module_version": "1.2.0",
      "_view_name": "StyleView",
      "description_width": ""
     }
    },
    "4dc84830842642f391f46afffa1760f0": {
     "model_module": "@jupyter-widgets/controls",
     "model_module_version": "1.5.0",
     "model_name": "HBoxModel",
     "state": {
      "_dom_classes": [],
      "_model_module": "@jupyter-widgets/controls",
      "_model_module_version": "1.5.0",
      "_model_name": "HBoxModel",
      "_view_count": null,
      "_view_module": "@jupyter-widgets/controls",
      "_view_module_version": "1.5.0",
      "_view_name": "HBoxView",
      "box_style": "",
      "children": [
       "IPY_MODEL_937fa12c09ae460db8d75c9aa5418a36",
       "IPY_MODEL_2da40c0124a645278a5c1f922a15dde5",
       "IPY_MODEL_37e3c681dd4d45f383836e828e3ecaef"
      ],
      "layout": "IPY_MODEL_a13bd16723724d9883e212fa84b33374"
     }
    },
    "50550c38444b4921b30189da7f86934e": {
     "model_module": "@jupyter-widgets/controls",
     "model_module_version": "1.5.0",
     "model_name": "FloatProgressModel",
     "state": {
      "_dom_classes": [],
      "_model_module": "@jupyter-widgets/controls",
      "_model_module_version": "1.5.0",
      "_model_name": "FloatProgressModel",
      "_view_count": null,
      "_view_module": "@jupyter-widgets/controls",
      "_view_module_version": "1.5.0",
      "_view_name": "ProgressView",
      "bar_style": "success",
      "description": "",
      "description_tooltip": null,
      "layout": "IPY_MODEL_40d0363da6614cb2aae2ef0addc20e8a",
      "max": 341,
      "min": 0,
      "orientation": "horizontal",
      "style": "IPY_MODEL_6f4c2ef24d8e486a8bbd94813af0cdf9",
      "value": 341
     }
    },
    "506579f812c84d6cbfbd5790077d92c8": {
     "model_module": "@jupyter-widgets/controls",
     "model_module_version": "1.5.0",
     "model_name": "DescriptionStyleModel",
     "state": {
      "_model_module": "@jupyter-widgets/controls",
      "_model_module_version": "1.5.0",
      "_model_name": "DescriptionStyleModel",
      "_view_count": null,
      "_view_module": "@jupyter-widgets/base",
      "_view_module_version": "1.2.0",
      "_view_name": "StyleView",
      "description_width": ""
     }
    },
    "513451b7b09f4ed78ad87753f8f608c9": {
     "model_module": "@jupyter-widgets/controls",
     "model_module_version": "1.5.0",
     "model_name": "DescriptionStyleModel",
     "state": {
      "_model_module": "@jupyter-widgets/controls",
      "_model_module_version": "1.5.0",
      "_model_name": "DescriptionStyleModel",
      "_view_count": null,
      "_view_module": "@jupyter-widgets/base",
      "_view_module_version": "1.2.0",
      "_view_name": "StyleView",
      "description_width": ""
     }
    },
    "53acaeb8389348cd8f78808cbf2e2f40": {
     "model_module": "@jupyter-widgets/base",
     "model_module_version": "1.2.0",
     "model_name": "LayoutModel",
     "state": {
      "_model_module": "@jupyter-widgets/base",
      "_model_module_version": "1.2.0",
      "_model_name": "LayoutModel",
      "_view_count": null,
      "_view_module": "@jupyter-widgets/base",
      "_view_module_version": "1.2.0",
      "_view_name": "LayoutView",
      "align_content": null,
      "align_items": null,
      "align_self": null,
      "border": null,
      "bottom": null,
      "display": null,
      "flex": null,
      "flex_flow": null,
      "grid_area": null,
      "grid_auto_columns": null,
      "grid_auto_flow": null,
      "grid_auto_rows": null,
      "grid_column": null,
      "grid_gap": null,
      "grid_row": null,
      "grid_template_areas": null,
      "grid_template_columns": null,
      "grid_template_rows": null,
      "height": null,
      "justify_content": null,
      "justify_items": null,
      "left": null,
      "margin": null,
      "max_height": null,
      "max_width": null,
      "min_height": null,
      "min_width": null,
      "object_fit": null,
      "object_position": null,
      "order": null,
      "overflow": null,
      "overflow_x": null,
      "overflow_y": null,
      "padding": null,
      "right": null,
      "top": null,
      "visibility": null,
      "width": null
     }
    },
    "57e042a4f51f4ac68e02a015567a4035": {
     "model_module": "@jupyter-widgets/base",
     "model_module_version": "1.2.0",
     "model_name": "LayoutModel",
     "state": {
      "_model_module": "@jupyter-widgets/base",
      "_model_module_version": "1.2.0",
      "_model_name": "LayoutModel",
      "_view_count": null,
      "_view_module": "@jupyter-widgets/base",
      "_view_module_version": "1.2.0",
      "_view_name": "LayoutView",
      "align_content": null,
      "align_items": null,
      "align_self": null,
      "border": null,
      "bottom": null,
      "display": null,
      "flex": null,
      "flex_flow": null,
      "grid_area": null,
      "grid_auto_columns": null,
      "grid_auto_flow": null,
      "grid_auto_rows": null,
      "grid_column": null,
      "grid_gap": null,
      "grid_row": null,
      "grid_template_areas": null,
      "grid_template_columns": null,
      "grid_template_rows": null,
      "height": null,
      "justify_content": null,
      "justify_items": null,
      "left": null,
      "margin": null,
      "max_height": null,
      "max_width": null,
      "min_height": null,
      "min_width": null,
      "object_fit": null,
      "object_position": null,
      "order": null,
      "overflow": null,
      "overflow_x": null,
      "overflow_y": null,
      "padding": null,
      "right": null,
      "top": null,
      "visibility": null,
      "width": null
     }
    },
    "5984f64749574a1daee22a0d94a64056": {
     "model_module": "@jupyter-widgets/controls",
     "model_module_version": "1.5.0",
     "model_name": "ProgressStyleModel",
     "state": {
      "_model_module": "@jupyter-widgets/controls",
      "_model_module_version": "1.5.0",
      "_model_name": "ProgressStyleModel",
      "_view_count": null,
      "_view_module": "@jupyter-widgets/base",
      "_view_module_version": "1.2.0",
      "_view_name": "StyleView",
      "bar_color": null,
      "description_width": ""
     }
    },
    "5bc6e134ce5e436f864f8b702984e0b0": {
     "model_module": "@jupyter-widgets/controls",
     "model_module_version": "1.5.0",
     "model_name": "DescriptionStyleModel",
     "state": {
      "_model_module": "@jupyter-widgets/controls",
      "_model_module_version": "1.5.0",
      "_model_name": "DescriptionStyleModel",
      "_view_count": null,
      "_view_module": "@jupyter-widgets/base",
      "_view_module_version": "1.2.0",
      "_view_name": "StyleView",
      "description_width": ""
     }
    },
    "5edea54eb74f49ee91ae9adc67073e74": {
     "model_module": "@jupyter-widgets/base",
     "model_module_version": "1.2.0",
     "model_name": "LayoutModel",
     "state": {
      "_model_module": "@jupyter-widgets/base",
      "_model_module_version": "1.2.0",
      "_model_name": "LayoutModel",
      "_view_count": null,
      "_view_module": "@jupyter-widgets/base",
      "_view_module_version": "1.2.0",
      "_view_name": "LayoutView",
      "align_content": null,
      "align_items": null,
      "align_self": null,
      "border": null,
      "bottom": null,
      "display": null,
      "flex": null,
      "flex_flow": null,
      "grid_area": null,
      "grid_auto_columns": null,
      "grid_auto_flow": null,
      "grid_auto_rows": null,
      "grid_column": null,
      "grid_gap": null,
      "grid_row": null,
      "grid_template_areas": null,
      "grid_template_columns": null,
      "grid_template_rows": null,
      "height": null,
      "justify_content": null,
      "justify_items": null,
      "left": null,
      "margin": null,
      "max_height": null,
      "max_width": null,
      "min_height": null,
      "min_width": null,
      "object_fit": null,
      "object_position": null,
      "order": null,
      "overflow": null,
      "overflow_x": null,
      "overflow_y": null,
      "padding": null,
      "right": null,
      "top": null,
      "visibility": null,
      "width": null
     }
    },
    "5fa951273dea4315bdc61f0a867f9a24": {
     "model_module": "@jupyter-widgets/controls",
     "model_module_version": "1.5.0",
     "model_name": "FloatProgressModel",
     "state": {
      "_dom_classes": [],
      "_model_module": "@jupyter-widgets/controls",
      "_model_module_version": "1.5.0",
      "_model_name": "FloatProgressModel",
      "_view_count": null,
      "_view_module": "@jupyter-widgets/controls",
      "_view_module_version": "1.5.0",
      "_view_name": "ProgressView",
      "bar_style": "success",
      "description": "",
      "description_tooltip": null,
      "layout": "IPY_MODEL_8dc9796f2f35453da55c1650d15c5f73",
      "max": 995526,
      "min": 0,
      "orientation": "horizontal",
      "style": "IPY_MODEL_8a7655fa6b764932a8aabca34eaf6b7d",
      "value": 995526
     }
    },
    "64860e2ae9e047d8ac148d676146907c": {
     "model_module": "@jupyter-widgets/controls",
     "model_module_version": "1.5.0",
     "model_name": "FloatProgressModel",
     "state": {
      "_dom_classes": [],
      "_model_module": "@jupyter-widgets/controls",
      "_model_module_version": "1.5.0",
      "_model_name": "FloatProgressModel",
      "_view_count": null,
      "_view_module": "@jupyter-widgets/controls",
      "_view_module_version": "1.5.0",
      "_view_name": "ProgressView",
      "bar_style": "success",
      "description": "",
      "description_tooltip": null,
      "layout": "IPY_MODEL_82429168be944459a8dc2f477a588f68",
      "max": 114,
      "min": 0,
      "orientation": "horizontal",
      "style": "IPY_MODEL_0088c3b13d914d7295c5eaa660d83c19",
      "value": 114
     }
    },
    "65430176af9942b7b73e897b6bf868d7": {
     "model_module": "@jupyter-widgets/controls",
     "model_module_version": "1.5.0",
     "model_name": "FloatProgressModel",
     "state": {
      "_dom_classes": [],
      "_model_module": "@jupyter-widgets/controls",
      "_model_module_version": "1.5.0",
      "_model_name": "FloatProgressModel",
      "_view_count": null,
      "_view_module": "@jupyter-widgets/controls",
      "_view_module_version": "1.5.0",
      "_view_name": "ProgressView",
      "bar_style": "success",
      "description": "",
      "description_tooltip": null,
      "layout": "IPY_MODEL_97884fd664e1464a934641a951ed5c57",
      "max": 538947416,
      "min": 0,
      "orientation": "horizontal",
      "style": "IPY_MODEL_ea00815745ce4fd0a4472703ab8ee4f6",
      "value": 538947416
     }
    },
    "66005da96f364cba90b4d7e4e46c4ec4": {
     "model_module": "@jupyter-widgets/controls",
     "model_module_version": "1.5.0",
     "model_name": "ProgressStyleModel",
     "state": {
      "_model_module": "@jupyter-widgets/controls",
      "_model_module_version": "1.5.0",
      "_model_name": "ProgressStyleModel",
      "_view_count": null,
      "_view_module": "@jupyter-widgets/base",
      "_view_module_version": "1.2.0",
      "_view_name": "StyleView",
      "bar_color": null,
      "description_width": ""
     }
    },
    "664a92721be442478b21a010d2df4b11": {
     "model_module": "@jupyter-widgets/controls",
     "model_module_version": "1.5.0",
     "model_name": "DescriptionStyleModel",
     "state": {
      "_model_module": "@jupyter-widgets/controls",
      "_model_module_version": "1.5.0",
      "_model_name": "DescriptionStyleModel",
      "_view_count": null,
      "_view_module": "@jupyter-widgets/base",
      "_view_module_version": "1.2.0",
      "_view_name": "StyleView",
      "description_width": ""
     }
    },
    "673978732d194b16a68adfa93a3739b2": {
     "model_module": "@jupyter-widgets/base",
     "model_module_version": "1.2.0",
     "model_name": "LayoutModel",
     "state": {
      "_model_module": "@jupyter-widgets/base",
      "_model_module_version": "1.2.0",
      "_model_name": "LayoutModel",
      "_view_count": null,
      "_view_module": "@jupyter-widgets/base",
      "_view_module_version": "1.2.0",
      "_view_name": "LayoutView",
      "align_content": null,
      "align_items": null,
      "align_self": null,
      "border": null,
      "bottom": null,
      "display": null,
      "flex": null,
      "flex_flow": null,
      "grid_area": null,
      "grid_auto_columns": null,
      "grid_auto_flow": null,
      "grid_auto_rows": null,
      "grid_column": null,
      "grid_gap": null,
      "grid_row": null,
      "grid_template_areas": null,
      "grid_template_columns": null,
      "grid_template_rows": null,
      "height": null,
      "justify_content": null,
      "justify_items": null,
      "left": null,
      "margin": null,
      "max_height": null,
      "max_width": null,
      "min_height": null,
      "min_width": null,
      "object_fit": null,
      "object_position": null,
      "order": null,
      "overflow": null,
      "overflow_x": null,
      "overflow_y": null,
      "padding": null,
      "right": null,
      "top": null,
      "visibility": null,
      "width": null
     }
    },
    "6839f3501c764692b8d1d88ea2728165": {
     "model_module": "@jupyter-widgets/controls",
     "model_module_version": "1.5.0",
     "model_name": "ProgressStyleModel",
     "state": {
      "_model_module": "@jupyter-widgets/controls",
      "_model_module_version": "1.5.0",
      "_model_name": "ProgressStyleModel",
      "_view_count": null,
      "_view_module": "@jupyter-widgets/base",
      "_view_module_version": "1.2.0",
      "_view_name": "StyleView",
      "bar_color": null,
      "description_width": ""
     }
    },
    "6857b12c149848bca9116a185a8d1fc3": {
     "model_module": "@jupyter-widgets/base",
     "model_module_version": "1.2.0",
     "model_name": "LayoutModel",
     "state": {
      "_model_module": "@jupyter-widgets/base",
      "_model_module_version": "1.2.0",
      "_model_name": "LayoutModel",
      "_view_count": null,
      "_view_module": "@jupyter-widgets/base",
      "_view_module_version": "1.2.0",
      "_view_name": "LayoutView",
      "align_content": null,
      "align_items": null,
      "align_self": null,
      "border": null,
      "bottom": null,
      "display": null,
      "flex": null,
      "flex_flow": null,
      "grid_area": null,
      "grid_auto_columns": null,
      "grid_auto_flow": null,
      "grid_auto_rows": null,
      "grid_column": null,
      "grid_gap": null,
      "grid_row": null,
      "grid_template_areas": null,
      "grid_template_columns": null,
      "grid_template_rows": null,
      "height": null,
      "justify_content": null,
      "justify_items": null,
      "left": null,
      "margin": null,
      "max_height": null,
      "max_width": null,
      "min_height": null,
      "min_width": null,
      "object_fit": null,
      "object_position": null,
      "order": null,
      "overflow": null,
      "overflow_x": null,
      "overflow_y": null,
      "padding": null,
      "right": null,
      "top": null,
      "visibility": null,
      "width": null
     }
    },
    "686b14072e33490b86244a1fc3529390": {
     "model_module": "@jupyter-widgets/controls",
     "model_module_version": "1.5.0",
     "model_name": "DescriptionStyleModel",
     "state": {
      "_model_module": "@jupyter-widgets/controls",
      "_model_module_version": "1.5.0",
      "_model_name": "DescriptionStyleModel",
      "_view_count": null,
      "_view_module": "@jupyter-widgets/base",
      "_view_module_version": "1.2.0",
      "_view_name": "StyleView",
      "description_width": ""
     }
    },
    "6a02d2581bbb4f2cab26967f72c99c13": {
     "model_module": "@jupyter-widgets/base",
     "model_module_version": "1.2.0",
     "model_name": "LayoutModel",
     "state": {
      "_model_module": "@jupyter-widgets/base",
      "_model_module_version": "1.2.0",
      "_model_name": "LayoutModel",
      "_view_count": null,
      "_view_module": "@jupyter-widgets/base",
      "_view_module_version": "1.2.0",
      "_view_name": "LayoutView",
      "align_content": null,
      "align_items": null,
      "align_self": null,
      "border": null,
      "bottom": null,
      "display": null,
      "flex": null,
      "flex_flow": null,
      "grid_area": null,
      "grid_auto_columns": null,
      "grid_auto_flow": null,
      "grid_auto_rows": null,
      "grid_column": null,
      "grid_gap": null,
      "grid_row": null,
      "grid_template_areas": null,
      "grid_template_columns": null,
      "grid_template_rows": null,
      "height": null,
      "justify_content": null,
      "justify_items": null,
      "left": null,
      "margin": null,
      "max_height": null,
      "max_width": null,
      "min_height": null,
      "min_width": null,
      "object_fit": null,
      "object_position": null,
      "order": null,
      "overflow": null,
      "overflow_x": null,
      "overflow_y": null,
      "padding": null,
      "right": null,
      "top": null,
      "visibility": null,
      "width": null
     }
    },
    "6c1fb35760564a78912ce84a535b2c4b": {
     "model_module": "@jupyter-widgets/base",
     "model_module_version": "1.2.0",
     "model_name": "LayoutModel",
     "state": {
      "_model_module": "@jupyter-widgets/base",
      "_model_module_version": "1.2.0",
      "_model_name": "LayoutModel",
      "_view_count": null,
      "_view_module": "@jupyter-widgets/base",
      "_view_module_version": "1.2.0",
      "_view_name": "LayoutView",
      "align_content": null,
      "align_items": null,
      "align_self": null,
      "border": null,
      "bottom": null,
      "display": null,
      "flex": null,
      "flex_flow": null,
      "grid_area": null,
      "grid_auto_columns": null,
      "grid_auto_flow": null,
      "grid_auto_rows": null,
      "grid_column": null,
      "grid_gap": null,
      "grid_row": null,
      "grid_template_areas": null,
      "grid_template_columns": null,
      "grid_template_rows": null,
      "height": null,
      "justify_content": null,
      "justify_items": null,
      "left": null,
      "margin": null,
      "max_height": null,
      "max_width": null,
      "min_height": null,
      "min_width": null,
      "object_fit": null,
      "object_position": null,
      "order": null,
      "overflow": null,
      "overflow_x": null,
      "overflow_y": null,
      "padding": null,
      "right": null,
      "top": null,
      "visibility": null,
      "width": null
     }
    },
    "6d54c63b91f04dc5b658b05b5085a0f2": {
     "model_module": "@jupyter-widgets/controls",
     "model_module_version": "1.5.0",
     "model_name": "HBoxModel",
     "state": {
      "_dom_classes": [],
      "_model_module": "@jupyter-widgets/controls",
      "_model_module_version": "1.5.0",
      "_model_name": "HBoxModel",
      "_view_count": null,
      "_view_module": "@jupyter-widgets/controls",
      "_view_module_version": "1.5.0",
      "_view_name": "HBoxView",
      "box_style": "",
      "children": [
       "IPY_MODEL_c54c40e8deea421787513747c778fbef",
       "IPY_MODEL_5fa951273dea4315bdc61f0a867f9a24",
       "IPY_MODEL_0a9efe67ed914879a8438f0b1c921d7f"
      ],
      "layout": "IPY_MODEL_3582132b1bd44974b43de925c1570b92"
     }
    },
    "6e8a561e82404456a4a07e795712bbf9": {
     "model_module": "@jupyter-widgets/controls",
     "model_module_version": "1.5.0",
     "model_name": "FloatProgressModel",
     "state": {
      "_dom_classes": [],
      "_model_module": "@jupyter-widgets/controls",
      "_model_module_version": "1.5.0",
      "_model_name": "FloatProgressModel",
      "_view_count": null,
      "_view_module": "@jupyter-widgets/controls",
      "_view_module_version": "1.5.0",
      "_view_name": "ProgressView",
      "bar_style": "success",
      "description": "",
      "description_tooltip": null,
      "layout": "IPY_MODEL_34ceb39d4e1f4155b1cd7026f6584d82",
      "max": 53,
      "min": 0,
      "orientation": "horizontal",
      "style": "IPY_MODEL_66005da96f364cba90b4d7e4e46c4ec4",
      "value": 53
     }
    },
    "6f4c2ef24d8e486a8bbd94813af0cdf9": {
     "model_module": "@jupyter-widgets/controls",
     "model_module_version": "1.5.0",
     "model_name": "ProgressStyleModel",
     "state": {
      "_model_module": "@jupyter-widgets/controls",
      "_model_module_version": "1.5.0",
      "_model_name": "ProgressStyleModel",
      "_view_count": null,
      "_view_module": "@jupyter-widgets/base",
      "_view_module_version": "1.2.0",
      "_view_name": "StyleView",
      "bar_color": null,
      "description_width": ""
     }
    },
    "6fddf5adb2144187bb9b6a598c1dd722": {
     "model_module": "@jupyter-widgets/base",
     "model_module_version": "1.2.0",
     "model_name": "LayoutModel",
     "state": {
      "_model_module": "@jupyter-widgets/base",
      "_model_module_version": "1.2.0",
      "_model_name": "LayoutModel",
      "_view_count": null,
      "_view_module": "@jupyter-widgets/base",
      "_view_module_version": "1.2.0",
      "_view_name": "LayoutView",
      "align_content": null,
      "align_items": null,
      "align_self": null,
      "border": null,
      "bottom": null,
      "display": null,
      "flex": null,
      "flex_flow": null,
      "grid_area": null,
      "grid_auto_columns": null,
      "grid_auto_flow": null,
      "grid_auto_rows": null,
      "grid_column": null,
      "grid_gap": null,
      "grid_row": null,
      "grid_template_areas": null,
      "grid_template_columns": null,
      "grid_template_rows": null,
      "height": null,
      "justify_content": null,
      "justify_items": null,
      "left": null,
      "margin": null,
      "max_height": null,
      "max_width": null,
      "min_height": null,
      "min_width": null,
      "object_fit": null,
      "object_position": null,
      "order": null,
      "overflow": null,
      "overflow_x": null,
      "overflow_y": null,
      "padding": null,
      "right": null,
      "top": null,
      "visibility": null,
      "width": null
     }
    },
    "70f18b4a96004498bfc930ff4931d815": {
     "model_module": "@jupyter-widgets/base",
     "model_module_version": "1.2.0",
     "model_name": "LayoutModel",
     "state": {
      "_model_module": "@jupyter-widgets/base",
      "_model_module_version": "1.2.0",
      "_model_name": "LayoutModel",
      "_view_count": null,
      "_view_module": "@jupyter-widgets/base",
      "_view_module_version": "1.2.0",
      "_view_name": "LayoutView",
      "align_content": null,
      "align_items": null,
      "align_self": null,
      "border": null,
      "bottom": null,
      "display": null,
      "flex": null,
      "flex_flow": null,
      "grid_area": null,
      "grid_auto_columns": null,
      "grid_auto_flow": null,
      "grid_auto_rows": null,
      "grid_column": null,
      "grid_gap": null,
      "grid_row": null,
      "grid_template_areas": null,
      "grid_template_columns": null,
      "grid_template_rows": null,
      "height": null,
      "justify_content": null,
      "justify_items": null,
      "left": null,
      "margin": null,
      "max_height": null,
      "max_width": null,
      "min_height": null,
      "min_width": null,
      "object_fit": null,
      "object_position": null,
      "order": null,
      "overflow": null,
      "overflow_x": null,
      "overflow_y": null,
      "padding": null,
      "right": null,
      "top": null,
      "visibility": null,
      "width": null
     }
    },
    "710041c029bc45cb8b6e53cc09e60b35": {
     "model_module": "@jupyter-widgets/base",
     "model_module_version": "1.2.0",
     "model_name": "LayoutModel",
     "state": {
      "_model_module": "@jupyter-widgets/base",
      "_model_module_version": "1.2.0",
      "_model_name": "LayoutModel",
      "_view_count": null,
      "_view_module": "@jupyter-widgets/base",
      "_view_module_version": "1.2.0",
      "_view_name": "LayoutView",
      "align_content": null,
      "align_items": null,
      "align_self": null,
      "border": null,
      "bottom": null,
      "display": null,
      "flex": null,
      "flex_flow": null,
      "grid_area": null,
      "grid_auto_columns": null,
      "grid_auto_flow": null,
      "grid_auto_rows": null,
      "grid_column": null,
      "grid_gap": null,
      "grid_row": null,
      "grid_template_areas": null,
      "grid_template_columns": null,
      "grid_template_rows": null,
      "height": null,
      "justify_content": null,
      "justify_items": null,
      "left": null,
      "margin": null,
      "max_height": null,
      "max_width": null,
      "min_height": null,
      "min_width": null,
      "object_fit": null,
      "object_position": null,
      "order": null,
      "overflow": null,
      "overflow_x": null,
      "overflow_y": null,
      "padding": null,
      "right": null,
      "top": null,
      "visibility": null,
      "width": null
     }
    },
    "74d7e0b726cc491baba2f7217243e786": {
     "model_module": "@jupyter-widgets/controls",
     "model_module_version": "1.5.0",
     "model_name": "FloatProgressModel",
     "state": {
      "_dom_classes": [],
      "_model_module": "@jupyter-widgets/controls",
      "_model_module_version": "1.5.0",
      "_model_name": "FloatProgressModel",
      "_view_count": null,
      "_view_module": "@jupyter-widgets/controls",
      "_view_module_version": "1.5.0",
      "_view_name": "ProgressView",
      "bar_style": "success",
      "description": "",
      "description_tooltip": null,
      "layout": "IPY_MODEL_b155af46fc8f462ba73313654f75ba21",
      "max": 1961847,
      "min": 0,
      "orientation": "horizontal",
      "style": "IPY_MODEL_6839f3501c764692b8d1d88ea2728165",
      "value": 1961847
     }
    },
    "762e0183a9f442b0b8ddd3026f7579df": {
     "model_module": "@jupyter-widgets/controls",
     "model_module_version": "1.5.0",
     "model_name": "HTMLModel",
     "state": {
      "_dom_classes": [],
      "_model_module": "@jupyter-widgets/controls",
      "_model_module_version": "1.5.0",
      "_model_name": "HTMLModel",
      "_view_count": null,
      "_view_module": "@jupyter-widgets/controls",
      "_view_module_version": "1.5.0",
      "_view_name": "HTMLView",
      "description": "",
      "description_tooltip": null,
      "layout": "IPY_MODEL_41c3e6e122fc4f9587ee101677032544",
      "placeholder": "​",
      "style": "IPY_MODEL_cfe445bf10754e5a8a2c558fcce46f7d",
      "value": " 114/114 [00:00&lt;00:00, 2.34kB/s]"
     }
    },
    "7a2b7ac55bff4a3890e1ac576778eac6": {
     "model_module": "@jupyter-widgets/base",
     "model_module_version": "1.2.0",
     "model_name": "LayoutModel",
     "state": {
      "_model_module": "@jupyter-widgets/base",
      "_model_module_version": "1.2.0",
      "_model_name": "LayoutModel",
      "_view_count": null,
      "_view_module": "@jupyter-widgets/base",
      "_view_module_version": "1.2.0",
      "_view_name": "LayoutView",
      "align_content": null,
      "align_items": null,
      "align_self": null,
      "border": null,
      "bottom": null,
      "display": null,
      "flex": null,
      "flex_flow": null,
      "grid_area": null,
      "grid_auto_columns": null,
      "grid_auto_flow": null,
      "grid_auto_rows": null,
      "grid_column": null,
      "grid_gap": null,
      "grid_row": null,
      "grid_template_areas": null,
      "grid_template_columns": null,
      "grid_template_rows": null,
      "height": null,
      "justify_content": null,
      "justify_items": null,
      "left": null,
      "margin": null,
      "max_height": null,
      "max_width": null,
      "min_height": null,
      "min_width": null,
      "object_fit": null,
      "object_position": null,
      "order": null,
      "overflow": null,
      "overflow_x": null,
      "overflow_y": null,
      "padding": null,
      "right": null,
      "top": null,
      "visibility": null,
      "width": null
     }
    },
    "7bdd3cdf944942a288f6f0125fa028c8": {
     "model_module": "@jupyter-widgets/base",
     "model_module_version": "1.2.0",
     "model_name": "LayoutModel",
     "state": {
      "_model_module": "@jupyter-widgets/base",
      "_model_module_version": "1.2.0",
      "_model_name": "LayoutModel",
      "_view_count": null,
      "_view_module": "@jupyter-widgets/base",
      "_view_module_version": "1.2.0",
      "_view_name": "LayoutView",
      "align_content": null,
      "align_items": null,
      "align_self": null,
      "border": null,
      "bottom": null,
      "display": null,
      "flex": null,
      "flex_flow": null,
      "grid_area": null,
      "grid_auto_columns": null,
      "grid_auto_flow": null,
      "grid_auto_rows": null,
      "grid_column": null,
      "grid_gap": null,
      "grid_row": null,
      "grid_template_areas": null,
      "grid_template_columns": null,
      "grid_template_rows": null,
      "height": null,
      "justify_content": null,
      "justify_items": null,
      "left": null,
      "margin": null,
      "max_height": null,
      "max_width": null,
      "min_height": null,
      "min_width": null,
      "object_fit": null,
      "object_position": null,
      "order": null,
      "overflow": null,
      "overflow_x": null,
      "overflow_y": null,
      "padding": null,
      "right": null,
      "top": null,
      "visibility": null,
      "width": null
     }
    },
    "82429168be944459a8dc2f477a588f68": {
     "model_module": "@jupyter-widgets/base",
     "model_module_version": "1.2.0",
     "model_name": "LayoutModel",
     "state": {
      "_model_module": "@jupyter-widgets/base",
      "_model_module_version": "1.2.0",
      "_model_name": "LayoutModel",
      "_view_count": null,
      "_view_module": "@jupyter-widgets/base",
      "_view_module_version": "1.2.0",
      "_view_name": "LayoutView",
      "align_content": null,
      "align_items": null,
      "align_self": null,
      "border": null,
      "bottom": null,
      "display": null,
      "flex": null,
      "flex_flow": null,
      "grid_area": null,
      "grid_auto_columns": null,
      "grid_auto_flow": null,
      "grid_auto_rows": null,
      "grid_column": null,
      "grid_gap": null,
      "grid_row": null,
      "grid_template_areas": null,
      "grid_template_columns": null,
      "grid_template_rows": null,
      "height": null,
      "justify_content": null,
      "justify_items": null,
      "left": null,
      "margin": null,
      "max_height": null,
      "max_width": null,
      "min_height": null,
      "min_width": null,
      "object_fit": null,
      "object_position": null,
      "order": null,
      "overflow": null,
      "overflow_x": null,
      "overflow_y": null,
      "padding": null,
      "right": null,
      "top": null,
      "visibility": null,
      "width": null
     }
    },
    "82bf219f135a400fa172deab72507a02": {
     "model_module": "@jupyter-widgets/base",
     "model_module_version": "1.2.0",
     "model_name": "LayoutModel",
     "state": {
      "_model_module": "@jupyter-widgets/base",
      "_model_module_version": "1.2.0",
      "_model_name": "LayoutModel",
      "_view_count": null,
      "_view_module": "@jupyter-widgets/base",
      "_view_module_version": "1.2.0",
      "_view_name": "LayoutView",
      "align_content": null,
      "align_items": null,
      "align_self": null,
      "border": null,
      "bottom": null,
      "display": null,
      "flex": null,
      "flex_flow": null,
      "grid_area": null,
      "grid_auto_columns": null,
      "grid_auto_flow": null,
      "grid_auto_rows": null,
      "grid_column": null,
      "grid_gap": null,
      "grid_row": null,
      "grid_template_areas": null,
      "grid_template_columns": null,
      "grid_template_rows": null,
      "height": null,
      "justify_content": null,
      "justify_items": null,
      "left": null,
      "margin": null,
      "max_height": null,
      "max_width": null,
      "min_height": null,
      "min_width": null,
      "object_fit": null,
      "object_position": null,
      "order": null,
      "overflow": null,
      "overflow_x": null,
      "overflow_y": null,
      "padding": null,
      "right": null,
      "top": null,
      "visibility": null,
      "width": null
     }
    },
    "84dcda9fae224a4884fb1f7b51d161a7": {
     "model_module": "@jupyter-widgets/controls",
     "model_module_version": "1.5.0",
     "model_name": "HTMLModel",
     "state": {
      "_dom_classes": [],
      "_model_module": "@jupyter-widgets/controls",
      "_model_module_version": "1.5.0",
      "_model_name": "HTMLModel",
      "_view_count": null,
      "_view_module": "@jupyter-widgets/controls",
      "_view_module_version": "1.5.0",
      "_view_name": "HTMLView",
      "description": "",
      "description_tooltip": null,
      "layout": "IPY_MODEL_47d82e54a28843fe9528c1c909773729",
      "placeholder": "​",
      "style": "IPY_MODEL_e6be582cb5b5477ea67c91a2fcf3d82a",
      "value": " 452/452 [00:00&lt;00:00, 14.1kB/s]"
     }
    },
    "88ca3435b2c74300ad7cf1a1fc41dfff": {
     "model_module": "@jupyter-widgets/controls",
     "model_module_version": "1.5.0",
     "model_name": "FloatProgressModel",
     "state": {
      "_dom_classes": [],
      "_model_module": "@jupyter-widgets/controls",
      "_model_module_version": "1.5.0",
      "_model_name": "FloatProgressModel",
      "_view_count": null,
      "_view_module": "@jupyter-widgets/controls",
      "_view_module_version": "1.5.0",
      "_view_name": "ProgressView",
      "bar_style": "success",
      "description": "",
      "description_tooltip": null,
      "layout": "IPY_MODEL_2061235b834041e4ac6ed7d44f87c8cc",
      "max": 1575975,
      "min": 0,
      "orientation": "horizontal",
      "style": "IPY_MODEL_9cae80e14e4d4f48a83638b94436e894",
      "value": 1575975
     }
    },
    "8a7655fa6b764932a8aabca34eaf6b7d": {
     "model_module": "@jupyter-widgets/controls",
     "model_module_version": "1.5.0",
     "model_name": "ProgressStyleModel",
     "state": {
      "_model_module": "@jupyter-widgets/controls",
      "_model_module_version": "1.5.0",
      "_model_name": "ProgressStyleModel",
      "_view_count": null,
      "_view_module": "@jupyter-widgets/base",
      "_view_module_version": "1.2.0",
      "_view_name": "StyleView",
      "bar_color": null,
      "description_width": ""
     }
    },
    "8dc9796f2f35453da55c1650d15c5f73": {
     "model_module": "@jupyter-widgets/base",
     "model_module_version": "1.2.0",
     "model_name": "LayoutModel",
     "state": {
      "_model_module": "@jupyter-widgets/base",
      "_model_module_version": "1.2.0",
      "_model_name": "LayoutModel",
      "_view_count": null,
      "_view_module": "@jupyter-widgets/base",
      "_view_module_version": "1.2.0",
      "_view_name": "LayoutView",
      "align_content": null,
      "align_items": null,
      "align_self": null,
      "border": null,
      "bottom": null,
      "display": null,
      "flex": null,
      "flex_flow": null,
      "grid_area": null,
      "grid_auto_columns": null,
      "grid_auto_flow": null,
      "grid_auto_rows": null,
      "grid_column": null,
      "grid_gap": null,
      "grid_row": null,
      "grid_template_areas": null,
      "grid_template_columns": null,
      "grid_template_rows": null,
      "height": null,
      "justify_content": null,
      "justify_items": null,
      "left": null,
      "margin": null,
      "max_height": null,
      "max_width": null,
      "min_height": null,
      "min_width": null,
      "object_fit": null,
      "object_position": null,
      "order": null,
      "overflow": null,
      "overflow_x": null,
      "overflow_y": null,
      "padding": null,
      "right": null,
      "top": null,
      "visibility": null,
      "width": null
     }
    },
    "917f676953cc434fb5ad4cf4558c68ec": {
     "model_module": "@jupyter-widgets/controls",
     "model_module_version": "1.5.0",
     "model_name": "HBoxModel",
     "state": {
      "_dom_classes": [],
      "_model_module": "@jupyter-widgets/controls",
      "_model_module_version": "1.5.0",
      "_model_name": "HBoxModel",
      "_view_count": null,
      "_view_module": "@jupyter-widgets/controls",
      "_view_module_version": "1.5.0",
      "_view_name": "HBoxView",
      "box_style": "",
      "children": [
       "IPY_MODEL_9c7235b3a3724ad994e6951688368f35",
       "IPY_MODEL_e823d1cb86d0428fa02aeb1fb941f21c",
       "IPY_MODEL_998907c412b14c39849077da4d289b40"
      ],
      "layout": "IPY_MODEL_bc49c310c6e841b695a227f5cb33492b"
     }
    },
    "92afd9e76a8843a59019232aba6a6ad2": {
     "model_module": "@jupyter-widgets/controls",
     "model_module_version": "1.5.0",
     "model_name": "HBoxModel",
     "state": {
      "_dom_classes": [],
      "_model_module": "@jupyter-widgets/controls",
      "_model_module_version": "1.5.0",
      "_model_name": "HBoxModel",
      "_view_count": null,
      "_view_module": "@jupyter-widgets/controls",
      "_view_module_version": "1.5.0",
      "_view_name": "HBoxView",
      "box_style": "",
      "children": [
       "IPY_MODEL_224879663a67410e89d20993b78eb537",
       "IPY_MODEL_d0f3403454c74f27b3e40edc12682268",
       "IPY_MODEL_84dcda9fae224a4884fb1f7b51d161a7"
      ],
      "layout": "IPY_MODEL_bc6327ec5e604b409d9e953d8ee52b6e"
     }
    },
    "934a94275c614fb485ac7122b1869620": {
     "model_module": "@jupyter-widgets/controls",
     "model_module_version": "1.5.0",
     "model_name": "HTMLModel",
     "state": {
      "_dom_classes": [],
      "_model_module": "@jupyter-widgets/controls",
      "_model_module_version": "1.5.0",
      "_model_name": "HTMLModel",
      "_view_count": null,
      "_view_module": "@jupyter-widgets/controls",
      "_view_module_version": "1.5.0",
      "_view_name": "HTMLView",
      "description": "",
      "description_tooltip": null,
      "layout": "IPY_MODEL_673978732d194b16a68adfa93a3739b2",
      "placeholder": "​",
      "style": "IPY_MODEL_1fa6bb0ecef64203aaeaa5936bb7c5e5",
      "value": "README.md: 100%"
     }
    },
    "937fa12c09ae460db8d75c9aa5418a36": {
     "model_module": "@jupyter-widgets/controls",
     "model_module_version": "1.5.0",
     "model_name": "HTMLModel",
     "state": {
      "_dom_classes": [],
      "_model_module": "@jupyter-widgets/controls",
      "_model_module_version": "1.5.0",
      "_model_name": "HTMLModel",
      "_view_count": null,
      "_view_module": "@jupyter-widgets/controls",
      "_view_module_version": "1.5.0",
      "_view_name": "HTMLView",
      "description": "",
      "description_tooltip": null,
      "layout": "IPY_MODEL_ad6b4bfa167d4dc19276267084c7a434",
      "placeholder": "​",
      "style": "IPY_MODEL_5bc6e134ce5e436f864f8b702984e0b0",
      "value": "model.safetensors: 100%"
     }
    },
    "93a4b7e7574a46b6a89c5ebb64e7064f": {
     "model_module": "@jupyter-widgets/base",
     "model_module_version": "1.2.0",
     "model_name": "LayoutModel",
     "state": {
      "_model_module": "@jupyter-widgets/base",
      "_model_module_version": "1.2.0",
      "_model_name": "LayoutModel",
      "_view_count": null,
      "_view_module": "@jupyter-widgets/base",
      "_view_module_version": "1.2.0",
      "_view_name": "LayoutView",
      "align_content": null,
      "align_items": null,
      "align_self": null,
      "border": null,
      "bottom": null,
      "display": null,
      "flex": null,
      "flex_flow": null,
      "grid_area": null,
      "grid_auto_columns": null,
      "grid_auto_flow": null,
      "grid_auto_rows": null,
      "grid_column": null,
      "grid_gap": null,
      "grid_row": null,
      "grid_template_areas": null,
      "grid_template_columns": null,
      "grid_template_rows": null,
      "height": null,
      "justify_content": null,
      "justify_items": null,
      "left": null,
      "margin": null,
      "max_height": null,
      "max_width": null,
      "min_height": null,
      "min_width": null,
      "object_fit": null,
      "object_position": null,
      "order": null,
      "overflow": null,
      "overflow_x": null,
      "overflow_y": null,
      "padding": null,
      "right": null,
      "top": null,
      "visibility": null,
      "width": null
     }
    },
    "95e8f203527c49d1aee827f73df3231a": {
     "model_module": "@jupyter-widgets/base",
     "model_module_version": "1.2.0",
     "model_name": "LayoutModel",
     "state": {
      "_model_module": "@jupyter-widgets/base",
      "_model_module_version": "1.2.0",
      "_model_name": "LayoutModel",
      "_view_count": null,
      "_view_module": "@jupyter-widgets/base",
      "_view_module_version": "1.2.0",
      "_view_name": "LayoutView",
      "align_content": null,
      "align_items": null,
      "align_self": null,
      "border": null,
      "bottom": null,
      "display": null,
      "flex": null,
      "flex_flow": null,
      "grid_area": null,
      "grid_auto_columns": null,
      "grid_auto_flow": null,
      "grid_auto_rows": null,
      "grid_column": null,
      "grid_gap": null,
      "grid_row": null,
      "grid_template_areas": null,
      "grid_template_columns": null,
      "grid_template_rows": null,
      "height": null,
      "justify_content": null,
      "justify_items": null,
      "left": null,
      "margin": null,
      "max_height": null,
      "max_width": null,
      "min_height": null,
      "min_width": null,
      "object_fit": null,
      "object_position": null,
      "order": null,
      "overflow": null,
      "overflow_x": null,
      "overflow_y": null,
      "padding": null,
      "right": null,
      "top": null,
      "visibility": null,
      "width": null
     }
    },
    "97884fd664e1464a934641a951ed5c57": {
     "model_module": "@jupyter-widgets/base",
     "model_module_version": "1.2.0",
     "model_name": "LayoutModel",
     "state": {
      "_model_module": "@jupyter-widgets/base",
      "_model_module_version": "1.2.0",
      "_model_name": "LayoutModel",
      "_view_count": null,
      "_view_module": "@jupyter-widgets/base",
      "_view_module_version": "1.2.0",
      "_view_name": "LayoutView",
      "align_content": null,
      "align_items": null,
      "align_self": null,
      "border": null,
      "bottom": null,
      "display": null,
      "flex": null,
      "flex_flow": null,
      "grid_area": null,
      "grid_auto_columns": null,
      "grid_auto_flow": null,
      "grid_auto_rows": null,
      "grid_column": null,
      "grid_gap": null,
      "grid_row": null,
      "grid_template_areas": null,
      "grid_template_columns": null,
      "grid_template_rows": null,
      "height": null,
      "justify_content": null,
      "justify_items": null,
      "left": null,
      "margin": null,
      "max_height": null,
      "max_width": null,
      "min_height": null,
      "min_width": null,
      "object_fit": null,
      "object_position": null,
      "order": null,
      "overflow": null,
      "overflow_x": null,
      "overflow_y": null,
      "padding": null,
      "right": null,
      "top": null,
      "visibility": null,
      "width": null
     }
    },
    "998907c412b14c39849077da4d289b40": {
     "model_module": "@jupyter-widgets/controls",
     "model_module_version": "1.5.0",
     "model_name": "HTMLModel",
     "state": {
      "_dom_classes": [],
      "_model_module": "@jupyter-widgets/controls",
      "_model_module_version": "1.5.0",
      "_model_name": "HTMLModel",
      "_view_count": null,
      "_view_module": "@jupyter-widgets/controls",
      "_view_module_version": "1.5.0",
      "_view_name": "HTMLView",
      "description": "",
      "description_tooltip": null,
      "layout": "IPY_MODEL_26bd17c84bc143beb38fa5649aa2ba44",
      "placeholder": "​",
      "style": "IPY_MODEL_fbbab81714594aadaeab6942b1d4a1ba",
      "value": " 190/190 [00:00&lt;00:00, 5.59kB/s]"
     }
    },
    "9a56e398eaae4fed8a8af13b76f4c86b": {
     "model_module": "@jupyter-widgets/controls",
     "model_module_version": "1.5.0",
     "model_name": "HTMLModel",
     "state": {
      "_dom_classes": [],
      "_model_module": "@jupyter-widgets/controls",
      "_model_module_version": "1.5.0",
      "_model_name": "HTMLModel",
      "_view_count": null,
      "_view_module": "@jupyter-widgets/controls",
      "_view_module_version": "1.5.0",
      "_view_name": "HTMLView",
      "description": "",
      "description_tooltip": null,
      "layout": "IPY_MODEL_07534e6f12cd42f6a5b8beb2fbfe4d9e",
      "placeholder": "​",
      "style": "IPY_MODEL_3969563f57d24ef68a27af0a28ab8329",
      "value": "2_Dense/config.json: 100%"
     }
    },
    "9a913b0af74645dab7125e1e3321429e": {
     "model_module": "@jupyter-widgets/controls",
     "model_module_version": "1.5.0",
     "model_name": "ProgressStyleModel",
     "state": {
      "_model_module": "@jupyter-widgets/controls",
      "_model_module_version": "1.5.0",
      "_model_name": "ProgressStyleModel",
      "_view_count": null,
      "_view_module": "@jupyter-widgets/base",
      "_view_module_version": "1.2.0",
      "_view_name": "StyleView",
      "bar_color": null,
      "description_width": ""
     }
    },
    "9bf36195e74f48ce9d8afdc60d0f7747": {
     "model_module": "@jupyter-widgets/base",
     "model_module_version": "1.2.0",
     "model_name": "LayoutModel",
     "state": {
      "_model_module": "@jupyter-widgets/base",
      "_model_module_version": "1.2.0",
      "_model_name": "LayoutModel",
      "_view_count": null,
      "_view_module": "@jupyter-widgets/base",
      "_view_module_version": "1.2.0",
      "_view_name": "LayoutView",
      "align_content": null,
      "align_items": null,
      "align_self": null,
      "border": null,
      "bottom": null,
      "display": null,
      "flex": null,
      "flex_flow": null,
      "grid_area": null,
      "grid_auto_columns": null,
      "grid_auto_flow": null,
      "grid_auto_rows": null,
      "grid_column": null,
      "grid_gap": null,
      "grid_row": null,
      "grid_template_areas": null,
      "grid_template_columns": null,
      "grid_template_rows": null,
      "height": null,
      "justify_content": null,
      "justify_items": null,
      "left": null,
      "margin": null,
      "max_height": null,
      "max_width": null,
      "min_height": null,
      "min_width": null,
      "object_fit": null,
      "object_position": null,
      "order": null,
      "overflow": null,
      "overflow_x": null,
      "overflow_y": null,
      "padding": null,
      "right": null,
      "top": null,
      "visibility": null,
      "width": null
     }
    },
    "9c7235b3a3724ad994e6951688368f35": {
     "model_module": "@jupyter-widgets/controls",
     "model_module_version": "1.5.0",
     "model_name": "HTMLModel",
     "state": {
      "_dom_classes": [],
      "_model_module": "@jupyter-widgets/controls",
      "_model_module_version": "1.5.0",
      "_model_name": "HTMLModel",
      "_view_count": null,
      "_view_module": "@jupyter-widgets/controls",
      "_view_module_version": "1.5.0",
      "_view_name": "HTMLView",
      "description": "",
      "description_tooltip": null,
      "layout": "IPY_MODEL_93a4b7e7574a46b6a89c5ebb64e7064f",
      "placeholder": "​",
      "style": "IPY_MODEL_f8bc3543a2684f30b551e37a5e35a361",
      "value": "1_Pooling/config.json: 100%"
     }
    },
    "9cae80e14e4d4f48a83638b94436e894": {
     "model_module": "@jupyter-widgets/controls",
     "model_module_version": "1.5.0",
     "model_name": "ProgressStyleModel",
     "state": {
      "_model_module": "@jupyter-widgets/controls",
      "_model_module_version": "1.5.0",
      "_model_name": "ProgressStyleModel",
      "_view_count": null,
      "_view_module": "@jupyter-widgets/base",
      "_view_module_version": "1.2.0",
      "_view_name": "StyleView",
      "bar_color": null,
      "description_width": ""
     }
    },
    "9db12ea4606b48fc9e8ee17bf7bbf9ba": {
     "model_module": "@jupyter-widgets/controls",
     "model_module_version": "1.5.0",
     "model_name": "FloatProgressModel",
     "state": {
      "_dom_classes": [],
      "_model_module": "@jupyter-widgets/controls",
      "_model_module_version": "1.5.0",
      "_model_name": "FloatProgressModel",
      "_view_count": null,
      "_view_module": "@jupyter-widgets/controls",
      "_view_module_version": "1.5.0",
      "_view_name": "ProgressView",
      "bar_style": "success",
      "description": "",
      "description_tooltip": null,
      "layout": "IPY_MODEL_c47c8d43f86a4eafb8350b8c756eddf1",
      "max": 556,
      "min": 0,
      "orientation": "horizontal",
      "style": "IPY_MODEL_df9efcf4fffe415ea9ef76726e45ea98",
      "value": 556
     }
    },
    "9f1f803cdf8c478a99d8b49efa56b501": {
     "model_module": "@jupyter-widgets/base",
     "model_module_version": "1.2.0",
     "model_name": "LayoutModel",
     "state": {
      "_model_module": "@jupyter-widgets/base",
      "_model_module_version": "1.2.0",
      "_model_name": "LayoutModel",
      "_view_count": null,
      "_view_module": "@jupyter-widgets/base",
      "_view_module_version": "1.2.0",
      "_view_name": "LayoutView",
      "align_content": null,
      "align_items": null,
      "align_self": null,
      "border": null,
      "bottom": null,
      "display": null,
      "flex": null,
      "flex_flow": null,
      "grid_area": null,
      "grid_auto_columns": null,
      "grid_auto_flow": null,
      "grid_auto_rows": null,
      "grid_column": null,
      "grid_gap": null,
      "grid_row": null,
      "grid_template_areas": null,
      "grid_template_columns": null,
      "grid_template_rows": null,
      "height": null,
      "justify_content": null,
      "justify_items": null,
      "left": null,
      "margin": null,
      "max_height": null,
      "max_width": null,
      "min_height": null,
      "min_width": null,
      "object_fit": null,
      "object_position": null,
      "order": null,
      "overflow": null,
      "overflow_x": null,
      "overflow_y": null,
      "padding": null,
      "right": null,
      "top": null,
      "visibility": null,
      "width": null
     }
    },
    "a01cfa66060644f7978e6d5728720eea": {
     "model_module": "@jupyter-widgets/base",
     "model_module_version": "1.2.0",
     "model_name": "LayoutModel",
     "state": {
      "_model_module": "@jupyter-widgets/base",
      "_model_module_version": "1.2.0",
      "_model_name": "LayoutModel",
      "_view_count": null,
      "_view_module": "@jupyter-widgets/base",
      "_view_module_version": "1.2.0",
      "_view_name": "LayoutView",
      "align_content": null,
      "align_items": null,
      "align_self": null,
      "border": null,
      "bottom": null,
      "display": null,
      "flex": null,
      "flex_flow": null,
      "grid_area": null,
      "grid_auto_columns": null,
      "grid_auto_flow": null,
      "grid_auto_rows": null,
      "grid_column": null,
      "grid_gap": null,
      "grid_row": null,
      "grid_template_areas": null,
      "grid_template_columns": null,
      "grid_template_rows": null,
      "height": null,
      "justify_content": null,
      "justify_items": null,
      "left": null,
      "margin": null,
      "max_height": null,
      "max_width": null,
      "min_height": null,
      "min_width": null,
      "object_fit": null,
      "object_position": null,
      "order": null,
      "overflow": null,
      "overflow_x": null,
      "overflow_y": null,
      "padding": null,
      "right": null,
      "top": null,
      "visibility": null,
      "width": null
     }
    },
    "a0a50d75948c45a8adbef8f89b2e2464": {
     "model_module": "@jupyter-widgets/controls",
     "model_module_version": "1.5.0",
     "model_name": "DescriptionStyleModel",
     "state": {
      "_model_module": "@jupyter-widgets/controls",
      "_model_module_version": "1.5.0",
      "_model_name": "DescriptionStyleModel",
      "_view_count": null,
      "_view_module": "@jupyter-widgets/base",
      "_view_module_version": "1.2.0",
      "_view_name": "StyleView",
      "description_width": ""
     }
    },
    "a13bd16723724d9883e212fa84b33374": {
     "model_module": "@jupyter-widgets/base",
     "model_module_version": "1.2.0",
     "model_name": "LayoutModel",
     "state": {
      "_model_module": "@jupyter-widgets/base",
      "_model_module_version": "1.2.0",
      "_model_name": "LayoutModel",
      "_view_count": null,
      "_view_module": "@jupyter-widgets/base",
      "_view_module_version": "1.2.0",
      "_view_name": "LayoutView",
      "align_content": null,
      "align_items": null,
      "align_self": null,
      "border": null,
      "bottom": null,
      "display": null,
      "flex": null,
      "flex_flow": null,
      "grid_area": null,
      "grid_auto_columns": null,
      "grid_auto_flow": null,
      "grid_auto_rows": null,
      "grid_column": null,
      "grid_gap": null,
      "grid_row": null,
      "grid_template_areas": null,
      "grid_template_columns": null,
      "grid_template_rows": null,
      "height": null,
      "justify_content": null,
      "justify_items": null,
      "left": null,
      "margin": null,
      "max_height": null,
      "max_width": null,
      "min_height": null,
      "min_width": null,
      "object_fit": null,
      "object_position": null,
      "order": null,
      "overflow": null,
      "overflow_x": null,
      "overflow_y": null,
      "padding": null,
      "right": null,
      "top": null,
      "visibility": null,
      "width": null
     }
    },
    "a241dc821c9842cbb38fd9d28bd6380c": {
     "model_module": "@jupyter-widgets/controls",
     "model_module_version": "1.5.0",
     "model_name": "HBoxModel",
     "state": {
      "_dom_classes": [],
      "_model_module": "@jupyter-widgets/controls",
      "_model_module_version": "1.5.0",
      "_model_name": "HBoxModel",
      "_view_count": null,
      "_view_module": "@jupyter-widgets/controls",
      "_view_module_version": "1.5.0",
      "_view_name": "HBoxView",
      "box_style": "",
      "children": [
       "IPY_MODEL_36bc0c2efe23484a9a359efb9a11d643",
       "IPY_MODEL_88ca3435b2c74300ad7cf1a1fc41dfff",
       "IPY_MODEL_402ef42fd3c94ae393b50d24c5ffde13"
      ],
      "layout": "IPY_MODEL_b56abed3bff1448d88fe05bec5691371"
     }
    },
    "a3513bae071540f4bf34afa01e508b56": {
     "model_module": "@jupyter-widgets/base",
     "model_module_version": "1.2.0",
     "model_name": "LayoutModel",
     "state": {
      "_model_module": "@jupyter-widgets/base",
      "_model_module_version": "1.2.0",
      "_model_name": "LayoutModel",
      "_view_count": null,
      "_view_module": "@jupyter-widgets/base",
      "_view_module_version": "1.2.0",
      "_view_name": "LayoutView",
      "align_content": null,
      "align_items": null,
      "align_self": null,
      "border": null,
      "bottom": null,
      "display": null,
      "flex": null,
      "flex_flow": null,
      "grid_area": null,
      "grid_auto_columns": null,
      "grid_auto_flow": null,
      "grid_auto_rows": null,
      "grid_column": null,
      "grid_gap": null,
      "grid_row": null,
      "grid_template_areas": null,
      "grid_template_columns": null,
      "grid_template_rows": null,
      "height": null,
      "justify_content": null,
      "justify_items": null,
      "left": null,
      "margin": null,
      "max_height": null,
      "max_width": null,
      "min_height": null,
      "min_width": null,
      "object_fit": null,
      "object_position": null,
      "order": null,
      "overflow": null,
      "overflow_x": null,
      "overflow_y": null,
      "padding": null,
      "right": null,
      "top": null,
      "visibility": null,
      "width": null
     }
    },
    "a3d3cf772fc8440aafe28c4163a1a797": {
     "model_module": "@jupyter-widgets/controls",
     "model_module_version": "1.5.0",
     "model_name": "HBoxModel",
     "state": {
      "_dom_classes": [],
      "_model_module": "@jupyter-widgets/controls",
      "_model_module_version": "1.5.0",
      "_model_name": "HBoxModel",
      "_view_count": null,
      "_view_module": "@jupyter-widgets/controls",
      "_view_module_version": "1.5.0",
      "_view_name": "HBoxView",
      "box_style": "",
      "children": [
       "IPY_MODEL_d3cae0a3b53f4a9e987706357015a21b",
       "IPY_MODEL_65430176af9942b7b73e897b6bf868d7",
       "IPY_MODEL_b8479cea3df944058902b72c68fc3a3d"
      ],
      "layout": "IPY_MODEL_7a2b7ac55bff4a3890e1ac576778eac6"
     }
    },
    "a47beacd0f29433ca0698c9ad83e0d18": {
     "model_module": "@jupyter-widgets/controls",
     "model_module_version": "1.5.0",
     "model_name": "HTMLModel",
     "state": {
      "_dom_classes": [],
      "_model_module": "@jupyter-widgets/controls",
      "_model_module_version": "1.5.0",
      "_model_name": "HTMLModel",
      "_view_count": null,
      "_view_module": "@jupyter-widgets/controls",
      "_view_module_version": "1.5.0",
      "_view_name": "HTMLView",
      "description": "",
      "description_tooltip": null,
      "layout": "IPY_MODEL_1337ed7c15fa4c6989b07c36c70d250b",
      "placeholder": "​",
      "style": "IPY_MODEL_bcecfb80f3574912937f4f70f97f4496",
      "value": "sentence_bert_config.json: 100%"
     }
    },
    "a6d05a4f333f4f9f8db356b14adb39df": {
     "model_module": "@jupyter-widgets/controls",
     "model_module_version": "1.5.0",
     "model_name": "HBoxModel",
     "state": {
      "_dom_classes": [],
      "_model_module": "@jupyter-widgets/controls",
      "_model_module_version": "1.5.0",
      "_model_name": "HBoxModel",
      "_view_count": null,
      "_view_module": "@jupyter-widgets/controls",
      "_view_module_version": "1.5.0",
      "_view_name": "HBoxView",
      "box_style": "",
      "children": [
       "IPY_MODEL_934a94275c614fb485ac7122b1869620",
       "IPY_MODEL_dce4fb7c32434c14bd6d1694d8342ab3",
       "IPY_MODEL_0facbe7086be42d3a20446cbf5971b96"
      ],
      "layout": "IPY_MODEL_1bad3d530b2c43a9a0b944e2a63160bb"
     }
    },
    "a6ee06ba3041413793e0d7315265b981": {
     "model_module": "@jupyter-widgets/controls",
     "model_module_version": "1.5.0",
     "model_name": "ProgressStyleModel",
     "state": {
      "_model_module": "@jupyter-widgets/controls",
      "_model_module_version": "1.5.0",
      "_model_name": "ProgressStyleModel",
      "_view_count": null,
      "_view_module": "@jupyter-widgets/base",
      "_view_module_version": "1.2.0",
      "_view_name": "StyleView",
      "bar_color": null,
      "description_width": ""
     }
    },
    "a9ad9a28883f47a3be4a4e66b10aec37": {
     "model_module": "@jupyter-widgets/controls",
     "model_module_version": "1.5.0",
     "model_name": "DescriptionStyleModel",
     "state": {
      "_model_module": "@jupyter-widgets/controls",
      "_model_module_version": "1.5.0",
      "_model_name": "DescriptionStyleModel",
      "_view_count": null,
      "_view_module": "@jupyter-widgets/base",
      "_view_module_version": "1.2.0",
      "_view_name": "StyleView",
      "description_width": ""
     }
    },
    "a9f802818eb34296b314629b58e04bfd": {
     "model_module": "@jupyter-widgets/base",
     "model_module_version": "1.2.0",
     "model_name": "LayoutModel",
     "state": {
      "_model_module": "@jupyter-widgets/base",
      "_model_module_version": "1.2.0",
      "_model_name": "LayoutModel",
      "_view_count": null,
      "_view_module": "@jupyter-widgets/base",
      "_view_module_version": "1.2.0",
      "_view_name": "LayoutView",
      "align_content": null,
      "align_items": null,
      "align_self": null,
      "border": null,
      "bottom": null,
      "display": null,
      "flex": null,
      "flex_flow": null,
      "grid_area": null,
      "grid_auto_columns": null,
      "grid_auto_flow": null,
      "grid_auto_rows": null,
      "grid_column": null,
      "grid_gap": null,
      "grid_row": null,
      "grid_template_areas": null,
      "grid_template_columns": null,
      "grid_template_rows": null,
      "height": null,
      "justify_content": null,
      "justify_items": null,
      "left": null,
      "margin": null,
      "max_height": null,
      "max_width": null,
      "min_height": null,
      "min_width": null,
      "object_fit": null,
      "object_position": null,
      "order": null,
      "overflow": null,
      "overflow_x": null,
      "overflow_y": null,
      "padding": null,
      "right": null,
      "top": null,
      "visibility": null,
      "width": null
     }
    },
    "ad6b4bfa167d4dc19276267084c7a434": {
     "model_module": "@jupyter-widgets/base",
     "model_module_version": "1.2.0",
     "model_name": "LayoutModel",
     "state": {
      "_model_module": "@jupyter-widgets/base",
      "_model_module_version": "1.2.0",
      "_model_name": "LayoutModel",
      "_view_count": null,
      "_view_module": "@jupyter-widgets/base",
      "_view_module_version": "1.2.0",
      "_view_name": "LayoutView",
      "align_content": null,
      "align_items": null,
      "align_self": null,
      "border": null,
      "bottom": null,
      "display": null,
      "flex": null,
      "flex_flow": null,
      "grid_area": null,
      "grid_auto_columns": null,
      "grid_auto_flow": null,
      "grid_auto_rows": null,
      "grid_column": null,
      "grid_gap": null,
      "grid_row": null,
      "grid_template_areas": null,
      "grid_template_columns": null,
      "grid_template_rows": null,
      "height": null,
      "justify_content": null,
      "justify_items": null,
      "left": null,
      "margin": null,
      "max_height": null,
      "max_width": null,
      "min_height": null,
      "min_width": null,
      "object_fit": null,
      "object_position": null,
      "order": null,
      "overflow": null,
      "overflow_x": null,
      "overflow_y": null,
      "padding": null,
      "right": null,
      "top": null,
      "visibility": null,
      "width": null
     }
    },
    "b155af46fc8f462ba73313654f75ba21": {
     "model_module": "@jupyter-widgets/base",
     "model_module_version": "1.2.0",
     "model_name": "LayoutModel",
     "state": {
      "_model_module": "@jupyter-widgets/base",
      "_model_module_version": "1.2.0",
      "_model_name": "LayoutModel",
      "_view_count": null,
      "_view_module": "@jupyter-widgets/base",
      "_view_module_version": "1.2.0",
      "_view_name": "LayoutView",
      "align_content": null,
      "align_items": null,
      "align_self": null,
      "border": null,
      "bottom": null,
      "display": null,
      "flex": null,
      "flex_flow": null,
      "grid_area": null,
      "grid_auto_columns": null,
      "grid_auto_flow": null,
      "grid_auto_rows": null,
      "grid_column": null,
      "grid_gap": null,
      "grid_row": null,
      "grid_template_areas": null,
      "grid_template_columns": null,
      "grid_template_rows": null,
      "height": null,
      "justify_content": null,
      "justify_items": null,
      "left": null,
      "margin": null,
      "max_height": null,
      "max_width": null,
      "min_height": null,
      "min_width": null,
      "object_fit": null,
      "object_position": null,
      "order": null,
      "overflow": null,
      "overflow_x": null,
      "overflow_y": null,
      "padding": null,
      "right": null,
      "top": null,
      "visibility": null,
      "width": null
     }
    },
    "b56abed3bff1448d88fe05bec5691371": {
     "model_module": "@jupyter-widgets/base",
     "model_module_version": "1.2.0",
     "model_name": "LayoutModel",
     "state": {
      "_model_module": "@jupyter-widgets/base",
      "_model_module_version": "1.2.0",
      "_model_name": "LayoutModel",
      "_view_count": null,
      "_view_module": "@jupyter-widgets/base",
      "_view_module_version": "1.2.0",
      "_view_name": "LayoutView",
      "align_content": null,
      "align_items": null,
      "align_self": null,
      "border": null,
      "bottom": null,
      "display": null,
      "flex": null,
      "flex_flow": null,
      "grid_area": null,
      "grid_auto_columns": null,
      "grid_auto_flow": null,
      "grid_auto_rows": null,
      "grid_column": null,
      "grid_gap": null,
      "grid_row": null,
      "grid_template_areas": null,
      "grid_template_columns": null,
      "grid_template_rows": null,
      "height": null,
      "justify_content": null,
      "justify_items": null,
      "left": null,
      "margin": null,
      "max_height": null,
      "max_width": null,
      "min_height": null,
      "min_width": null,
      "object_fit": null,
      "object_position": null,
      "order": null,
      "overflow": null,
      "overflow_x": null,
      "overflow_y": null,
      "padding": null,
      "right": null,
      "top": null,
      "visibility": null,
      "width": null
     }
    },
    "b65ba9645c29456a86f7891131d25eb8": {
     "model_module": "@jupyter-widgets/controls",
     "model_module_version": "1.5.0",
     "model_name": "ProgressStyleModel",
     "state": {
      "_model_module": "@jupyter-widgets/controls",
      "_model_module_version": "1.5.0",
      "_model_name": "ProgressStyleModel",
      "_view_count": null,
      "_view_module": "@jupyter-widgets/base",
      "_view_module_version": "1.2.0",
      "_view_name": "StyleView",
      "bar_color": null,
      "description_width": ""
     }
    },
    "b8479cea3df944058902b72c68fc3a3d": {
     "model_module": "@jupyter-widgets/controls",
     "model_module_version": "1.5.0",
     "model_name": "HTMLModel",
     "state": {
      "_dom_classes": [],
      "_model_module": "@jupyter-widgets/controls",
      "_model_module_version": "1.5.0",
      "_model_name": "HTMLModel",
      "_view_count": null,
      "_view_module": "@jupyter-widgets/controls",
      "_view_module_version": "1.5.0",
      "_view_name": "HTMLView",
      "description": "",
      "description_tooltip": null,
      "layout": "IPY_MODEL_a9f802818eb34296b314629b58e04bfd",
      "placeholder": "​",
      "style": "IPY_MODEL_664a92721be442478b21a010d2df4b11",
      "value": " 539M/539M [00:03&lt;00:00, 155MB/s]"
     }
    },
    "b88c216fd9c340ffae540f2256609611": {
     "model_module": "@jupyter-widgets/controls",
     "model_module_version": "1.5.0",
     "model_name": "DescriptionStyleModel",
     "state": {
      "_model_module": "@jupyter-widgets/controls",
      "_model_module_version": "1.5.0",
      "_model_name": "DescriptionStyleModel",
      "_view_count": null,
      "_view_module": "@jupyter-widgets/base",
      "_view_module_version": "1.2.0",
      "_view_name": "StyleView",
      "description_width": ""
     }
    },
    "bc1b988ba5fa4610b98fc375f467d7c5": {
     "model_module": "@jupyter-widgets/controls",
     "model_module_version": "1.5.0",
     "model_name": "DescriptionStyleModel",
     "state": {
      "_model_module": "@jupyter-widgets/controls",
      "_model_module_version": "1.5.0",
      "_model_name": "DescriptionStyleModel",
      "_view_count": null,
      "_view_module": "@jupyter-widgets/base",
      "_view_module_version": "1.2.0",
      "_view_name": "StyleView",
      "description_width": ""
     }
    },
    "bc49c310c6e841b695a227f5cb33492b": {
     "model_module": "@jupyter-widgets/base",
     "model_module_version": "1.2.0",
     "model_name": "LayoutModel",
     "state": {
      "_model_module": "@jupyter-widgets/base",
      "_model_module_version": "1.2.0",
      "_model_name": "LayoutModel",
      "_view_count": null,
      "_view_module": "@jupyter-widgets/base",
      "_view_module_version": "1.2.0",
      "_view_name": "LayoutView",
      "align_content": null,
      "align_items": null,
      "align_self": null,
      "border": null,
      "bottom": null,
      "display": null,
      "flex": null,
      "flex_flow": null,
      "grid_area": null,
      "grid_auto_columns": null,
      "grid_auto_flow": null,
      "grid_auto_rows": null,
      "grid_column": null,
      "grid_gap": null,
      "grid_row": null,
      "grid_template_areas": null,
      "grid_template_columns": null,
      "grid_template_rows": null,
      "height": null,
      "justify_content": null,
      "justify_items": null,
      "left": null,
      "margin": null,
      "max_height": null,
      "max_width": null,
      "min_height": null,
      "min_width": null,
      "object_fit": null,
      "object_position": null,
      "order": null,
      "overflow": null,
      "overflow_x": null,
      "overflow_y": null,
      "padding": null,
      "right": null,
      "top": null,
      "visibility": null,
      "width": null
     }
    },
    "bc6327ec5e604b409d9e953d8ee52b6e": {
     "model_module": "@jupyter-widgets/base",
     "model_module_version": "1.2.0",
     "model_name": "LayoutModel",
     "state": {
      "_model_module": "@jupyter-widgets/base",
      "_model_module_version": "1.2.0",
      "_model_name": "LayoutModel",
      "_view_count": null,
      "_view_module": "@jupyter-widgets/base",
      "_view_module_version": "1.2.0",
      "_view_name": "LayoutView",
      "align_content": null,
      "align_items": null,
      "align_self": null,
      "border": null,
      "bottom": null,
      "display": null,
      "flex": null,
      "flex_flow": null,
      "grid_area": null,
      "grid_auto_columns": null,
      "grid_auto_flow": null,
      "grid_auto_rows": null,
      "grid_column": null,
      "grid_gap": null,
      "grid_row": null,
      "grid_template_areas": null,
      "grid_template_columns": null,
      "grid_template_rows": null,
      "height": null,
      "justify_content": null,
      "justify_items": null,
      "left": null,
      "margin": null,
      "max_height": null,
      "max_width": null,
      "min_height": null,
      "min_width": null,
      "object_fit": null,
      "object_position": null,
      "order": null,
      "overflow": null,
      "overflow_x": null,
      "overflow_y": null,
      "padding": null,
      "right": null,
      "top": null,
      "visibility": null,
      "width": null
     }
    },
    "bcecfb80f3574912937f4f70f97f4496": {
     "model_module": "@jupyter-widgets/controls",
     "model_module_version": "1.5.0",
     "model_name": "DescriptionStyleModel",
     "state": {
      "_model_module": "@jupyter-widgets/controls",
      "_model_module_version": "1.5.0",
      "_model_name": "DescriptionStyleModel",
      "_view_count": null,
      "_view_module": "@jupyter-widgets/base",
      "_view_module_version": "1.2.0",
      "_view_name": "StyleView",
      "description_width": ""
     }
    },
    "be6f06a47e3a463d925330f3fc30a5d9": {
     "model_module": "@jupyter-widgets/controls",
     "model_module_version": "1.5.0",
     "model_name": "HTMLModel",
     "state": {
      "_dom_classes": [],
      "_model_module": "@jupyter-widgets/controls",
      "_model_module_version": "1.5.0",
      "_model_name": "HTMLModel",
      "_view_count": null,
      "_view_module": "@jupyter-widgets/controls",
      "_view_module_version": "1.5.0",
      "_view_name": "HTMLView",
      "description": "",
      "description_tooltip": null,
      "layout": "IPY_MODEL_82bf219f135a400fa172deab72507a02",
      "placeholder": "​",
      "style": "IPY_MODEL_380bb3b019a6405d88ede22f252b220d",
      "value": "tokenizer.json: 100%"
     }
    },
    "c2d8af658994410da9af87fd8e8eed4f": {
     "model_module": "@jupyter-widgets/base",
     "model_module_version": "1.2.0",
     "model_name": "LayoutModel",
     "state": {
      "_model_module": "@jupyter-widgets/base",
      "_model_module_version": "1.2.0",
      "_model_name": "LayoutModel",
      "_view_count": null,
      "_view_module": "@jupyter-widgets/base",
      "_view_module_version": "1.2.0",
      "_view_name": "LayoutView",
      "align_content": null,
      "align_items": null,
      "align_self": null,
      "border": null,
      "bottom": null,
      "display": null,
      "flex": null,
      "flex_flow": null,
      "grid_area": null,
      "grid_auto_columns": null,
      "grid_auto_flow": null,
      "grid_auto_rows": null,
      "grid_column": null,
      "grid_gap": null,
      "grid_row": null,
      "grid_template_areas": null,
      "grid_template_columns": null,
      "grid_template_rows": null,
      "height": null,
      "justify_content": null,
      "justify_items": null,
      "left": null,
      "margin": null,
      "max_height": null,
      "max_width": null,
      "min_height": null,
      "min_width": null,
      "object_fit": null,
      "object_position": null,
      "order": null,
      "overflow": null,
      "overflow_x": null,
      "overflow_y": null,
      "padding": null,
      "right": null,
      "top": null,
      "visibility": null,
      "width": null
     }
    },
    "c47c8d43f86a4eafb8350b8c756eddf1": {
     "model_module": "@jupyter-widgets/base",
     "model_module_version": "1.2.0",
     "model_name": "LayoutModel",
     "state": {
      "_model_module": "@jupyter-widgets/base",
      "_model_module_version": "1.2.0",
      "_model_name": "LayoutModel",
      "_view_count": null,
      "_view_module": "@jupyter-widgets/base",
      "_view_module_version": "1.2.0",
      "_view_name": "LayoutView",
      "align_content": null,
      "align_items": null,
      "align_self": null,
      "border": null,
      "bottom": null,
      "display": null,
      "flex": null,
      "flex_flow": null,
      "grid_area": null,
      "grid_auto_columns": null,
      "grid_auto_flow": null,
      "grid_auto_rows": null,
      "grid_column": null,
      "grid_gap": null,
      "grid_row": null,
      "grid_template_areas": null,
      "grid_template_columns": null,
      "grid_template_rows": null,
      "height": null,
      "justify_content": null,
      "justify_items": null,
      "left": null,
      "margin": null,
      "max_height": null,
      "max_width": null,
      "min_height": null,
      "min_width": null,
      "object_fit": null,
      "object_position": null,
      "order": null,
      "overflow": null,
      "overflow_x": null,
      "overflow_y": null,
      "padding": null,
      "right": null,
      "top": null,
      "visibility": null,
      "width": null
     }
    },
    "c54c40e8deea421787513747c778fbef": {
     "model_module": "@jupyter-widgets/controls",
     "model_module_version": "1.5.0",
     "model_name": "HTMLModel",
     "state": {
      "_dom_classes": [],
      "_model_module": "@jupyter-widgets/controls",
      "_model_module_version": "1.5.0",
      "_model_name": "HTMLModel",
      "_view_count": null,
      "_view_module": "@jupyter-widgets/controls",
      "_view_module_version": "1.5.0",
      "_view_name": "HTMLView",
      "description": "",
      "description_tooltip": null,
      "layout": "IPY_MODEL_45fe77d8f4e5488bac860ff8b887d314",
      "placeholder": "​",
      "style": "IPY_MODEL_420c43c3c72243b6b0d336391d38dc22",
      "value": "vocab.txt: 100%"
     }
    },
    "c689c36d0e9c4fc0a5e98415876e00ba": {
     "model_module": "@jupyter-widgets/controls",
     "model_module_version": "1.5.0",
     "model_name": "DescriptionStyleModel",
     "state": {
      "_model_module": "@jupyter-widgets/controls",
      "_model_module_version": "1.5.0",
      "_model_name": "DescriptionStyleModel",
      "_view_count": null,
      "_view_module": "@jupyter-widgets/base",
      "_view_module_version": "1.2.0",
      "_view_name": "StyleView",
      "description_width": ""
     }
    },
    "c69ecb6d24a7455d89aad5cbb12c4870": {
     "model_module": "@jupyter-widgets/base",
     "model_module_version": "1.2.0",
     "model_name": "LayoutModel",
     "state": {
      "_model_module": "@jupyter-widgets/base",
      "_model_module_version": "1.2.0",
      "_model_name": "LayoutModel",
      "_view_count": null,
      "_view_module": "@jupyter-widgets/base",
      "_view_module_version": "1.2.0",
      "_view_name": "LayoutView",
      "align_content": null,
      "align_items": null,
      "align_self": null,
      "border": null,
      "bottom": null,
      "display": null,
      "flex": null,
      "flex_flow": null,
      "grid_area": null,
      "grid_auto_columns": null,
      "grid_auto_flow": null,
      "grid_auto_rows": null,
      "grid_column": null,
      "grid_gap": null,
      "grid_row": null,
      "grid_template_areas": null,
      "grid_template_columns": null,
      "grid_template_rows": null,
      "height": null,
      "justify_content": null,
      "justify_items": null,
      "left": null,
      "margin": null,
      "max_height": null,
      "max_width": null,
      "min_height": null,
      "min_width": null,
      "object_fit": null,
      "object_position": null,
      "order": null,
      "overflow": null,
      "overflow_x": null,
      "overflow_y": null,
      "padding": null,
      "right": null,
      "top": null,
      "visibility": null,
      "width": null
     }
    },
    "cb22c79decc3465ba5d1ea442c7d233b": {
     "model_module": "@jupyter-widgets/controls",
     "model_module_version": "1.5.0",
     "model_name": "HBoxModel",
     "state": {
      "_dom_classes": [],
      "_model_module": "@jupyter-widgets/controls",
      "_model_module_version": "1.5.0",
      "_model_name": "HBoxModel",
      "_view_count": null,
      "_view_module": "@jupyter-widgets/controls",
      "_view_module_version": "1.5.0",
      "_view_name": "HBoxView",
      "box_style": "",
      "children": [
       "IPY_MODEL_2e7b884700014d769d00b3dffc1b9fad",
       "IPY_MODEL_32490975bf824c629743a2aaf6d482a5",
       "IPY_MODEL_3446beb155884ea9b9b309b0cc30ae17"
      ],
      "layout": "IPY_MODEL_0982c2ecc72e49ae989cb4c0d5fe0e70"
     }
    },
    "cdad33c6af904013ae4c9aa7a1a8075d": {
     "model_module": "@jupyter-widgets/base",
     "model_module_version": "1.2.0",
     "model_name": "LayoutModel",
     "state": {
      "_model_module": "@jupyter-widgets/base",
      "_model_module_version": "1.2.0",
      "_model_name": "LayoutModel",
      "_view_count": null,
      "_view_module": "@jupyter-widgets/base",
      "_view_module_version": "1.2.0",
      "_view_name": "LayoutView",
      "align_content": null,
      "align_items": null,
      "align_self": null,
      "border": null,
      "bottom": null,
      "display": null,
      "flex": null,
      "flex_flow": null,
      "grid_area": null,
      "grid_auto_columns": null,
      "grid_auto_flow": null,
      "grid_auto_rows": null,
      "grid_column": null,
      "grid_gap": null,
      "grid_row": null,
      "grid_template_areas": null,
      "grid_template_columns": null,
      "grid_template_rows": null,
      "height": null,
      "justify_content": null,
      "justify_items": null,
      "left": null,
      "margin": null,
      "max_height": null,
      "max_width": null,
      "min_height": null,
      "min_width": null,
      "object_fit": null,
      "object_position": null,
      "order": null,
      "overflow": null,
      "overflow_x": null,
      "overflow_y": null,
      "padding": null,
      "right": null,
      "top": null,
      "visibility": null,
      "width": null
     }
    },
    "cfe445bf10754e5a8a2c558fcce46f7d": {
     "model_module": "@jupyter-widgets/controls",
     "model_module_version": "1.5.0",
     "model_name": "DescriptionStyleModel",
     "state": {
      "_model_module": "@jupyter-widgets/controls",
      "_model_module_version": "1.5.0",
      "_model_name": "DescriptionStyleModel",
      "_view_count": null,
      "_view_module": "@jupyter-widgets/base",
      "_view_module_version": "1.2.0",
      "_view_name": "StyleView",
      "description_width": ""
     }
    },
    "d0f3403454c74f27b3e40edc12682268": {
     "model_module": "@jupyter-widgets/controls",
     "model_module_version": "1.5.0",
     "model_name": "FloatProgressModel",
     "state": {
      "_dom_classes": [],
      "_model_module": "@jupyter-widgets/controls",
      "_model_module_version": "1.5.0",
      "_model_name": "FloatProgressModel",
      "_view_count": null,
      "_view_module": "@jupyter-widgets/controls",
      "_view_module_version": "1.5.0",
      "_view_name": "ProgressView",
      "bar_style": "success",
      "description": "",
      "description_tooltip": null,
      "layout": "IPY_MODEL_227a538b7deb4257a98fcfd739667e78",
      "max": 452,
      "min": 0,
      "orientation": "horizontal",
      "style": "IPY_MODEL_9a913b0af74645dab7125e1e3321429e",
      "value": 452
     }
    },
    "d140c50ec187489b8b174a75e660b77b": {
     "model_module": "@jupyter-widgets/controls",
     "model_module_version": "1.5.0",
     "model_name": "DescriptionStyleModel",
     "state": {
      "_model_module": "@jupyter-widgets/controls",
      "_model_module_version": "1.5.0",
      "_model_name": "DescriptionStyleModel",
      "_view_count": null,
      "_view_module": "@jupyter-widgets/base",
      "_view_module_version": "1.2.0",
      "_view_name": "StyleView",
      "description_width": ""
     }
    },
    "d317b98a0c9849999d50cc20adbce976": {
     "model_module": "@jupyter-widgets/controls",
     "model_module_version": "1.5.0",
     "model_name": "HTMLModel",
     "state": {
      "_dom_classes": [],
      "_model_module": "@jupyter-widgets/controls",
      "_model_module_version": "1.5.0",
      "_model_name": "HTMLModel",
      "_view_count": null,
      "_view_module": "@jupyter-widgets/controls",
      "_view_module_version": "1.5.0",
      "_view_name": "HTMLView",
      "description": "",
      "description_tooltip": null,
      "layout": "IPY_MODEL_70f18b4a96004498bfc930ff4931d815",
      "placeholder": "​",
      "style": "IPY_MODEL_506579f812c84d6cbfbd5790077d92c8",
      "value": " 112/112 [00:00&lt;00:00, 5.80kB/s]"
     }
    },
    "d3b5be7707e9479e9ac0e3165217d6cf": {
     "model_module": "@jupyter-widgets/controls",
     "model_module_version": "1.5.0",
     "model_name": "ProgressStyleModel",
     "state": {
      "_model_module": "@jupyter-widgets/controls",
      "_model_module_version": "1.5.0",
      "_model_name": "ProgressStyleModel",
      "_view_count": null,
      "_view_module": "@jupyter-widgets/base",
      "_view_module_version": "1.2.0",
      "_view_name": "StyleView",
      "bar_color": null,
      "description_width": ""
     }
    },
    "d3cae0a3b53f4a9e987706357015a21b": {
     "model_module": "@jupyter-widgets/controls",
     "model_module_version": "1.5.0",
     "model_name": "HTMLModel",
     "state": {
      "_dom_classes": [],
      "_model_module": "@jupyter-widgets/controls",
      "_model_module_version": "1.5.0",
      "_model_name": "HTMLModel",
      "_view_count": null,
      "_view_module": "@jupyter-widgets/controls",
      "_view_module_version": "1.5.0",
      "_view_name": "HTMLView",
      "description": "",
      "description_tooltip": null,
      "layout": "IPY_MODEL_cdad33c6af904013ae4c9aa7a1a8075d",
      "placeholder": "​",
      "style": "IPY_MODEL_a9ad9a28883f47a3be4a4e66b10aec37",
      "value": "model.safetensors: 100%"
     }
    },
    "d5c4e2de8b8c45409ac4f2e0e674df45": {
     "model_module": "@jupyter-widgets/base",
     "model_module_version": "1.2.0",
     "model_name": "LayoutModel",
     "state": {
      "_model_module": "@jupyter-widgets/base",
      "_model_module_version": "1.2.0",
      "_model_name": "LayoutModel",
      "_view_count": null,
      "_view_module": "@jupyter-widgets/base",
      "_view_module_version": "1.2.0",
      "_view_name": "LayoutView",
      "align_content": null,
      "align_items": null,
      "align_self": null,
      "border": null,
      "bottom": null,
      "display": null,
      "flex": null,
      "flex_flow": null,
      "grid_area": null,
      "grid_auto_columns": null,
      "grid_auto_flow": null,
      "grid_auto_rows": null,
      "grid_column": null,
      "grid_gap": null,
      "grid_row": null,
      "grid_template_areas": null,
      "grid_template_columns": null,
      "grid_template_rows": null,
      "height": null,
      "justify_content": null,
      "justify_items": null,
      "left": null,
      "margin": null,
      "max_height": null,
      "max_width": null,
      "min_height": null,
      "min_width": null,
      "object_fit": null,
      "object_position": null,
      "order": null,
      "overflow": null,
      "overflow_x": null,
      "overflow_y": null,
      "padding": null,
      "right": null,
      "top": null,
      "visibility": null,
      "width": null
     }
    },
    "dce4fb7c32434c14bd6d1694d8342ab3": {
     "model_module": "@jupyter-widgets/controls",
     "model_module_version": "1.5.0",
     "model_name": "FloatProgressModel",
     "state": {
      "_dom_classes": [],
      "_model_module": "@jupyter-widgets/controls",
      "_model_module_version": "1.5.0",
      "_model_name": "FloatProgressModel",
      "_view_count": null,
      "_view_module": "@jupyter-widgets/controls",
      "_view_module_version": "1.5.0",
      "_view_name": "ProgressView",
      "bar_style": "success",
      "description": "",
      "description_tooltip": null,
      "layout": "IPY_MODEL_710041c029bc45cb8b6e53cc09e60b35",
      "max": 2466,
      "min": 0,
      "orientation": "horizontal",
      "style": "IPY_MODEL_d3b5be7707e9479e9ac0e3165217d6cf",
      "value": 2466
     }
    },
    "df9efcf4fffe415ea9ef76726e45ea98": {
     "model_module": "@jupyter-widgets/controls",
     "model_module_version": "1.5.0",
     "model_name": "ProgressStyleModel",
     "state": {
      "_model_module": "@jupyter-widgets/controls",
      "_model_module_version": "1.5.0",
      "_model_name": "ProgressStyleModel",
      "_view_count": null,
      "_view_module": "@jupyter-widgets/base",
      "_view_module_version": "1.2.0",
      "_view_name": "StyleView",
      "bar_color": null,
      "description_width": ""
     }
    },
    "e38519030900491c9fe643a394bc26a8": {
     "model_module": "@jupyter-widgets/base",
     "model_module_version": "1.2.0",
     "model_name": "LayoutModel",
     "state": {
      "_model_module": "@jupyter-widgets/base",
      "_model_module_version": "1.2.0",
      "_model_name": "LayoutModel",
      "_view_count": null,
      "_view_module": "@jupyter-widgets/base",
      "_view_module_version": "1.2.0",
      "_view_name": "LayoutView",
      "align_content": null,
      "align_items": null,
      "align_self": null,
      "border": null,
      "bottom": null,
      "display": null,
      "flex": null,
      "flex_flow": null,
      "grid_area": null,
      "grid_auto_columns": null,
      "grid_auto_flow": null,
      "grid_auto_rows": null,
      "grid_column": null,
      "grid_gap": null,
      "grid_row": null,
      "grid_template_areas": null,
      "grid_template_columns": null,
      "grid_template_rows": null,
      "height": null,
      "justify_content": null,
      "justify_items": null,
      "left": null,
      "margin": null,
      "max_height": null,
      "max_width": null,
      "min_height": null,
      "min_width": null,
      "object_fit": null,
      "object_position": null,
      "order": null,
      "overflow": null,
      "overflow_x": null,
      "overflow_y": null,
      "padding": null,
      "right": null,
      "top": null,
      "visibility": null,
      "width": null
     }
    },
    "e4daefed1aa54d139fc2c161702f2d02": {
     "model_module": "@jupyter-widgets/controls",
     "model_module_version": "1.5.0",
     "model_name": "HBoxModel",
     "state": {
      "_dom_classes": [],
      "_model_module": "@jupyter-widgets/controls",
      "_model_module_version": "1.5.0",
      "_model_name": "HBoxModel",
      "_view_count": null,
      "_view_module": "@jupyter-widgets/controls",
      "_view_module_version": "1.5.0",
      "_view_name": "HBoxView",
      "box_style": "",
      "children": [
       "IPY_MODEL_09daae222515465885ed04c2bd957918",
       "IPY_MODEL_39157124a8f041e3a109e080aeb6d4e8",
       "IPY_MODEL_d317b98a0c9849999d50cc20adbce976"
      ],
      "layout": "IPY_MODEL_53acaeb8389348cd8f78808cbf2e2f40"
     }
    },
    "e6be582cb5b5477ea67c91a2fcf3d82a": {
     "model_module": "@jupyter-widgets/controls",
     "model_module_version": "1.5.0",
     "model_name": "DescriptionStyleModel",
     "state": {
      "_model_module": "@jupyter-widgets/controls",
      "_model_module_version": "1.5.0",
      "_model_name": "DescriptionStyleModel",
      "_view_count": null,
      "_view_module": "@jupyter-widgets/base",
      "_view_module_version": "1.2.0",
      "_view_name": "StyleView",
      "description_width": ""
     }
    },
    "e6c76ea14e0a4558adaa74fb47386336": {
     "model_module": "@jupyter-widgets/controls",
     "model_module_version": "1.5.0",
     "model_name": "DescriptionStyleModel",
     "state": {
      "_model_module": "@jupyter-widgets/controls",
      "_model_module_version": "1.5.0",
      "_model_name": "DescriptionStyleModel",
      "_view_count": null,
      "_view_module": "@jupyter-widgets/base",
      "_view_module_version": "1.2.0",
      "_view_name": "StyleView",
      "description_width": ""
     }
    },
    "e823d1cb86d0428fa02aeb1fb941f21c": {
     "model_module": "@jupyter-widgets/controls",
     "model_module_version": "1.5.0",
     "model_name": "FloatProgressModel",
     "state": {
      "_dom_classes": [],
      "_model_module": "@jupyter-widgets/controls",
      "_model_module_version": "1.5.0",
      "_model_name": "FloatProgressModel",
      "_view_count": null,
      "_view_module": "@jupyter-widgets/controls",
      "_view_module_version": "1.5.0",
      "_view_name": "ProgressView",
      "bar_style": "success",
      "description": "",
      "description_tooltip": null,
      "layout": "IPY_MODEL_1e1a8caa172e4e7ea6e44c4ce96c43d9",
      "max": 190,
      "min": 0,
      "orientation": "horizontal",
      "style": "IPY_MODEL_15be4ee0b196405b943cacf1cbfb22d3",
      "value": 190
     }
    },
    "ea00815745ce4fd0a4472703ab8ee4f6": {
     "model_module": "@jupyter-widgets/controls",
     "model_module_version": "1.5.0",
     "model_name": "ProgressStyleModel",
     "state": {
      "_model_module": "@jupyter-widgets/controls",
      "_model_module_version": "1.5.0",
      "_model_name": "ProgressStyleModel",
      "_view_count": null,
      "_view_module": "@jupyter-widgets/base",
      "_view_module_version": "1.2.0",
      "_view_name": "StyleView",
      "bar_color": null,
      "description_width": ""
     }
    },
    "ee130cb2f47f4309adeeab6919c8ee57": {
     "model_module": "@jupyter-widgets/controls",
     "model_module_version": "1.5.0",
     "model_name": "HBoxModel",
     "state": {
      "_dom_classes": [],
      "_model_module": "@jupyter-widgets/controls",
      "_model_module_version": "1.5.0",
      "_model_name": "HBoxModel",
      "_view_count": null,
      "_view_module": "@jupyter-widgets/controls",
      "_view_module_version": "1.5.0",
      "_view_name": "HBoxView",
      "box_style": "",
      "children": [
       "IPY_MODEL_9a56e398eaae4fed8a8af13b76f4c86b",
       "IPY_MODEL_64860e2ae9e047d8ac148d676146907c",
       "IPY_MODEL_762e0183a9f442b0b8ddd3026f7579df"
      ],
      "layout": "IPY_MODEL_208bc1e5a1344bb297f342c728a6489f"
     }
    },
    "f8bc3543a2684f30b551e37a5e35a361": {
     "model_module": "@jupyter-widgets/controls",
     "model_module_version": "1.5.0",
     "model_name": "DescriptionStyleModel",
     "state": {
      "_model_module": "@jupyter-widgets/controls",
      "_model_module_version": "1.5.0",
      "_model_name": "DescriptionStyleModel",
      "_view_count": null,
      "_view_module": "@jupyter-widgets/base",
      "_view_module_version": "1.2.0",
      "_view_name": "StyleView",
      "description_width": ""
     }
    },
    "fbbab81714594aadaeab6942b1d4a1ba": {
     "model_module": "@jupyter-widgets/controls",
     "model_module_version": "1.5.0",
     "model_name": "DescriptionStyleModel",
     "state": {
      "_model_module": "@jupyter-widgets/controls",
      "_model_module_version": "1.5.0",
      "_model_name": "DescriptionStyleModel",
      "_view_count": null,
      "_view_module": "@jupyter-widgets/base",
      "_view_module_version": "1.2.0",
      "_view_name": "StyleView",
      "description_width": ""
     }
    },
    "fbcf380f728e4d3e952eb189c5908cf4": {
     "model_module": "@jupyter-widgets/base",
     "model_module_version": "1.2.0",
     "model_name": "LayoutModel",
     "state": {
      "_model_module": "@jupyter-widgets/base",
      "_model_module_version": "1.2.0",
      "_model_name": "LayoutModel",
      "_view_count": null,
      "_view_module": "@jupyter-widgets/base",
      "_view_module_version": "1.2.0",
      "_view_name": "LayoutView",
      "align_content": null,
      "align_items": null,
      "align_self": null,
      "border": null,
      "bottom": null,
      "display": null,
      "flex": null,
      "flex_flow": null,
      "grid_area": null,
      "grid_auto_columns": null,
      "grid_auto_flow": null,
      "grid_auto_rows": null,
      "grid_column": null,
      "grid_gap": null,
      "grid_row": null,
      "grid_template_areas": null,
      "grid_template_columns": null,
      "grid_template_rows": null,
      "height": null,
      "justify_content": null,
      "justify_items": null,
      "left": null,
      "margin": null,
      "max_height": null,
      "max_width": null,
      "min_height": null,
      "min_width": null,
      "object_fit": null,
      "object_position": null,
      "order": null,
      "overflow": null,
      "overflow_x": null,
      "overflow_y": null,
      "padding": null,
      "right": null,
      "top": null,
      "visibility": null,
      "width": null
     }
    },
    "fc70bd2b8dca497aba469ffbc7202a57": {
     "model_module": "@jupyter-widgets/controls",
     "model_module_version": "1.5.0",
     "model_name": "HTMLModel",
     "state": {
      "_dom_classes": [],
      "_model_module": "@jupyter-widgets/controls",
      "_model_module_version": "1.5.0",
      "_model_name": "HTMLModel",
      "_view_count": null,
      "_view_module": "@jupyter-widgets/controls",
      "_view_module_version": "1.5.0",
      "_view_name": "HTMLView",
      "description": "",
      "description_tooltip": null,
      "layout": "IPY_MODEL_9bf36195e74f48ce9d8afdc60d0f7747",
      "placeholder": "​",
      "style": "IPY_MODEL_e6c76ea14e0a4558adaa74fb47386336",
      "value": " 341/341 [00:00&lt;00:00, 19.6kB/s]"
     }
    }
   }
  }
 },
 "nbformat": 4,
 "nbformat_minor": 0
}
